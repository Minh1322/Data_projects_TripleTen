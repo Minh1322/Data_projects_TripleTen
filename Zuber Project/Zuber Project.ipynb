{
 "cells": [
  {
   "cell_type": "markdown",
   "metadata": {},
   "source": [
    "# Zuber Project"
   ]
  },
  {
   "cell_type": "markdown",
   "metadata": {},
   "source": [
    "## Introduction\n",
    "I'm working as an analyst for Zuber, a new ride-sharing company that's launching in Chicago. My task is to find patterns in the available information. I want to understand passenger preferences and the impact of external factors on rides.\n",
    "\n",
    "Working with a database, I will analyze data from competitors and test a hypothesis about the impact of weather on ride frequency."
   ]
  },
  {
   "cell_type": "markdown",
   "metadata": {},
   "source": [
    "## Prepare the Data"
   ]
  },
  {
   "cell_type": "code",
   "execution_count": 1,
   "metadata": {},
   "outputs": [],
   "source": [
    "#Import libraries\n",
    "import pandas as pd\n",
    "import numpy as np\n",
    "from matplotlib import pyplot as plt\n",
    "from scipy import stats as st"
   ]
  },
  {
   "cell_type": "code",
   "execution_count": 2,
   "metadata": {},
   "outputs": [
    {
     "data": {
      "text/html": [
       "<div>\n",
       "<style scoped>\n",
       "    .dataframe tbody tr th:only-of-type {\n",
       "        vertical-align: middle;\n",
       "    }\n",
       "\n",
       "    .dataframe tbody tr th {\n",
       "        vertical-align: top;\n",
       "    }\n",
       "\n",
       "    .dataframe thead th {\n",
       "        text-align: right;\n",
       "    }\n",
       "</style>\n",
       "<table border=\"1\" class=\"dataframe\">\n",
       "  <thead>\n",
       "    <tr style=\"text-align: right;\">\n",
       "      <th></th>\n",
       "      <th>company_name</th>\n",
       "      <th>trips_amount</th>\n",
       "    </tr>\n",
       "  </thead>\n",
       "  <tbody>\n",
       "    <tr>\n",
       "      <th>0</th>\n",
       "      <td>Flash Cab</td>\n",
       "      <td>19558</td>\n",
       "    </tr>\n",
       "    <tr>\n",
       "      <th>1</th>\n",
       "      <td>Taxi Affiliation Services</td>\n",
       "      <td>11422</td>\n",
       "    </tr>\n",
       "    <tr>\n",
       "      <th>2</th>\n",
       "      <td>Medallion Leasing</td>\n",
       "      <td>10367</td>\n",
       "    </tr>\n",
       "    <tr>\n",
       "      <th>3</th>\n",
       "      <td>Yellow Cab</td>\n",
       "      <td>9888</td>\n",
       "    </tr>\n",
       "    <tr>\n",
       "      <th>4</th>\n",
       "      <td>Taxi Affiliation Service Yellow</td>\n",
       "      <td>9299</td>\n",
       "    </tr>\n",
       "    <tr>\n",
       "      <th>...</th>\n",
       "      <td>...</td>\n",
       "      <td>...</td>\n",
       "    </tr>\n",
       "    <tr>\n",
       "      <th>59</th>\n",
       "      <td>4053 - 40193 Adwar H. Nikola</td>\n",
       "      <td>7</td>\n",
       "    </tr>\n",
       "    <tr>\n",
       "      <th>60</th>\n",
       "      <td>2733 - 74600 Benny Jona</td>\n",
       "      <td>7</td>\n",
       "    </tr>\n",
       "    <tr>\n",
       "      <th>61</th>\n",
       "      <td>5874 - 73628 Sergey Cab Corp.</td>\n",
       "      <td>5</td>\n",
       "    </tr>\n",
       "    <tr>\n",
       "      <th>62</th>\n",
       "      <td>2241 - 44667 - Felman Corp</td>\n",
       "      <td>3</td>\n",
       "    </tr>\n",
       "    <tr>\n",
       "      <th>63</th>\n",
       "      <td>3556 - 36214 RC Andrews Cab</td>\n",
       "      <td>2</td>\n",
       "    </tr>\n",
       "  </tbody>\n",
       "</table>\n",
       "<p>64 rows × 2 columns</p>\n",
       "</div>"
      ],
      "text/plain": [
       "                       company_name  trips_amount\n",
       "0                         Flash Cab         19558\n",
       "1         Taxi Affiliation Services         11422\n",
       "2                 Medallion Leasing         10367\n",
       "3                        Yellow Cab          9888\n",
       "4   Taxi Affiliation Service Yellow          9299\n",
       "..                              ...           ...\n",
       "59     4053 - 40193 Adwar H. Nikola             7\n",
       "60          2733 - 74600 Benny Jona             7\n",
       "61    5874 - 73628 Sergey Cab Corp.             5\n",
       "62       2241 - 44667 - Felman Corp             3\n",
       "63      3556 - 36214 RC Andrews Cab             2\n",
       "\n",
       "[64 rows x 2 columns]"
      ]
     },
     "execution_count": 2,
     "metadata": {},
     "output_type": "execute_result"
    }
   ],
   "source": [
    "#Read in dataframes\n",
    "taxis = pd.read_csv('/datasets/project_sql_result_01.csv')\n",
    "taxis"
   ]
  },
  {
   "cell_type": "code",
   "execution_count": 3,
   "metadata": {},
   "outputs": [
    {
     "name": "stdout",
     "output_type": "stream",
     "text": [
      "<class 'pandas.core.frame.DataFrame'>\n",
      "RangeIndex: 64 entries, 0 to 63\n",
      "Data columns (total 2 columns):\n",
      " #   Column        Non-Null Count  Dtype \n",
      "---  ------        --------------  ----- \n",
      " 0   company_name  64 non-null     object\n",
      " 1   trips_amount  64 non-null     int64 \n",
      "dtypes: int64(1), object(1)\n",
      "memory usage: 1.1+ KB\n"
     ]
    }
   ],
   "source": [
    "taxis.info()"
   ]
  },
  {
   "cell_type": "code",
   "execution_count": 4,
   "metadata": {},
   "outputs": [
    {
     "data": {
      "text/html": [
       "<div>\n",
       "<style scoped>\n",
       "    .dataframe tbody tr th:only-of-type {\n",
       "        vertical-align: middle;\n",
       "    }\n",
       "\n",
       "    .dataframe tbody tr th {\n",
       "        vertical-align: top;\n",
       "    }\n",
       "\n",
       "    .dataframe thead th {\n",
       "        text-align: right;\n",
       "    }\n",
       "</style>\n",
       "<table border=\"1\" class=\"dataframe\">\n",
       "  <thead>\n",
       "    <tr style=\"text-align: right;\">\n",
       "      <th></th>\n",
       "      <th>dropoff_location_name</th>\n",
       "      <th>average_trips</th>\n",
       "    </tr>\n",
       "  </thead>\n",
       "  <tbody>\n",
       "    <tr>\n",
       "      <th>0</th>\n",
       "      <td>Loop</td>\n",
       "      <td>10727.466667</td>\n",
       "    </tr>\n",
       "    <tr>\n",
       "      <th>1</th>\n",
       "      <td>River North</td>\n",
       "      <td>9523.666667</td>\n",
       "    </tr>\n",
       "    <tr>\n",
       "      <th>2</th>\n",
       "      <td>Streeterville</td>\n",
       "      <td>6664.666667</td>\n",
       "    </tr>\n",
       "    <tr>\n",
       "      <th>3</th>\n",
       "      <td>West Loop</td>\n",
       "      <td>5163.666667</td>\n",
       "    </tr>\n",
       "    <tr>\n",
       "      <th>4</th>\n",
       "      <td>O'Hare</td>\n",
       "      <td>2546.900000</td>\n",
       "    </tr>\n",
       "    <tr>\n",
       "      <th>...</th>\n",
       "      <td>...</td>\n",
       "      <td>...</td>\n",
       "    </tr>\n",
       "    <tr>\n",
       "      <th>89</th>\n",
       "      <td>Mount Greenwood</td>\n",
       "      <td>3.137931</td>\n",
       "    </tr>\n",
       "    <tr>\n",
       "      <th>90</th>\n",
       "      <td>Hegewisch</td>\n",
       "      <td>3.117647</td>\n",
       "    </tr>\n",
       "    <tr>\n",
       "      <th>91</th>\n",
       "      <td>Burnside</td>\n",
       "      <td>2.333333</td>\n",
       "    </tr>\n",
       "    <tr>\n",
       "      <th>92</th>\n",
       "      <td>East Side</td>\n",
       "      <td>1.961538</td>\n",
       "    </tr>\n",
       "    <tr>\n",
       "      <th>93</th>\n",
       "      <td>Riverdale</td>\n",
       "      <td>1.800000</td>\n",
       "    </tr>\n",
       "  </tbody>\n",
       "</table>\n",
       "<p>94 rows × 2 columns</p>\n",
       "</div>"
      ],
      "text/plain": [
       "   dropoff_location_name  average_trips\n",
       "0                   Loop   10727.466667\n",
       "1            River North    9523.666667\n",
       "2          Streeterville    6664.666667\n",
       "3              West Loop    5163.666667\n",
       "4                 O'Hare    2546.900000\n",
       "..                   ...            ...\n",
       "89       Mount Greenwood       3.137931\n",
       "90             Hegewisch       3.117647\n",
       "91              Burnside       2.333333\n",
       "92             East Side       1.961538\n",
       "93             Riverdale       1.800000\n",
       "\n",
       "[94 rows x 2 columns]"
      ]
     },
     "execution_count": 4,
     "metadata": {},
     "output_type": "execute_result"
    }
   ],
   "source": [
    "trips = pd.read_csv('/datasets/project_sql_result_04.csv')\n",
    "trips"
   ]
  },
  {
   "cell_type": "code",
   "execution_count": 5,
   "metadata": {
    "scrolled": true
   },
   "outputs": [
    {
     "name": "stdout",
     "output_type": "stream",
     "text": [
      "<class 'pandas.core.frame.DataFrame'>\n",
      "RangeIndex: 94 entries, 0 to 93\n",
      "Data columns (total 2 columns):\n",
      " #   Column                 Non-Null Count  Dtype  \n",
      "---  ------                 --------------  -----  \n",
      " 0   dropoff_location_name  94 non-null     object \n",
      " 1   average_trips          94 non-null     float64\n",
      "dtypes: float64(1), object(1)\n",
      "memory usage: 1.6+ KB\n"
     ]
    }
   ],
   "source": [
    "trips.info()"
   ]
  },
  {
   "cell_type": "code",
   "execution_count": 6,
   "metadata": {},
   "outputs": [
    {
     "data": {
      "text/plain": [
       "company_name    0\n",
       "trips_amount    0\n",
       "dtype: int64"
      ]
     },
     "execution_count": 6,
     "metadata": {},
     "output_type": "execute_result"
    }
   ],
   "source": [
    "taxis.isna().sum()"
   ]
  },
  {
   "cell_type": "code",
   "execution_count": 7,
   "metadata": {},
   "outputs": [
    {
     "data": {
      "text/plain": [
       "dropoff_location_name    0\n",
       "average_trips            0\n",
       "dtype: int64"
      ]
     },
     "execution_count": 7,
     "metadata": {},
     "output_type": "execute_result"
    }
   ],
   "source": [
    "trips.isna().sum()"
   ]
  },
  {
   "cell_type": "code",
   "execution_count": 8,
   "metadata": {},
   "outputs": [
    {
     "data": {
      "text/plain": [
       "0"
      ]
     },
     "execution_count": 8,
     "metadata": {},
     "output_type": "execute_result"
    }
   ],
   "source": [
    "taxis.duplicated().sum()"
   ]
  },
  {
   "cell_type": "code",
   "execution_count": 9,
   "metadata": {},
   "outputs": [
    {
     "data": {
      "text/plain": [
       "0"
      ]
     },
     "execution_count": 9,
     "metadata": {},
     "output_type": "execute_result"
    }
   ],
   "source": [
    "trips.duplicated().sum()"
   ]
  },
  {
   "cell_type": "markdown",
   "metadata": {},
   "source": [
    "### Conclusion\n",
    "- We can see that there are no missing values or duplicates.\n",
    "- The column data types are also valid and don't need to be changed."
   ]
  },
  {
   "cell_type": "markdown",
   "metadata": {},
   "source": [
    "## Exploratory Data Analysis"
   ]
  },
  {
   "cell_type": "markdown",
   "metadata": {},
   "source": [
    "- Identify the top 10 neighborhoods in terms of drop-offs\n",
    "- Make graphs: taxi companies and number of rides, top 10 neighborhoods by number of dropoffs\n",
    "- Draw conclusions based on each graph and explain the results"
   ]
  },
  {
   "cell_type": "code",
   "execution_count": 10,
   "metadata": {},
   "outputs": [
    {
     "data": {
      "text/html": [
       "<div>\n",
       "<style scoped>\n",
       "    .dataframe tbody tr th:only-of-type {\n",
       "        vertical-align: middle;\n",
       "    }\n",
       "\n",
       "    .dataframe tbody tr th {\n",
       "        vertical-align: top;\n",
       "    }\n",
       "\n",
       "    .dataframe thead th {\n",
       "        text-align: right;\n",
       "    }\n",
       "</style>\n",
       "<table border=\"1\" class=\"dataframe\">\n",
       "  <thead>\n",
       "    <tr style=\"text-align: right;\">\n",
       "      <th></th>\n",
       "      <th>dropoff_location_name</th>\n",
       "      <th>average_trips</th>\n",
       "    </tr>\n",
       "  </thead>\n",
       "  <tbody>\n",
       "    <tr>\n",
       "      <th>0</th>\n",
       "      <td>Loop</td>\n",
       "      <td>10727.466667</td>\n",
       "    </tr>\n",
       "    <tr>\n",
       "      <th>1</th>\n",
       "      <td>River North</td>\n",
       "      <td>9523.666667</td>\n",
       "    </tr>\n",
       "    <tr>\n",
       "      <th>2</th>\n",
       "      <td>Streeterville</td>\n",
       "      <td>6664.666667</td>\n",
       "    </tr>\n",
       "    <tr>\n",
       "      <th>3</th>\n",
       "      <td>West Loop</td>\n",
       "      <td>5163.666667</td>\n",
       "    </tr>\n",
       "    <tr>\n",
       "      <th>4</th>\n",
       "      <td>O'Hare</td>\n",
       "      <td>2546.900000</td>\n",
       "    </tr>\n",
       "    <tr>\n",
       "      <th>5</th>\n",
       "      <td>Lake View</td>\n",
       "      <td>2420.966667</td>\n",
       "    </tr>\n",
       "    <tr>\n",
       "      <th>6</th>\n",
       "      <td>Grant Park</td>\n",
       "      <td>2068.533333</td>\n",
       "    </tr>\n",
       "    <tr>\n",
       "      <th>7</th>\n",
       "      <td>Museum Campus</td>\n",
       "      <td>1510.000000</td>\n",
       "    </tr>\n",
       "    <tr>\n",
       "      <th>8</th>\n",
       "      <td>Gold Coast</td>\n",
       "      <td>1364.233333</td>\n",
       "    </tr>\n",
       "    <tr>\n",
       "      <th>9</th>\n",
       "      <td>Sheffield &amp; DePaul</td>\n",
       "      <td>1259.766667</td>\n",
       "    </tr>\n",
       "  </tbody>\n",
       "</table>\n",
       "</div>"
      ],
      "text/plain": [
       "  dropoff_location_name  average_trips\n",
       "0                  Loop   10727.466667\n",
       "1           River North    9523.666667\n",
       "2         Streeterville    6664.666667\n",
       "3             West Loop    5163.666667\n",
       "4                O'Hare    2546.900000\n",
       "5             Lake View    2420.966667\n",
       "6            Grant Park    2068.533333\n",
       "7         Museum Campus    1510.000000\n",
       "8            Gold Coast    1364.233333\n",
       "9    Sheffield & DePaul    1259.766667"
      ]
     },
     "execution_count": 10,
     "metadata": {},
     "output_type": "execute_result"
    }
   ],
   "source": [
    "trips.head(10)"
   ]
  },
  {
   "cell_type": "code",
   "execution_count": 11,
   "metadata": {},
   "outputs": [
    {
     "data": {
      "image/png": "[encoded data removed]",
      "text/plain": [
       "<Figure size 1200x600 with 1 Axes>"
      ]
     },
     "metadata": {},
     "output_type": "display_data"
    }
   ],
   "source": [
    "trips.head(10).plot(kind = 'bar',\n",
    "                   x = 'dropoff_location_name',\n",
    "                   y = 'average_trips',\n",
    "                   figsize = (12,6),\n",
    "                   xlabel = 'Company',\n",
    "                   ylabel = 'Number of Trips',\n",
    "                   title = 'Top 10 Neighborhoods by Average Trip Count',\n",
    "                   legend = False)\n",
    "plt.xticks(rotation = 45)\n",
    "plt.show()"
   ]
  },
  {
   "cell_type": "markdown",
   "metadata": {},
   "source": [
    "The Loop neighborhood has the most average number of trips followed by River North and Streeterville."
   ]
  },
  {
   "cell_type": "code",
   "execution_count": 12,
   "metadata": {},
   "outputs": [
    {
     "data": {
      "image/png": "[encoded data removed]",
      "text/plain": [
       "<Figure size 1200x600 with 1 Axes>"
      ]
     },
     "metadata": {},
     "output_type": "display_data"
    }
   ],
   "source": [
    "taxis['trips_amount'].plot(kind = 'hist',\n",
    "                          title = 'Distribution of Number of Trips',\n",
    "                          bins = 20,\n",
    "                          figsize = (12,6))\n",
    "\n",
    "plt.xlabel('Number of Trips')\n",
    "plt.show()"
   ]
  },
  {
   "cell_type": "markdown",
   "metadata": {},
   "source": [
    "From what we can see, the amount of trips taxi companies usually have for 2 days are between 0 and 2500. There are outliers in our data with some companies having over 5000 and even almost 20000."
   ]
  },
  {
   "cell_type": "code",
   "execution_count": 13,
   "metadata": {},
   "outputs": [
    {
     "data": {
      "image/png": "[encoded data removed]",
      "text/plain": [
       "<Figure size 1200x600 with 1 Axes>"
      ]
     },
     "metadata": {},
     "output_type": "display_data"
    }
   ],
   "source": [
    "taxis.head(10).plot(kind = 'bar',\n",
    "                  x = 'company_name',\n",
    "                  y = 'trips_amount',\n",
    "                  xlabel = 'Company',\n",
    "                  ylabel = 'Number of Rides',\n",
    "                  title = 'Top 10 Taxi Companies by Number of Rides (Nov 15-16)',\n",
    "                  figsize = (12, 6),\n",
    "                  legend = False)\n",
    "\n",
    "plt.xticks(rotation = 45)\n",
    "plt.show()"
   ]
  },
  {
   "cell_type": "markdown",
   "metadata": {},
   "source": [
    "Flash Cab has by far the most amount of rides with nearly 75,000 more than the second most, Taxi Affiliation Services. We can say that Flash Cab is the most popular of the Chicago neighborhoods."
   ]
  },
  {
   "cell_type": "markdown",
   "metadata": {},
   "source": [
    "### Conclusion\n",
    "- We found that the Loop, River North, and Streeterville neighborhoods have the most amount of trips in the Chicago area.\n",
    "- The number of trips for 2 days are mostly in the range of 0-2500 trips.\n",
    "- Flash Cab was the most popular taxi company followed by Taxi Affiliation Services and Medallion Leasing. "
   ]
  },
  {
   "cell_type": "markdown",
   "metadata": {},
   "source": [
    "## Testing Hypothesis\n",
    "Test the hypothesis:\n",
    "\n",
    "\"The average duration of rides from the Loop to O'Hare International Airport changes on rainy Saturdays.\"\n",
    "\n",
    "Decide where to set the significance level (alpha) on your own.\n",
    "\n",
    "Explain how you formed the null and alternative hypotheses what criterion you used to test the hypotheses and why"
   ]
  },
  {
   "cell_type": "code",
   "execution_count": 14,
   "metadata": {},
   "outputs": [
    {
     "data": {
      "text/html": [
       "<div>\n",
       "<style scoped>\n",
       "    .dataframe tbody tr th:only-of-type {\n",
       "        vertical-align: middle;\n",
       "    }\n",
       "\n",
       "    .dataframe tbody tr th {\n",
       "        vertical-align: top;\n",
       "    }\n",
       "\n",
       "    .dataframe thead th {\n",
       "        text-align: right;\n",
       "    }\n",
       "</style>\n",
       "<table border=\"1\" class=\"dataframe\">\n",
       "  <thead>\n",
       "    <tr style=\"text-align: right;\">\n",
       "      <th></th>\n",
       "      <th>start_ts</th>\n",
       "      <th>weather_conditions</th>\n",
       "      <th>duration_seconds</th>\n",
       "    </tr>\n",
       "  </thead>\n",
       "  <tbody>\n",
       "    <tr>\n",
       "      <th>0</th>\n",
       "      <td>2017-11-25 16:00:00</td>\n",
       "      <td>Good</td>\n",
       "      <td>2410.0</td>\n",
       "    </tr>\n",
       "    <tr>\n",
       "      <th>1</th>\n",
       "      <td>2017-11-25 14:00:00</td>\n",
       "      <td>Good</td>\n",
       "      <td>1920.0</td>\n",
       "    </tr>\n",
       "    <tr>\n",
       "      <th>2</th>\n",
       "      <td>2017-11-25 12:00:00</td>\n",
       "      <td>Good</td>\n",
       "      <td>1543.0</td>\n",
       "    </tr>\n",
       "    <tr>\n",
       "      <th>3</th>\n",
       "      <td>2017-11-04 10:00:00</td>\n",
       "      <td>Good</td>\n",
       "      <td>2512.0</td>\n",
       "    </tr>\n",
       "    <tr>\n",
       "      <th>4</th>\n",
       "      <td>2017-11-11 07:00:00</td>\n",
       "      <td>Good</td>\n",
       "      <td>1440.0</td>\n",
       "    </tr>\n",
       "    <tr>\n",
       "      <th>...</th>\n",
       "      <td>...</td>\n",
       "      <td>...</td>\n",
       "      <td>...</td>\n",
       "    </tr>\n",
       "    <tr>\n",
       "      <th>1063</th>\n",
       "      <td>2017-11-25 11:00:00</td>\n",
       "      <td>Good</td>\n",
       "      <td>0.0</td>\n",
       "    </tr>\n",
       "    <tr>\n",
       "      <th>1064</th>\n",
       "      <td>2017-11-11 10:00:00</td>\n",
       "      <td>Good</td>\n",
       "      <td>1318.0</td>\n",
       "    </tr>\n",
       "    <tr>\n",
       "      <th>1065</th>\n",
       "      <td>2017-11-11 13:00:00</td>\n",
       "      <td>Good</td>\n",
       "      <td>2100.0</td>\n",
       "    </tr>\n",
       "    <tr>\n",
       "      <th>1066</th>\n",
       "      <td>2017-11-11 08:00:00</td>\n",
       "      <td>Good</td>\n",
       "      <td>1380.0</td>\n",
       "    </tr>\n",
       "    <tr>\n",
       "      <th>1067</th>\n",
       "      <td>2017-11-04 16:00:00</td>\n",
       "      <td>Bad</td>\n",
       "      <td>2834.0</td>\n",
       "    </tr>\n",
       "  </tbody>\n",
       "</table>\n",
       "<p>1068 rows × 3 columns</p>\n",
       "</div>"
      ],
      "text/plain": [
       "                 start_ts weather_conditions  duration_seconds\n",
       "0     2017-11-25 16:00:00               Good            2410.0\n",
       "1     2017-11-25 14:00:00               Good            1920.0\n",
       "2     2017-11-25 12:00:00               Good            1543.0\n",
       "3     2017-11-04 10:00:00               Good            2512.0\n",
       "4     2017-11-11 07:00:00               Good            1440.0\n",
       "...                   ...                ...               ...\n",
       "1063  2017-11-25 11:00:00               Good               0.0\n",
       "1064  2017-11-11 10:00:00               Good            1318.0\n",
       "1065  2017-11-11 13:00:00               Good            2100.0\n",
       "1066  2017-11-11 08:00:00               Good            1380.0\n",
       "1067  2017-11-04 16:00:00                Bad            2834.0\n",
       "\n",
       "[1068 rows x 3 columns]"
      ]
     },
     "execution_count": 14,
     "metadata": {},
     "output_type": "execute_result"
    }
   ],
   "source": [
    "rides = pd.read_csv('/datasets/project_sql_result_07.csv')\n",
    "rides"
   ]
  },
  {
   "cell_type": "code",
   "execution_count": 15,
   "metadata": {},
   "outputs": [
    {
     "name": "stdout",
     "output_type": "stream",
     "text": [
      "<class 'pandas.core.frame.DataFrame'>\n",
      "RangeIndex: 1068 entries, 0 to 1067\n",
      "Data columns (total 3 columns):\n",
      " #   Column              Non-Null Count  Dtype  \n",
      "---  ------              --------------  -----  \n",
      " 0   start_ts            1068 non-null   object \n",
      " 1   weather_conditions  1068 non-null   object \n",
      " 2   duration_seconds    1068 non-null   float64\n",
      "dtypes: float64(1), object(2)\n",
      "memory usage: 25.2+ KB\n"
     ]
    }
   ],
   "source": [
    "rides.info()"
   ]
  },
  {
   "cell_type": "code",
   "execution_count": 16,
   "metadata": {},
   "outputs": [
    {
     "data": {
      "text/plain": [
       "start_ts              0\n",
       "weather_conditions    0\n",
       "duration_seconds      0\n",
       "dtype: int64"
      ]
     },
     "execution_count": 16,
     "metadata": {},
     "output_type": "execute_result"
    }
   ],
   "source": [
    "rides.isna().sum()"
   ]
  },
  {
   "cell_type": "code",
   "execution_count": 17,
   "metadata": {},
   "outputs": [
    {
     "data": {
      "text/plain": [
       "197"
      ]
     },
     "execution_count": 17,
     "metadata": {},
     "output_type": "execute_result"
    }
   ],
   "source": [
    "rides.duplicated().sum()"
   ]
  },
  {
   "cell_type": "code",
   "execution_count": 18,
   "metadata": {
    "scrolled": true
   },
   "outputs": [
    {
     "data": {
      "text/html": [
       "<div>\n",
       "<style scoped>\n",
       "    .dataframe tbody tr th:only-of-type {\n",
       "        vertical-align: middle;\n",
       "    }\n",
       "\n",
       "    .dataframe tbody tr th {\n",
       "        vertical-align: top;\n",
       "    }\n",
       "\n",
       "    .dataframe thead th {\n",
       "        text-align: right;\n",
       "    }\n",
       "</style>\n",
       "<table border=\"1\" class=\"dataframe\">\n",
       "  <thead>\n",
       "    <tr style=\"text-align: right;\">\n",
       "      <th></th>\n",
       "      <th>start_ts</th>\n",
       "      <th>weather_conditions</th>\n",
       "      <th>duration_seconds</th>\n",
       "    </tr>\n",
       "  </thead>\n",
       "  <tbody>\n",
       "    <tr>\n",
       "      <th>62</th>\n",
       "      <td>2017-11-11 06:00:00</td>\n",
       "      <td>Good</td>\n",
       "      <td>1260.0</td>\n",
       "    </tr>\n",
       "    <tr>\n",
       "      <th>74</th>\n",
       "      <td>2017-11-11 08:00:00</td>\n",
       "      <td>Good</td>\n",
       "      <td>1380.0</td>\n",
       "    </tr>\n",
       "    <tr>\n",
       "      <th>76</th>\n",
       "      <td>2017-11-04 09:00:00</td>\n",
       "      <td>Good</td>\n",
       "      <td>1380.0</td>\n",
       "    </tr>\n",
       "    <tr>\n",
       "      <th>117</th>\n",
       "      <td>2017-11-11 07:00:00</td>\n",
       "      <td>Good</td>\n",
       "      <td>1380.0</td>\n",
       "    </tr>\n",
       "    <tr>\n",
       "      <th>119</th>\n",
       "      <td>2017-11-04 14:00:00</td>\n",
       "      <td>Good</td>\n",
       "      <td>3300.0</td>\n",
       "    </tr>\n",
       "    <tr>\n",
       "      <th>125</th>\n",
       "      <td>2017-11-11 08:00:00</td>\n",
       "      <td>Good</td>\n",
       "      <td>1380.0</td>\n",
       "    </tr>\n",
       "    <tr>\n",
       "      <th>126</th>\n",
       "      <td>2017-11-11 09:00:00</td>\n",
       "      <td>Good</td>\n",
       "      <td>1380.0</td>\n",
       "    </tr>\n",
       "    <tr>\n",
       "      <th>130</th>\n",
       "      <td>2017-11-11 10:00:00</td>\n",
       "      <td>Good</td>\n",
       "      <td>1260.0</td>\n",
       "    </tr>\n",
       "    <tr>\n",
       "      <th>179</th>\n",
       "      <td>2017-11-11 06:00:00</td>\n",
       "      <td>Good</td>\n",
       "      <td>1260.0</td>\n",
       "    </tr>\n",
       "    <tr>\n",
       "      <th>190</th>\n",
       "      <td>2017-11-04 08:00:00</td>\n",
       "      <td>Good</td>\n",
       "      <td>1323.0</td>\n",
       "    </tr>\n",
       "  </tbody>\n",
       "</table>\n",
       "</div>"
      ],
      "text/plain": [
       "                start_ts weather_conditions  duration_seconds\n",
       "62   2017-11-11 06:00:00               Good            1260.0\n",
       "74   2017-11-11 08:00:00               Good            1380.0\n",
       "76   2017-11-04 09:00:00               Good            1380.0\n",
       "117  2017-11-11 07:00:00               Good            1380.0\n",
       "119  2017-11-04 14:00:00               Good            3300.0\n",
       "125  2017-11-11 08:00:00               Good            1380.0\n",
       "126  2017-11-11 09:00:00               Good            1380.0\n",
       "130  2017-11-11 10:00:00               Good            1260.0\n",
       "179  2017-11-11 06:00:00               Good            1260.0\n",
       "190  2017-11-04 08:00:00               Good            1323.0"
      ]
     },
     "execution_count": 18,
     "metadata": {},
     "output_type": "execute_result"
    }
   ],
   "source": [
    "rides[rides.duplicated()].head(10)"
   ]
  },
  {
   "cell_type": "code",
   "execution_count": 19,
   "metadata": {},
   "outputs": [
    {
     "data": {
      "text/plain": [
       "0"
      ]
     },
     "execution_count": 19,
     "metadata": {},
     "output_type": "execute_result"
    }
   ],
   "source": [
    "rides = rides.drop_duplicates()\n",
    "rides.duplicated().sum()"
   ]
  },
  {
   "cell_type": "code",
   "execution_count": 20,
   "metadata": {},
   "outputs": [
    {
     "name": "stdout",
     "output_type": "stream",
     "text": [
      "<class 'pandas.core.frame.DataFrame'>\n",
      "Int64Index: 871 entries, 0 to 1067\n",
      "Data columns (total 3 columns):\n",
      " #   Column              Non-Null Count  Dtype         \n",
      "---  ------              --------------  -----         \n",
      " 0   start_ts            871 non-null    datetime64[ns]\n",
      " 1   weather_conditions  871 non-null    object        \n",
      " 2   duration_seconds    871 non-null    float64       \n",
      "dtypes: datetime64[ns](1), float64(1), object(1)\n",
      "memory usage: 27.2+ KB\n"
     ]
    },
    {
     "name": "stderr",
     "output_type": "stream",
     "text": [
      "/tmp/ipykernel_50/3558596249.py:1: SettingWithCopyWarning: \n",
      "A value is trying to be set on a copy of a slice from a DataFrame.\n",
      "Try using .loc[row_indexer,col_indexer] = value instead\n",
      "\n",
      "See the caveats in the documentation: https://pandas.pydata.org/pandas-docs/stable/user_guide/indexing.html#returning-a-view-versus-a-copy\n",
      "  rides['start_ts'] = pd.to_datetime(rides['start_ts'], format='%Y-%m-%d %H:%M:%S')\n"
     ]
    }
   ],
   "source": [
    "rides['start_ts'] = pd.to_datetime(rides['start_ts'], format='%Y-%m-%d %H:%M:%S')\n",
    "rides.info()"
   ]
  },
  {
   "cell_type": "markdown",
   "metadata": {},
   "source": [
    "Null Hypothesis: The average duration of rides from the Loop to O'Hare International Airport <b>does not</b> change on rainy Saturdays.\n",
    "\n",
    "Alternative Hypothesis: The average duration of rides from the Loop to O'Hare International Airport changes on rainy Saturdays."
   ]
  },
  {
   "cell_type": "code",
   "execution_count": 21,
   "metadata": {},
   "outputs": [
    {
     "name": "stdout",
     "output_type": "stream",
     "text": [
      "p-value: 7.397770692813658e-08\n",
      "We reject the null hypothesis\n"
     ]
    }
   ],
   "source": [
    "good_rides = rides[(rides[\"start_ts\"].dt.weekday == 5) & (rides[\"weather_conditions\"] == \"Good\")][\"duration_seconds\"]\n",
    "bad_rides = rides[(rides[\"start_ts\"].dt.weekday == 5) & (rides[\"weather_conditions\"] != \"Good\")][\"duration_seconds\"]\n",
    "\n",
    "alpha = 0.05\n",
    "results = st.ttest_ind(good_rides, bad_rides)\n",
    "print('p-value:', results.pvalue)\n",
    "\n",
    "if results.pvalue < alpha:\n",
    "    print(\"We reject the null hypothesis\")\n",
    "else:\n",
    "    print(\"We can't reject the null hypothesis\") "
   ]
  },
  {
   "cell_type": "markdown",
   "metadata": {},
   "source": [
    "We find that we can reject null hypothesis which means we can say that the average duration of rides <b>changes</b> on rainy Saturdays."
   ]
  },
  {
   "cell_type": "markdown",
   "metadata": {},
   "source": [
    "## Conclusion\n",
    "For preparing the data:\n",
    "- We can see that there are no missing values or duplicates.\n",
    "- The column data types are also valid and don't need to be changed.\n",
    "\n",
    "For exploratory data analysis:\n",
    "- We found that the Loop, River North, and Streeterville neighborhoods have the most amount of trips in the Chicago area.\n",
    "- The number of trips for 2 days are mostly in the range of 0-2500 trips.\n",
    "- Flash Cab was the most popular taxi company followed by Taxi Affiliation Services and Medallion Leasing. \n",
    "\n",
    "For testing our hypothesis:\n",
    "- We find that we can reject null hypothesis which means we can say that the average duration of rides does change on rainy Saturdays."
   ]
  }
 ],
 "metadata": {
  "ExecuteTimeLog": [
   {
    "duration": 4810,
    "start_time": "2024-08-19T06:12:39.157Z"
   },
   {
    "duration": 76,
    "start_time": "2024-08-19T06:13:34.764Z"
   },
   {
    "duration": 10,
    "start_time": "2024-08-19T06:18:13.002Z"
   },
   {
    "duration": 18,
    "start_time": "2024-08-19T06:18:17.882Z"
   },
   {
    "duration": 14,
    "start_time": "2024-08-19T06:18:47.500Z"
   },
   {
    "duration": 15,
    "start_time": "2024-08-19T06:18:57.438Z"
   },
   {
    "duration": 392,
    "start_time": "2024-08-19T06:23:38.876Z"
   },
   {
    "duration": 23,
    "start_time": "2024-08-19T06:25:00.417Z"
   },
   {
    "duration": 7,
    "start_time": "2024-08-19T06:25:14.612Z"
   },
   {
    "duration": 8,
    "start_time": "2024-08-19T06:25:27.192Z"
   },
   {
    "duration": 14,
    "start_time": "2024-08-19T06:25:51.338Z"
   },
   {
    "duration": 4,
    "start_time": "2024-08-19T06:30:07.254Z"
   },
   {
    "duration": 16,
    "start_time": "2024-08-19T06:30:07.264Z"
   },
   {
    "duration": 14,
    "start_time": "2024-08-19T06:30:07.283Z"
   },
   {
    "duration": 18,
    "start_time": "2024-08-19T06:30:07.300Z"
   },
   {
    "duration": 14,
    "start_time": "2024-08-19T06:30:07.322Z"
   },
   {
    "duration": 4723,
    "start_time": "2024-08-19T19:14:27.528Z"
   },
   {
    "duration": 22,
    "start_time": "2024-08-19T19:14:32.256Z"
   },
   {
    "duration": 30,
    "start_time": "2024-08-19T19:14:32.282Z"
   },
   {
    "duration": 17,
    "start_time": "2024-08-19T19:14:32.317Z"
   },
   {
    "duration": 14,
    "start_time": "2024-08-19T19:14:32.339Z"
   },
   {
    "duration": 9,
    "start_time": "2024-08-19T19:14:32.356Z"
   },
   {
    "duration": 8,
    "start_time": "2024-08-19T19:14:44.543Z"
   },
   {
    "duration": 7,
    "start_time": "2024-08-19T20:01:04.836Z"
   },
   {
    "duration": 7,
    "start_time": "2024-08-19T20:04:14.970Z"
   },
   {
    "duration": 8,
    "start_time": "2024-08-19T22:18:25.736Z"
   },
   {
    "duration": 13,
    "start_time": "2024-08-19T22:38:58.202Z"
   },
   {
    "duration": 8,
    "start_time": "2024-08-19T22:39:33.518Z"
   },
   {
    "duration": 13,
    "start_time": "2024-08-19T22:41:20.632Z"
   },
   {
    "duration": 11,
    "start_time": "2024-08-19T22:41:32.234Z"
   },
   {
    "duration": 226,
    "start_time": "2024-08-19T23:16:35.490Z"
   },
   {
    "duration": 262,
    "start_time": "2024-08-19T23:17:02.504Z"
   },
   {
    "duration": 287,
    "start_time": "2024-08-19T23:17:19.758Z"
   },
   {
    "duration": 300,
    "start_time": "2024-08-19T23:18:09.232Z"
   },
   {
    "duration": 322,
    "start_time": "2024-08-19T23:19:03.482Z"
   },
   {
    "duration": 377,
    "start_time": "2024-08-19T23:19:23.131Z"
   },
   {
    "duration": 309,
    "start_time": "2024-08-19T23:19:30.272Z"
   },
   {
    "duration": 308,
    "start_time": "2024-08-19T23:19:33.936Z"
   },
   {
    "duration": 302,
    "start_time": "2024-08-19T23:19:38.875Z"
   },
   {
    "duration": 14,
    "start_time": "2024-08-20T01:03:00.392Z"
   },
   {
    "duration": 202,
    "start_time": "2024-08-20T02:01:29.984Z"
   },
   {
    "duration": 241,
    "start_time": "2024-08-20T02:01:41.233Z"
   },
   {
    "duration": 282,
    "start_time": "2024-08-20T02:01:51.319Z"
   },
   {
    "duration": 284,
    "start_time": "2024-08-20T02:02:37.248Z"
   },
   {
    "duration": 8,
    "start_time": "2024-08-20T02:26:01.952Z"
   },
   {
    "duration": 282,
    "start_time": "2024-08-20T02:26:08.316Z"
   },
   {
    "duration": 290,
    "start_time": "2024-08-20T02:27:35.562Z"
   },
   {
    "duration": 6,
    "start_time": "2024-08-20T05:41:27.446Z"
   },
   {
    "duration": 1869,
    "start_time": "2024-08-20T05:41:32.637Z"
   },
   {
    "duration": 313,
    "start_time": "2024-08-20T05:46:32.931Z"
   },
   {
    "duration": 353,
    "start_time": "2024-08-20T05:48:02.469Z"
   },
   {
    "duration": 358,
    "start_time": "2024-08-20T05:48:29.671Z"
   },
   {
    "duration": 328,
    "start_time": "2024-08-20T06:09:45.231Z"
   },
   {
    "duration": 21,
    "start_time": "2024-08-20T08:55:32.534Z"
   },
   {
    "duration": 14,
    "start_time": "2024-08-20T08:55:42.181Z"
   },
   {
    "duration": 8,
    "start_time": "2024-08-20T08:56:32.087Z"
   },
   {
    "duration": 8,
    "start_time": "2024-08-20T08:56:52.499Z"
   },
   {
    "duration": 15,
    "start_time": "2024-08-20T08:57:23.243Z"
   },
   {
    "duration": 9,
    "start_time": "2024-08-20T08:58:22.913Z"
   },
   {
    "duration": 11,
    "start_time": "2024-08-20T08:58:35.623Z"
   },
   {
    "duration": 17,
    "start_time": "2024-08-20T08:59:21.187Z"
   },
   {
    "duration": 393,
    "start_time": "2024-08-20T09:15:43.974Z"
   },
   {
    "duration": 9,
    "start_time": "2024-08-20T09:15:53.173Z"
   },
   {
    "duration": 38,
    "start_time": "2024-08-20T09:20:19.404Z"
   },
   {
    "duration": 19,
    "start_time": "2024-08-20T09:20:24.293Z"
   },
   {
    "duration": 15,
    "start_time": "2024-08-20T09:20:32.829Z"
   },
   {
    "duration": 12,
    "start_time": "2024-08-20T09:20:47.508Z"
   },
   {
    "duration": 13,
    "start_time": "2024-08-20T09:20:54.412Z"
   },
   {
    "duration": 4681,
    "start_time": "2024-08-20T10:44:35.811Z"
   },
   {
    "duration": 26,
    "start_time": "2024-08-20T10:44:40.495Z"
   },
   {
    "duration": 15,
    "start_time": "2024-08-20T10:44:40.525Z"
   },
   {
    "duration": 19,
    "start_time": "2024-08-20T10:44:40.544Z"
   },
   {
    "duration": 34,
    "start_time": "2024-08-20T10:44:40.566Z"
   },
   {
    "duration": 9,
    "start_time": "2024-08-20T10:44:40.603Z"
   },
   {
    "duration": 8,
    "start_time": "2024-08-20T10:44:40.615Z"
   },
   {
    "duration": 7,
    "start_time": "2024-08-20T10:44:40.625Z"
   },
   {
    "duration": 56,
    "start_time": "2024-08-20T10:44:40.636Z"
   },
   {
    "duration": 10,
    "start_time": "2024-08-20T10:44:40.699Z"
   },
   {
    "duration": 328,
    "start_time": "2024-08-20T10:44:40.712Z"
   },
   {
    "duration": 302,
    "start_time": "2024-08-20T10:44:41.043Z"
   },
   {
    "duration": 363,
    "start_time": "2024-08-20T10:44:41.348Z"
   },
   {
    "duration": 22,
    "start_time": "2024-08-20T10:44:41.714Z"
   },
   {
    "duration": 14,
    "start_time": "2024-08-20T10:44:41.739Z"
   },
   {
    "duration": 9,
    "start_time": "2024-08-20T10:44:41.756Z"
   },
   {
    "duration": 25,
    "start_time": "2024-08-20T10:44:41.768Z"
   },
   {
    "duration": 14,
    "start_time": "2024-08-20T10:44:41.796Z"
   },
   {
    "duration": 12,
    "start_time": "2024-08-20T10:44:41.813Z"
   },
   {
    "duration": 62,
    "start_time": "2024-08-20T10:44:41.828Z"
   },
   {
    "duration": 12,
    "start_time": "2024-08-20T10:44:41.894Z"
   },
   {
    "duration": 5079,
    "start_time": "2024-08-20T21:43:49.726Z"
   },
   {
    "duration": 26,
    "start_time": "2024-08-20T21:43:54.809Z"
   },
   {
    "duration": 16,
    "start_time": "2024-08-20T21:43:54.839Z"
   },
   {
    "duration": 23,
    "start_time": "2024-08-20T21:43:54.859Z"
   },
   {
    "duration": 15,
    "start_time": "2024-08-20T21:43:54.916Z"
   },
   {
    "duration": 9,
    "start_time": "2024-08-20T21:43:54.936Z"
   },
   {
    "duration": 7,
    "start_time": "2024-08-20T21:43:54.949Z"
   },
   {
    "duration": 54,
    "start_time": "2024-08-20T21:43:54.960Z"
   },
   {
    "duration": 7,
    "start_time": "2024-08-20T21:43:55.017Z"
   },
   {
    "duration": 11,
    "start_time": "2024-08-20T21:43:55.028Z"
   },
   {
    "duration": 348,
    "start_time": "2024-08-20T21:43:55.042Z"
   },
   {
    "duration": 317,
    "start_time": "2024-08-20T21:43:55.393Z"
   },
   {
    "duration": 395,
    "start_time": "2024-08-20T21:43:55.714Z"
   },
   {
    "duration": 22,
    "start_time": "2024-08-20T21:43:56.115Z"
   },
   {
    "duration": 15,
    "start_time": "2024-08-20T21:43:56.140Z"
   },
   {
    "duration": 10,
    "start_time": "2024-08-20T21:43:56.158Z"
   },
   {
    "duration": 44,
    "start_time": "2024-08-20T21:43:56.171Z"
   },
   {
    "duration": 17,
    "start_time": "2024-08-20T21:43:56.218Z"
   },
   {
    "duration": 11,
    "start_time": "2024-08-20T21:43:56.239Z"
   },
   {
    "duration": 20,
    "start_time": "2024-08-20T21:43:56.253Z"
   },
   {
    "duration": 16,
    "start_time": "2024-08-20T21:43:56.314Z"
   }
  ],
  "kernelspec": {
   "display_name": "Python 3 (ipykernel)",
   "language": "python",
   "name": "python3"
  },
  "language_info": {
   "codemirror_mode": {
    "name": "ipython",
    "version": 3
   },
   "file_extension": ".py",
   "mimetype": "text/x-python",
   "name": "python",
   "nbconvert_exporter": "python",
   "pygments_lexer": "ipython3",
   "version": "3.9.19"
  },
  "toc": {
   "base_numbering": 1,
   "nav_menu": {},
   "number_sections": true,
   "sideBar": true,
   "skip_h1_title": true,
   "title_cell": "Table of Contents",
   "title_sidebar": "Contents",
   "toc_cell": false,
   "toc_position": {},
   "toc_section_display": true,
   "toc_window_display": false
  }
 },
 "nbformat": 4,
 "nbformat_minor": 2
}
