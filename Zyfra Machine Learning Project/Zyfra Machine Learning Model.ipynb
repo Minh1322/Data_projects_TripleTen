{
 "cells": [
  {
   "cell_type": "markdown",
   "metadata": {},
   "source": [
    "# Zyfra Machine Learning Model"
   ]
  },
  {
   "cell_type": "markdown",
   "metadata": {},
   "source": [
    "## Introduction\n",
    "\n",
    "Prepare a prototype of a machine learning model for Zyfra. The company develops efficiency solutions for heavy industry.\n",
    "\n",
    "The model should predict the amount of gold recovered from gold ore. You have the data on extraction and purification.\n",
    "\n",
    "The model will help to optimize the production and eliminate unprofitable parameters."
   ]
  },
  {
   "cell_type": "markdown",
   "metadata": {},
   "source": [
    "## Prepare the Data"
   ]
  },
  {
   "cell_type": "code",
   "execution_count": 1,
   "metadata": {},
   "outputs": [],
   "source": [
    "import pandas as pd\n",
    "import numpy as np\n",
    "import matplotlib.pyplot as plt\n",
    "from sklearn.metrics import mean_absolute_error\n",
    "from sklearn.model_selection import cross_val_score\n",
    "from sklearn.metrics import make_scorer\n",
    "from sklearn.preprocessing import StandardScaler\n",
    "from sklearn.linear_model import LinearRegression\n",
    "from sklearn.tree import DecisionTreeRegressor\n",
    "from sklearn.ensemble import RandomForestRegressor"
   ]
  },
  {
   "cell_type": "code",
   "execution_count": 2,
   "metadata": {},
   "outputs": [],
   "source": [
    "def read_data(path):\n",
    "    df = pd.read_csv(path)\n",
    "    print(df.info())\n",
    "    print(df.describe())\n",
    "    print(f'Null/Missing Values= {df.isna().sum()}')\n",
    "    print(f'Duplicate Values= {df.duplicated().sum()}')\n",
    "    return df"
   ]
  },
  {
   "cell_type": "code",
   "execution_count": 3,
   "metadata": {
    "scrolled": true
   },
   "outputs": [
    {
     "name": "stdout",
     "output_type": "stream",
     "text": [
      "<class 'pandas.core.frame.DataFrame'>\n",
      "RangeIndex: 16860 entries, 0 to 16859\n",
      "Data columns (total 87 columns):\n",
      " #   Column                                              Non-Null Count  Dtype  \n",
      "---  ------                                              --------------  -----  \n",
      " 0   date                                                16860 non-null  object \n",
      " 1   final.output.concentrate_ag                         16788 non-null  float64\n",
      " 2   final.output.concentrate_pb                         16788 non-null  float64\n",
      " 3   final.output.concentrate_sol                        16490 non-null  float64\n",
      " 4   final.output.concentrate_au                         16789 non-null  float64\n",
      " 5   final.output.recovery                               15339 non-null  float64\n",
      " 6   final.output.tail_ag                                16794 non-null  float64\n",
      " 7   final.output.tail_pb                                16677 non-null  float64\n",
      " 8   final.output.tail_sol                               16715 non-null  float64\n",
      " 9   final.output.tail_au                                16794 non-null  float64\n",
      " 10  primary_cleaner.input.sulfate                       15553 non-null  float64\n",
      " 11  primary_cleaner.input.depressant                    15598 non-null  float64\n",
      " 12  primary_cleaner.input.feed_size                     16860 non-null  float64\n",
      " 13  primary_cleaner.input.xanthate                      15875 non-null  float64\n",
      " 14  primary_cleaner.output.concentrate_ag               16778 non-null  float64\n",
      " 15  primary_cleaner.output.concentrate_pb               16502 non-null  float64\n",
      " 16  primary_cleaner.output.concentrate_sol              16224 non-null  float64\n",
      " 17  primary_cleaner.output.concentrate_au               16778 non-null  float64\n",
      " 18  primary_cleaner.output.tail_ag                      16777 non-null  float64\n",
      " 19  primary_cleaner.output.tail_pb                      16761 non-null  float64\n",
      " 20  primary_cleaner.output.tail_sol                     16579 non-null  float64\n",
      " 21  primary_cleaner.output.tail_au                      16777 non-null  float64\n",
      " 22  primary_cleaner.state.floatbank8_a_air              16820 non-null  float64\n",
      " 23  primary_cleaner.state.floatbank8_a_level            16827 non-null  float64\n",
      " 24  primary_cleaner.state.floatbank8_b_air              16820 non-null  float64\n",
      " 25  primary_cleaner.state.floatbank8_b_level            16833 non-null  float64\n",
      " 26  primary_cleaner.state.floatbank8_c_air              16822 non-null  float64\n",
      " 27  primary_cleaner.state.floatbank8_c_level            16833 non-null  float64\n",
      " 28  primary_cleaner.state.floatbank8_d_air              16821 non-null  float64\n",
      " 29  primary_cleaner.state.floatbank8_d_level            16833 non-null  float64\n",
      " 30  rougher.calculation.sulfate_to_au_concentrate       16833 non-null  float64\n",
      " 31  rougher.calculation.floatbank10_sulfate_to_au_feed  16833 non-null  float64\n",
      " 32  rougher.calculation.floatbank11_sulfate_to_au_feed  16833 non-null  float64\n",
      " 33  rougher.calculation.au_pb_ratio                     15618 non-null  float64\n",
      " 34  rougher.input.feed_ag                               16778 non-null  float64\n",
      " 35  rougher.input.feed_pb                               16632 non-null  float64\n",
      " 36  rougher.input.feed_rate                             16347 non-null  float64\n",
      " 37  rougher.input.feed_size                             16443 non-null  float64\n",
      " 38  rougher.input.feed_sol                              16568 non-null  float64\n",
      " 39  rougher.input.feed_au                               16777 non-null  float64\n",
      " 40  rougher.input.floatbank10_sulfate                   15816 non-null  float64\n",
      " 41  rougher.input.floatbank10_xanthate                  16514 non-null  float64\n",
      " 42  rougher.input.floatbank11_sulfate                   16237 non-null  float64\n",
      " 43  rougher.input.floatbank11_xanthate                  14956 non-null  float64\n",
      " 44  rougher.output.concentrate_ag                       16778 non-null  float64\n",
      " 45  rougher.output.concentrate_pb                       16778 non-null  float64\n",
      " 46  rougher.output.concentrate_sol                      16698 non-null  float64\n",
      " 47  rougher.output.concentrate_au                       16778 non-null  float64\n",
      " 48  rougher.output.recovery                             14287 non-null  float64\n",
      " 49  rougher.output.tail_ag                              14610 non-null  float64\n",
      " 50  rougher.output.tail_pb                              16778 non-null  float64\n",
      " 51  rougher.output.tail_sol                             14611 non-null  float64\n",
      " 52  rougher.output.tail_au                              14611 non-null  float64\n",
      " 53  rougher.state.floatbank10_a_air                     16807 non-null  float64\n",
      " 54  rougher.state.floatbank10_a_level                   16807 non-null  float64\n",
      " 55  rougher.state.floatbank10_b_air                     16807 non-null  float64\n",
      " 56  rougher.state.floatbank10_b_level                   16807 non-null  float64\n",
      " 57  rougher.state.floatbank10_c_air                     16807 non-null  float64\n",
      " 58  rougher.state.floatbank10_c_level                   16814 non-null  float64\n",
      " 59  rougher.state.floatbank10_d_air                     16802 non-null  float64\n",
      " 60  rougher.state.floatbank10_d_level                   16809 non-null  float64\n",
      " 61  rougher.state.floatbank10_e_air                     16257 non-null  float64\n",
      " 62  rougher.state.floatbank10_e_level                   16809 non-null  float64\n",
      " 63  rougher.state.floatbank10_f_air                     16802 non-null  float64\n",
      " 64  rougher.state.floatbank10_f_level                   16802 non-null  float64\n",
      " 65  secondary_cleaner.output.tail_ag                    16776 non-null  float64\n",
      " 66  secondary_cleaner.output.tail_pb                    16764 non-null  float64\n",
      " 67  secondary_cleaner.output.tail_sol                   14874 non-null  float64\n",
      " 68  secondary_cleaner.output.tail_au                    16778 non-null  float64\n",
      " 69  secondary_cleaner.state.floatbank2_a_air            16497 non-null  float64\n",
      " 70  secondary_cleaner.state.floatbank2_a_level          16751 non-null  float64\n",
      " 71  secondary_cleaner.state.floatbank2_b_air            16705 non-null  float64\n",
      " 72  secondary_cleaner.state.floatbank2_b_level          16748 non-null  float64\n",
      " 73  secondary_cleaner.state.floatbank3_a_air            16763 non-null  float64\n",
      " 74  secondary_cleaner.state.floatbank3_a_level          16747 non-null  float64\n",
      " 75  secondary_cleaner.state.floatbank3_b_air            16752 non-null  float64\n",
      " 76  secondary_cleaner.state.floatbank3_b_level          16750 non-null  float64\n",
      " 77  secondary_cleaner.state.floatbank4_a_air            16731 non-null  float64\n",
      " 78  secondary_cleaner.state.floatbank4_a_level          16747 non-null  float64\n",
      " 79  secondary_cleaner.state.floatbank4_b_air            16768 non-null  float64\n",
      " 80  secondary_cleaner.state.floatbank4_b_level          16767 non-null  float64\n",
      " 81  secondary_cleaner.state.floatbank5_a_air            16775 non-null  float64\n",
      " 82  secondary_cleaner.state.floatbank5_a_level          16775 non-null  float64\n",
      " 83  secondary_cleaner.state.floatbank5_b_air            16775 non-null  float64\n",
      " 84  secondary_cleaner.state.floatbank5_b_level          16776 non-null  float64\n",
      " 85  secondary_cleaner.state.floatbank6_a_air            16757 non-null  float64\n",
      " 86  secondary_cleaner.state.floatbank6_a_level          16775 non-null  float64\n",
      "dtypes: float64(86), object(1)\n",
      "memory usage: 11.2+ MB\n",
      "None\n",
      "       final.output.concentrate_ag  final.output.concentrate_pb  \\\n",
      "count                 16788.000000                 16788.000000   \n",
      "mean                      4.716907                     9.113559   \n",
      "std                       2.096718                     3.389495   \n",
      "min                       0.000000                     0.000000   \n",
      "25%                       3.971262                     8.825748   \n",
      "50%                       4.869346                    10.065316   \n",
      "75%                       5.821176                    11.054809   \n",
      "max                      16.001945                    17.031899   \n",
      "\n",
      "       final.output.concentrate_sol  final.output.concentrate_au  \\\n",
      "count                  16490.000000                 16789.000000   \n",
      "mean                       8.301123                    39.467217   \n",
      "std                        3.825760                    13.917227   \n",
      "min                        0.000000                     0.000000   \n",
      "25%                        6.939185                    42.055722   \n",
      "50%                        8.557228                    44.498874   \n",
      "75%                       10.289741                    45.976222   \n",
      "max                       18.124851                    53.611374   \n",
      "\n",
      "       final.output.recovery  final.output.tail_ag  final.output.tail_pb  \\\n",
      "count           15339.000000          16794.000000          16677.000000   \n",
      "mean               67.213166              8.757048              2.360327   \n",
      "std                11.960446              3.634103              1.215576   \n",
      "min                 0.000000              0.000000              0.000000   \n",
      "25%                62.625685              7.610544              1.641604   \n",
      "50%                67.644601              9.220393              2.453690   \n",
      "75%                72.824595             10.971110              3.192404   \n",
      "max               100.000000             19.552149              6.086532   \n",
      "\n",
      "       final.output.tail_sol  final.output.tail_au  \\\n",
      "count           16715.000000          16794.000000   \n",
      "mean                9.303932              2.687512   \n",
      "std                 4.263208              1.272757   \n",
      "min                 0.000000              0.000000   \n",
      "25%                 7.870275              2.172953   \n",
      "50%                10.021968              2.781132   \n",
      "75%                11.648573              3.416936   \n",
      "max                22.317730              9.789625   \n",
      "\n",
      "       primary_cleaner.input.sulfate  ...  \\\n",
      "count                   15553.000000  ...   \n",
      "mean                      129.479789  ...   \n",
      "std                        45.386931  ...   \n",
      "min                         0.000003  ...   \n",
      "25%                       103.064021  ...   \n",
      "50%                       131.783108  ...   \n",
      "75%                       159.539839  ...   \n",
      "max                       251.999948  ...   \n",
      "\n",
      "       secondary_cleaner.state.floatbank4_a_air  \\\n",
      "count                              16731.000000   \n",
      "mean                                  19.101874   \n",
      "std                                    6.883163   \n",
      "min                                    0.000000   \n",
      "25%                                   14.508299   \n",
      "50%                                   19.986958   \n",
      "75%                                   24.983961   \n",
      "max                                   60.000000   \n",
      "\n",
      "       secondary_cleaner.state.floatbank4_a_level  \\\n",
      "count                                16747.000000   \n",
      "mean                                  -494.164481   \n",
      "std                                     84.803334   \n",
      "min                                   -799.920713   \n",
      "25%                                   -500.837689   \n",
      "50%                                   -499.778379   \n",
      "75%                                   -494.648754   \n",
      "max                                   -127.692333   \n",
      "\n",
      "       secondary_cleaner.state.floatbank4_b_air  \\\n",
      "count                              16768.000000   \n",
      "mean                                  14.778164   \n",
      "std                                    5.999149   \n",
      "min                                    0.000000   \n",
      "25%                                   10.741388   \n",
      "50%                                   14.943933   \n",
      "75%                                   20.023751   \n",
      "max                                   28.003828   \n",
      "\n",
      "       secondary_cleaner.state.floatbank4_b_level  \\\n",
      "count                                16767.000000   \n",
      "mean                                  -476.600082   \n",
      "std                                     89.381172   \n",
      "min                                   -800.021781   \n",
      "25%                                   -500.269182   \n",
      "50%                                   -499.593286   \n",
      "75%                                   -400.137948   \n",
      "max                                    -71.472472   \n",
      "\n",
      "       secondary_cleaner.state.floatbank5_a_air  \\\n",
      "count                              16775.000000   \n",
      "mean                                  15.779488   \n",
      "std                                    6.834703   \n",
      "min                                   -0.423260   \n",
      "25%                                   10.977713   \n",
      "50%                                   15.998340   \n",
      "75%                                   20.000701   \n",
      "max                                   63.116298   \n",
      "\n",
      "       secondary_cleaner.state.floatbank5_a_level  \\\n",
      "count                                16775.000000   \n",
      "mean                                  -500.230146   \n",
      "std                                     76.983542   \n",
      "min                                   -799.741097   \n",
      "25%                                   -500.530594   \n",
      "50%                                   -499.784231   \n",
      "75%                                   -496.531781   \n",
      "max                                   -275.073125   \n",
      "\n",
      "       secondary_cleaner.state.floatbank5_b_air  \\\n",
      "count                              16775.000000   \n",
      "mean                                  12.377241   \n",
      "std                                    6.219989   \n",
      "min                                    0.427084   \n",
      "25%                                    8.925586   \n",
      "50%                                   11.092839   \n",
      "75%                                   15.979467   \n",
      "max                                   39.846228   \n",
      "\n",
      "       secondary_cleaner.state.floatbank5_b_level  \\\n",
      "count                                16776.000000   \n",
      "mean                                  -498.956257   \n",
      "std                                     82.146207   \n",
      "min                                   -800.258209   \n",
      "25%                                   -500.147603   \n",
      "50%                                   -499.933330   \n",
      "75%                                   -498.418000   \n",
      "max                                   -120.190931   \n",
      "\n",
      "       secondary_cleaner.state.floatbank6_a_air  \\\n",
      "count                              16757.000000   \n",
      "mean                                  18.429208   \n",
      "std                                    6.958294   \n",
      "min                                    0.024270   \n",
      "25%                                   13.977626   \n",
      "50%                                   18.034960   \n",
      "75%                                   24.984992   \n",
      "max                                   54.876806   \n",
      "\n",
      "       secondary_cleaner.state.floatbank6_a_level  \n",
      "count                                16775.000000  \n",
      "mean                                  -521.801826  \n",
      "std                                     77.170888  \n",
      "min                                   -810.473526  \n",
      "25%                                   -501.080595  \n",
      "50%                                   -500.109898  \n",
      "75%                                   -499.565540  \n",
      "max                                    -39.784927  \n",
      "\n",
      "[8 rows x 86 columns]\n",
      "Null/Missing Values= date                                            0\n",
      "final.output.concentrate_ag                    72\n",
      "final.output.concentrate_pb                    72\n",
      "final.output.concentrate_sol                  370\n",
      "final.output.concentrate_au                    71\n",
      "                                             ... \n",
      "secondary_cleaner.state.floatbank5_a_level     85\n",
      "secondary_cleaner.state.floatbank5_b_air       85\n",
      "secondary_cleaner.state.floatbank5_b_level     84\n",
      "secondary_cleaner.state.floatbank6_a_air      103\n",
      "secondary_cleaner.state.floatbank6_a_level     85\n",
      "Length: 87, dtype: int64\n"
     ]
    },
    {
     "name": "stdout",
     "output_type": "stream",
     "text": [
      "Duplicate Values= 0\n"
     ]
    }
   ],
   "source": [
    "train = read_data('/datasets/gold_recovery_train.csv')"
   ]
  },
  {
   "cell_type": "code",
   "execution_count": 4,
   "metadata": {
    "scrolled": true
   },
   "outputs": [
    {
     "name": "stdout",
     "output_type": "stream",
     "text": [
      "<class 'pandas.core.frame.DataFrame'>\n",
      "RangeIndex: 5856 entries, 0 to 5855\n",
      "Data columns (total 53 columns):\n",
      " #   Column                                      Non-Null Count  Dtype  \n",
      "---  ------                                      --------------  -----  \n",
      " 0   date                                        5856 non-null   object \n",
      " 1   primary_cleaner.input.sulfate               5554 non-null   float64\n",
      " 2   primary_cleaner.input.depressant            5572 non-null   float64\n",
      " 3   primary_cleaner.input.feed_size             5856 non-null   float64\n",
      " 4   primary_cleaner.input.xanthate              5690 non-null   float64\n",
      " 5   primary_cleaner.state.floatbank8_a_air      5840 non-null   float64\n",
      " 6   primary_cleaner.state.floatbank8_a_level    5840 non-null   float64\n",
      " 7   primary_cleaner.state.floatbank8_b_air      5840 non-null   float64\n",
      " 8   primary_cleaner.state.floatbank8_b_level    5840 non-null   float64\n",
      " 9   primary_cleaner.state.floatbank8_c_air      5840 non-null   float64\n",
      " 10  primary_cleaner.state.floatbank8_c_level    5840 non-null   float64\n",
      " 11  primary_cleaner.state.floatbank8_d_air      5840 non-null   float64\n",
      " 12  primary_cleaner.state.floatbank8_d_level    5840 non-null   float64\n",
      " 13  rougher.input.feed_ag                       5840 non-null   float64\n",
      " 14  rougher.input.feed_pb                       5840 non-null   float64\n",
      " 15  rougher.input.feed_rate                     5816 non-null   float64\n",
      " 16  rougher.input.feed_size                     5834 non-null   float64\n",
      " 17  rougher.input.feed_sol                      5789 non-null   float64\n",
      " 18  rougher.input.feed_au                       5840 non-null   float64\n",
      " 19  rougher.input.floatbank10_sulfate           5599 non-null   float64\n",
      " 20  rougher.input.floatbank10_xanthate          5733 non-null   float64\n",
      " 21  rougher.input.floatbank11_sulfate           5801 non-null   float64\n",
      " 22  rougher.input.floatbank11_xanthate          5503 non-null   float64\n",
      " 23  rougher.state.floatbank10_a_air             5839 non-null   float64\n",
      " 24  rougher.state.floatbank10_a_level           5840 non-null   float64\n",
      " 25  rougher.state.floatbank10_b_air             5839 non-null   float64\n",
      " 26  rougher.state.floatbank10_b_level           5840 non-null   float64\n",
      " 27  rougher.state.floatbank10_c_air             5839 non-null   float64\n",
      " 28  rougher.state.floatbank10_c_level           5840 non-null   float64\n",
      " 29  rougher.state.floatbank10_d_air             5839 non-null   float64\n",
      " 30  rougher.state.floatbank10_d_level           5840 non-null   float64\n",
      " 31  rougher.state.floatbank10_e_air             5839 non-null   float64\n",
      " 32  rougher.state.floatbank10_e_level           5840 non-null   float64\n",
      " 33  rougher.state.floatbank10_f_air             5839 non-null   float64\n",
      " 34  rougher.state.floatbank10_f_level           5840 non-null   float64\n",
      " 35  secondary_cleaner.state.floatbank2_a_air    5836 non-null   float64\n",
      " 36  secondary_cleaner.state.floatbank2_a_level  5840 non-null   float64\n",
      " 37  secondary_cleaner.state.floatbank2_b_air    5833 non-null   float64\n",
      " 38  secondary_cleaner.state.floatbank2_b_level  5840 non-null   float64\n",
      " 39  secondary_cleaner.state.floatbank3_a_air    5822 non-null   float64\n",
      " 40  secondary_cleaner.state.floatbank3_a_level  5840 non-null   float64\n",
      " 41  secondary_cleaner.state.floatbank3_b_air    5840 non-null   float64\n",
      " 42  secondary_cleaner.state.floatbank3_b_level  5840 non-null   float64\n",
      " 43  secondary_cleaner.state.floatbank4_a_air    5840 non-null   float64\n",
      " 44  secondary_cleaner.state.floatbank4_a_level  5840 non-null   float64\n",
      " 45  secondary_cleaner.state.floatbank4_b_air    5840 non-null   float64\n",
      " 46  secondary_cleaner.state.floatbank4_b_level  5840 non-null   float64\n",
      " 47  secondary_cleaner.state.floatbank5_a_air    5840 non-null   float64\n",
      " 48  secondary_cleaner.state.floatbank5_a_level  5840 non-null   float64\n",
      " 49  secondary_cleaner.state.floatbank5_b_air    5840 non-null   float64\n",
      " 50  secondary_cleaner.state.floatbank5_b_level  5840 non-null   float64\n",
      " 51  secondary_cleaner.state.floatbank6_a_air    5840 non-null   float64\n",
      " 52  secondary_cleaner.state.floatbank6_a_level  5840 non-null   float64\n",
      "dtypes: float64(52), object(1)\n",
      "memory usage: 2.4+ MB\n",
      "None\n",
      "       primary_cleaner.input.sulfate  primary_cleaner.input.depressant  \\\n",
      "count                    5554.000000                       5572.000000   \n",
      "mean                      170.515243                          8.482873   \n",
      "std                        49.608602                          3.353105   \n",
      "min                         0.000103                          0.000031   \n",
      "25%                       143.340022                          6.411500   \n",
      "50%                       176.103893                          8.023252   \n",
      "75%                       207.240761                         10.017725   \n",
      "max                       274.409626                         40.024582   \n",
      "\n",
      "       primary_cleaner.input.feed_size  primary_cleaner.input.xanthate  \\\n",
      "count                      5856.000000                     5690.000000   \n",
      "mean                          7.264651                        1.321420   \n",
      "std                           0.611526                        0.693246   \n",
      "min                           5.650000                        0.000003   \n",
      "25%                           6.885625                        0.888769   \n",
      "50%                           7.259333                        1.183362   \n",
      "75%                           7.650000                        1.763797   \n",
      "max                          15.500000                        5.433169   \n",
      "\n",
      "       primary_cleaner.state.floatbank8_a_air  \\\n",
      "count                             5840.000000   \n",
      "mean                              1481.990241   \n",
      "std                                310.453166   \n",
      "min                                  0.000000   \n",
      "25%                               1497.190681   \n",
      "50%                               1554.659783   \n",
      "75%                               1601.681656   \n",
      "max                               2212.432090   \n",
      "\n",
      "       primary_cleaner.state.floatbank8_a_level  \\\n",
      "count                               5840.000000   \n",
      "mean                                -509.057796   \n",
      "std                                   61.339256   \n",
      "min                                 -799.773788   \n",
      "25%                                 -500.455211   \n",
      "50%                                 -499.997402   \n",
      "75%                                 -499.575313   \n",
      "max                                  -57.195404   \n",
      "\n",
      "       primary_cleaner.state.floatbank8_b_air  \\\n",
      "count                             5840.000000   \n",
      "mean                              1486.908670   \n",
      "std                                313.224286   \n",
      "min                                  0.000000   \n",
      "25%                               1497.150234   \n",
      "50%                               1553.268084   \n",
      "75%                               1601.784707   \n",
      "max                               1975.147923   \n",
      "\n",
      "       primary_cleaner.state.floatbank8_b_level  \\\n",
      "count                               5840.000000   \n",
      "mean                                -511.743956   \n",
      "std                                   67.139074   \n",
      "min                                 -800.029078   \n",
      "25%                                 -500.936639   \n",
      "50%                                 -500.066588   \n",
      "75%                                 -499.323361   \n",
      "max                                 -142.527229   \n",
      "\n",
      "       primary_cleaner.state.floatbank8_c_air  \\\n",
      "count                             5840.000000   \n",
      "mean                              1468.495216   \n",
      "std                                309.980748   \n",
      "min                                  0.000000   \n",
      "25%                               1437.050321   \n",
      "50%                               1546.160672   \n",
      "75%                               1600.785573   \n",
      "max                               1715.053773   \n",
      "\n",
      "       primary_cleaner.state.floatbank8_c_level  ...  \\\n",
      "count                               5840.000000  ...   \n",
      "mean                                -509.741212  ...   \n",
      "std                                   62.671873  ...   \n",
      "min                                 -799.995127  ...   \n",
      "25%                                 -501.300441  ...   \n",
      "50%                                 -500.079537  ...   \n",
      "75%                                 -499.009545  ...   \n",
      "max                                 -150.937035  ...   \n",
      "\n",
      "       secondary_cleaner.state.floatbank4_a_air  \\\n",
      "count                               5840.000000   \n",
      "mean                                  15.636031   \n",
      "std                                    4.660835   \n",
      "min                                    0.000000   \n",
      "25%                                   12.057838   \n",
      "50%                                   17.001867   \n",
      "75%                                   18.030985   \n",
      "max                                   30.051797   \n",
      "\n",
      "       secondary_cleaner.state.floatbank4_a_level  \\\n",
      "count                                 5840.000000   \n",
      "mean                                  -516.266074   \n",
      "std                                     62.756748   \n",
      "min                                   -799.798523   \n",
      "25%                                   -501.054741   \n",
      "50%                                   -500.160145   \n",
      "75%                                   -499.441529   \n",
      "max                                   -401.565212   \n",
      "\n",
      "       secondary_cleaner.state.floatbank4_b_air  \\\n",
      "count                               5840.000000   \n",
      "mean                                  13.145702   \n",
      "std                                    4.304086   \n",
      "min                                    0.000000   \n",
      "25%                                   11.880119   \n",
      "50%                                   14.952102   \n",
      "75%                                   15.940011   \n",
      "max                                   31.269706   \n",
      "\n",
      "       secondary_cleaner.state.floatbank4_b_level  \\\n",
      "count                                 5840.000000   \n",
      "mean                                  -476.338907   \n",
      "std                                    105.549424   \n",
      "min                                   -800.836914   \n",
      "25%                                   -500.419113   \n",
      "50%                                   -499.644328   \n",
      "75%                                   -401.523664   \n",
      "max                                     -6.506986   \n",
      "\n",
      "       secondary_cleaner.state.floatbank5_a_air  \\\n",
      "count                               5840.000000   \n",
      "mean                                  12.308967   \n",
      "std                                    3.762827   \n",
      "min                                   -0.223393   \n",
      "25%                                   10.123459   \n",
      "50%                                   12.062877   \n",
      "75%                                   15.017881   \n",
      "max                                   25.258848   \n",
      "\n",
      "       secondary_cleaner.state.floatbank5_a_level  \\\n",
      "count                                 5840.000000   \n",
      "mean                                  -512.208126   \n",
      "std                                     58.864651   \n",
      "min                                   -799.661076   \n",
      "25%                                   -500.879383   \n",
      "50%                                   -500.047621   \n",
      "75%                                   -499.297033   \n",
      "max                                   -244.483566   \n",
      "\n",
      "       secondary_cleaner.state.floatbank5_b_air  \\\n",
      "count                               5840.000000   \n",
      "mean                                   9.470986   \n",
      "std                                    3.312471   \n",
      "min                                    0.528083   \n",
      "25%                                    7.991208   \n",
      "50%                                    9.980774   \n",
      "75%                                   11.992176   \n",
      "max                                   14.090194   \n",
      "\n",
      "       secondary_cleaner.state.floatbank5_b_level  \\\n",
      "count                                 5840.000000   \n",
      "mean                                  -505.017827   \n",
      "std                                     68.785898   \n",
      "min                                   -800.220337   \n",
      "25%                                   -500.223089   \n",
      "50%                                   -500.001338   \n",
      "75%                                   -499.722835   \n",
      "max                                   -126.463446   \n",
      "\n",
      "       secondary_cleaner.state.floatbank6_a_air  \\\n",
      "count                               5840.000000   \n",
      "mean                                  16.678722   \n",
      "std                                    5.404514   \n",
      "min                                   -0.079426   \n",
      "25%                                   13.012422   \n",
      "50%                                   16.007242   \n",
      "75%                                   21.009076   \n",
      "max                                   26.705889   \n",
      "\n",
      "       secondary_cleaner.state.floatbank6_a_level  \n",
      "count                                 5840.000000  \n",
      "mean                                  -512.351694  \n",
      "std                                     69.919839  \n",
      "min                                   -809.859706  \n",
      "25%                                   -500.833821  \n",
      "50%                                   -500.041085  \n",
      "75%                                   -499.395621  \n",
      "max                                    -29.093593  \n",
      "\n",
      "[8 rows x 52 columns]\n",
      "Null/Missing Values= date                                            0\n",
      "primary_cleaner.input.sulfate                 302\n",
      "primary_cleaner.input.depressant              284\n",
      "primary_cleaner.input.feed_size                 0\n",
      "primary_cleaner.input.xanthate                166\n",
      "primary_cleaner.state.floatbank8_a_air         16\n",
      "primary_cleaner.state.floatbank8_a_level       16\n",
      "primary_cleaner.state.floatbank8_b_air         16\n",
      "primary_cleaner.state.floatbank8_b_level       16\n",
      "primary_cleaner.state.floatbank8_c_air         16\n",
      "primary_cleaner.state.floatbank8_c_level       16\n",
      "primary_cleaner.state.floatbank8_d_air         16\n",
      "primary_cleaner.state.floatbank8_d_level       16\n",
      "rougher.input.feed_ag                          16\n",
      "rougher.input.feed_pb                          16\n",
      "rougher.input.feed_rate                        40\n",
      "rougher.input.feed_size                        22\n",
      "rougher.input.feed_sol                         67\n",
      "rougher.input.feed_au                          16\n",
      "rougher.input.floatbank10_sulfate             257\n",
      "rougher.input.floatbank10_xanthate            123\n",
      "rougher.input.floatbank11_sulfate              55\n",
      "rougher.input.floatbank11_xanthate            353\n",
      "rougher.state.floatbank10_a_air                17\n",
      "rougher.state.floatbank10_a_level              16\n",
      "rougher.state.floatbank10_b_air                17\n",
      "rougher.state.floatbank10_b_level              16\n",
      "rougher.state.floatbank10_c_air                17\n",
      "rougher.state.floatbank10_c_level              16\n",
      "rougher.state.floatbank10_d_air                17\n",
      "rougher.state.floatbank10_d_level              16\n",
      "rougher.state.floatbank10_e_air                17\n",
      "rougher.state.floatbank10_e_level              16\n",
      "rougher.state.floatbank10_f_air                17\n",
      "rougher.state.floatbank10_f_level              16\n",
      "secondary_cleaner.state.floatbank2_a_air       20\n",
      "secondary_cleaner.state.floatbank2_a_level     16\n",
      "secondary_cleaner.state.floatbank2_b_air       23\n",
      "secondary_cleaner.state.floatbank2_b_level     16\n",
      "secondary_cleaner.state.floatbank3_a_air       34\n",
      "secondary_cleaner.state.floatbank3_a_level     16\n",
      "secondary_cleaner.state.floatbank3_b_air       16\n",
      "secondary_cleaner.state.floatbank3_b_level     16\n",
      "secondary_cleaner.state.floatbank4_a_air       16\n",
      "secondary_cleaner.state.floatbank4_a_level     16\n",
      "secondary_cleaner.state.floatbank4_b_air       16\n",
      "secondary_cleaner.state.floatbank4_b_level     16\n",
      "secondary_cleaner.state.floatbank5_a_air       16\n",
      "secondary_cleaner.state.floatbank5_a_level     16\n",
      "secondary_cleaner.state.floatbank5_b_air       16\n",
      "secondary_cleaner.state.floatbank5_b_level     16\n",
      "secondary_cleaner.state.floatbank6_a_air       16\n",
      "secondary_cleaner.state.floatbank6_a_level     16\n",
      "dtype: int64\n",
      "Duplicate Values= 0\n"
     ]
    }
   ],
   "source": [
    "test = read_data('/datasets/gold_recovery_test.csv')"
   ]
  },
  {
   "cell_type": "code",
   "execution_count": 5,
   "metadata": {
    "scrolled": true
   },
   "outputs": [
    {
     "name": "stdout",
     "output_type": "stream",
     "text": [
      "<class 'pandas.core.frame.DataFrame'>\n",
      "RangeIndex: 22716 entries, 0 to 22715\n",
      "Data columns (total 87 columns):\n",
      " #   Column                                              Non-Null Count  Dtype  \n",
      "---  ------                                              --------------  -----  \n",
      " 0   date                                                22716 non-null  object \n",
      " 1   final.output.concentrate_ag                         22627 non-null  float64\n",
      " 2   final.output.concentrate_pb                         22629 non-null  float64\n",
      " 3   final.output.concentrate_sol                        22331 non-null  float64\n",
      " 4   final.output.concentrate_au                         22630 non-null  float64\n",
      " 5   final.output.recovery                               20753 non-null  float64\n",
      " 6   final.output.tail_ag                                22633 non-null  float64\n",
      " 7   final.output.tail_pb                                22516 non-null  float64\n",
      " 8   final.output.tail_sol                               22445 non-null  float64\n",
      " 9   final.output.tail_au                                22635 non-null  float64\n",
      " 10  primary_cleaner.input.sulfate                       21107 non-null  float64\n",
      " 11  primary_cleaner.input.depressant                    21170 non-null  float64\n",
      " 12  primary_cleaner.input.feed_size                     22716 non-null  float64\n",
      " 13  primary_cleaner.input.xanthate                      21565 non-null  float64\n",
      " 14  primary_cleaner.output.concentrate_ag               22618 non-null  float64\n",
      " 15  primary_cleaner.output.concentrate_pb               22268 non-null  float64\n",
      " 16  primary_cleaner.output.concentrate_sol              21918 non-null  float64\n",
      " 17  primary_cleaner.output.concentrate_au               22618 non-null  float64\n",
      " 18  primary_cleaner.output.tail_ag                      22614 non-null  float64\n",
      " 19  primary_cleaner.output.tail_pb                      22594 non-null  float64\n",
      " 20  primary_cleaner.output.tail_sol                     22365 non-null  float64\n",
      " 21  primary_cleaner.output.tail_au                      22617 non-null  float64\n",
      " 22  primary_cleaner.state.floatbank8_a_air              22660 non-null  float64\n",
      " 23  primary_cleaner.state.floatbank8_a_level            22667 non-null  float64\n",
      " 24  primary_cleaner.state.floatbank8_b_air              22660 non-null  float64\n",
      " 25  primary_cleaner.state.floatbank8_b_level            22673 non-null  float64\n",
      " 26  primary_cleaner.state.floatbank8_c_air              22662 non-null  float64\n",
      " 27  primary_cleaner.state.floatbank8_c_level            22673 non-null  float64\n",
      " 28  primary_cleaner.state.floatbank8_d_air              22661 non-null  float64\n",
      " 29  primary_cleaner.state.floatbank8_d_level            22673 non-null  float64\n",
      " 30  rougher.calculation.sulfate_to_au_concentrate       22672 non-null  float64\n",
      " 31  rougher.calculation.floatbank10_sulfate_to_au_feed  22672 non-null  float64\n",
      " 32  rougher.calculation.floatbank11_sulfate_to_au_feed  22672 non-null  float64\n",
      " 33  rougher.calculation.au_pb_ratio                     21089 non-null  float64\n",
      " 34  rougher.input.feed_ag                               22618 non-null  float64\n",
      " 35  rougher.input.feed_pb                               22472 non-null  float64\n",
      " 36  rougher.input.feed_rate                             22163 non-null  float64\n",
      " 37  rougher.input.feed_size                             22277 non-null  float64\n",
      " 38  rougher.input.feed_sol                              22357 non-null  float64\n",
      " 39  rougher.input.feed_au                               22617 non-null  float64\n",
      " 40  rougher.input.floatbank10_sulfate                   21415 non-null  float64\n",
      " 41  rougher.input.floatbank10_xanthate                  22247 non-null  float64\n",
      " 42  rougher.input.floatbank11_sulfate                   22038 non-null  float64\n",
      " 43  rougher.input.floatbank11_xanthate                  20459 non-null  float64\n",
      " 44  rougher.output.concentrate_ag                       22618 non-null  float64\n",
      " 45  rougher.output.concentrate_pb                       22618 non-null  float64\n",
      " 46  rougher.output.concentrate_sol                      22526 non-null  float64\n",
      " 47  rougher.output.concentrate_au                       22618 non-null  float64\n",
      " 48  rougher.output.recovery                             19597 non-null  float64\n",
      " 49  rougher.output.tail_ag                              19979 non-null  float64\n",
      " 50  rougher.output.tail_pb                              22618 non-null  float64\n",
      " 51  rougher.output.tail_sol                             19980 non-null  float64\n",
      " 52  rougher.output.tail_au                              19980 non-null  float64\n",
      " 53  rougher.state.floatbank10_a_air                     22646 non-null  float64\n",
      " 54  rougher.state.floatbank10_a_level                   22647 non-null  float64\n",
      " 55  rougher.state.floatbank10_b_air                     22646 non-null  float64\n",
      " 56  rougher.state.floatbank10_b_level                   22647 non-null  float64\n",
      " 57  rougher.state.floatbank10_c_air                     22646 non-null  float64\n",
      " 58  rougher.state.floatbank10_c_level                   22654 non-null  float64\n",
      " 59  rougher.state.floatbank10_d_air                     22641 non-null  float64\n",
      " 60  rougher.state.floatbank10_d_level                   22649 non-null  float64\n",
      " 61  rougher.state.floatbank10_e_air                     22096 non-null  float64\n",
      " 62  rougher.state.floatbank10_e_level                   22649 non-null  float64\n",
      " 63  rougher.state.floatbank10_f_air                     22641 non-null  float64\n",
      " 64  rougher.state.floatbank10_f_level                   22642 non-null  float64\n",
      " 65  secondary_cleaner.output.tail_ag                    22616 non-null  float64\n",
      " 66  secondary_cleaner.output.tail_pb                    22600 non-null  float64\n",
      " 67  secondary_cleaner.output.tail_sol                   20501 non-null  float64\n",
      " 68  secondary_cleaner.output.tail_au                    22618 non-null  float64\n",
      " 69  secondary_cleaner.state.floatbank2_a_air            22333 non-null  float64\n",
      " 70  secondary_cleaner.state.floatbank2_a_level          22591 non-null  float64\n",
      " 71  secondary_cleaner.state.floatbank2_b_air            22538 non-null  float64\n",
      " 72  secondary_cleaner.state.floatbank2_b_level          22588 non-null  float64\n",
      " 73  secondary_cleaner.state.floatbank3_a_air            22585 non-null  float64\n",
      " 74  secondary_cleaner.state.floatbank3_a_level          22587 non-null  float64\n",
      " 75  secondary_cleaner.state.floatbank3_b_air            22592 non-null  float64\n",
      " 76  secondary_cleaner.state.floatbank3_b_level          22590 non-null  float64\n",
      " 77  secondary_cleaner.state.floatbank4_a_air            22571 non-null  float64\n",
      " 78  secondary_cleaner.state.floatbank4_a_level          22587 non-null  float64\n",
      " 79  secondary_cleaner.state.floatbank4_b_air            22608 non-null  float64\n",
      " 80  secondary_cleaner.state.floatbank4_b_level          22607 non-null  float64\n",
      " 81  secondary_cleaner.state.floatbank5_a_air            22615 non-null  float64\n",
      " 82  secondary_cleaner.state.floatbank5_a_level          22615 non-null  float64\n",
      " 83  secondary_cleaner.state.floatbank5_b_air            22615 non-null  float64\n",
      " 84  secondary_cleaner.state.floatbank5_b_level          22616 non-null  float64\n",
      " 85  secondary_cleaner.state.floatbank6_a_air            22597 non-null  float64\n",
      " 86  secondary_cleaner.state.floatbank6_a_level          22615 non-null  float64\n",
      "dtypes: float64(86), object(1)\n",
      "memory usage: 15.1+ MB\n",
      "None\n",
      "       final.output.concentrate_ag  final.output.concentrate_pb  \\\n",
      "count                 22627.000000                 22629.000000   \n",
      "mean                      4.781559                     9.095308   \n",
      "std                       2.030128                     3.230797   \n",
      "min                       0.000000                     0.000000   \n",
      "25%                       4.018525                     8.750171   \n",
      "50%                       4.953729                     9.914519   \n",
      "75%                       5.862593                    10.929839   \n",
      "max                      16.001945                    17.031899   \n",
      "\n",
      "       final.output.concentrate_sol  final.output.concentrate_au  \\\n",
      "count                  22331.000000                 22630.000000   \n",
      "mean                       8.640317                    40.001172   \n",
      "std                        3.785035                    13.398062   \n",
      "min                        0.000000                     0.000000   \n",
      "25%                        7.116799                    42.383721   \n",
      "50%                        8.908792                    44.653436   \n",
      "75%                       10.705824                    46.111999   \n",
      "max                       19.615720                    53.611374   \n",
      "\n",
      "       final.output.recovery  final.output.tail_ag  final.output.tail_pb  \\\n",
      "count           20753.000000          22633.000000          22516.000000   \n",
      "mean               67.447488              8.923690              2.488252   \n",
      "std                11.616034              3.517917              1.189407   \n",
      "min                 0.000000              0.000000              0.000000   \n",
      "25%                63.282393              7.684016              1.805376   \n",
      "50%                68.322258              9.484369              2.653001   \n",
      "75%                72.950836             11.084557              3.287790   \n",
      "max               100.000000             19.552149              6.086532   \n",
      "\n",
      "       final.output.tail_sol  final.output.tail_au  \\\n",
      "count           22445.000000          22635.000000   \n",
      "mean                9.523632              2.827459   \n",
      "std                 4.079739              1.262834   \n",
      "min                 0.000000              0.000000   \n",
      "25%                 8.143576              2.303108   \n",
      "50%                10.212998              2.913794   \n",
      "75%                11.860824              3.555077   \n",
      "max                22.861749              9.789625   \n",
      "\n",
      "       primary_cleaner.input.sulfate  ...  \\\n",
      "count                   21107.000000  ...   \n",
      "mean                      140.277672  ...   \n",
      "std                        49.919004  ...   \n",
      "min                         0.000003  ...   \n",
      "25%                       110.177081  ...   \n",
      "50%                       141.330501  ...   \n",
      "75%                       174.049914  ...   \n",
      "max                       274.409626  ...   \n",
      "\n",
      "       secondary_cleaner.state.floatbank4_a_air  \\\n",
      "count                              22571.000000   \n",
      "mean                                  18.205125   \n",
      "std                                    6.560700   \n",
      "min                                    0.000000   \n",
      "25%                                   14.095940   \n",
      "50%                                   18.007326   \n",
      "75%                                   22.998194   \n",
      "max                                   60.000000   \n",
      "\n",
      "       secondary_cleaner.state.floatbank4_a_level  \\\n",
      "count                                22587.000000   \n",
      "mean                                  -499.878977   \n",
      "std                                     80.273964   \n",
      "min                                   -799.920713   \n",
      "25%                                   -500.896232   \n",
      "50%                                   -499.917108   \n",
      "75%                                   -498.361545   \n",
      "max                                   -127.692333   \n",
      "\n",
      "       secondary_cleaner.state.floatbank4_b_air  \\\n",
      "count                              22608.000000   \n",
      "mean                                  14.356474   \n",
      "std                                    5.655791   \n",
      "min                                    0.000000   \n",
      "25%                                   10.882675   \n",
      "50%                                   14.947646   \n",
      "75%                                   17.977502   \n",
      "max                                   31.269706   \n",
      "\n",
      "       secondary_cleaner.state.floatbank4_b_level  \\\n",
      "count                                22607.000000   \n",
      "mean                                  -476.532613   \n",
      "std                                     93.822791   \n",
      "min                                   -800.836914   \n",
      "25%                                   -500.309169   \n",
      "50%                                   -499.612292   \n",
      "75%                                   -400.224147   \n",
      "max                                     -6.506986   \n",
      "\n",
      "       secondary_cleaner.state.floatbank5_a_air  \\\n",
      "count                              22615.000000   \n",
      "mean                                  14.883276   \n",
      "std                                    6.372811   \n",
      "min                                   -0.423260   \n",
      "25%                                   10.941299   \n",
      "50%                                   14.859117   \n",
      "75%                                   18.014914   \n",
      "max                                   63.116298   \n",
      "\n",
      "       secondary_cleaner.state.floatbank5_a_level  \\\n",
      "count                                22615.000000   \n",
      "mean                                  -503.323288   \n",
      "std                                     72.925589   \n",
      "min                                   -799.741097   \n",
      "25%                                   -500.628697   \n",
      "50%                                   -499.865158   \n",
      "75%                                   -498.489381   \n",
      "max                                   -244.483566   \n",
      "\n",
      "       secondary_cleaner.state.floatbank5_b_air  \\\n",
      "count                              22615.000000   \n",
      "mean                                  11.626743   \n",
      "std                                    5.757449   \n",
      "min                                    0.427084   \n",
      "25%                                    8.037533   \n",
      "50%                                   10.989756   \n",
      "75%                                   14.001193   \n",
      "max                                   39.846228   \n",
      "\n",
      "       secondary_cleaner.state.floatbank5_b_level  \\\n",
      "count                                22616.000000   \n",
      "mean                                  -500.521502   \n",
      "std                                     78.956292   \n",
      "min                                   -800.258209   \n",
      "25%                                   -500.167897   \n",
      "50%                                   -499.951980   \n",
      "75%                                   -499.492354   \n",
      "max                                   -120.190931   \n",
      "\n",
      "       secondary_cleaner.state.floatbank6_a_air  \\\n",
      "count                              22597.000000   \n",
      "mean                                  17.976810   \n",
      "std                                    6.636203   \n",
      "min                                   -0.079426   \n",
      "25%                                   13.968418   \n",
      "50%                                   18.004215   \n",
      "75%                                   23.009704   \n",
      "max                                   54.876806   \n",
      "\n",
      "       secondary_cleaner.state.floatbank6_a_level  \n",
      "count                                22615.000000  \n",
      "mean                                  -519.361465  \n",
      "std                                     75.477151  \n",
      "min                                   -810.473526  \n",
      "25%                                   -500.981671  \n",
      "50%                                   -500.095463  \n",
      "75%                                   -499.526388  \n",
      "max                                    -29.093593  \n",
      "\n",
      "[8 rows x 86 columns]\n",
      "Null/Missing Values= date                                            0\n",
      "final.output.concentrate_ag                    89\n",
      "final.output.concentrate_pb                    87\n",
      "final.output.concentrate_sol                  385\n",
      "final.output.concentrate_au                    86\n",
      "                                             ... \n",
      "secondary_cleaner.state.floatbank5_a_level    101\n",
      "secondary_cleaner.state.floatbank5_b_air      101\n",
      "secondary_cleaner.state.floatbank5_b_level    100\n",
      "secondary_cleaner.state.floatbank6_a_air      119\n",
      "secondary_cleaner.state.floatbank6_a_level    101\n",
      "Length: 87, dtype: int64\n"
     ]
    },
    {
     "name": "stdout",
     "output_type": "stream",
     "text": [
      "Duplicate Values= 0\n"
     ]
    }
   ],
   "source": [
    "full = read_data('/datasets/gold_recovery_full.csv')"
   ]
  },
  {
   "cell_type": "code",
   "execution_count": 6,
   "metadata": {},
   "outputs": [
    {
     "data": {
      "text/plain": [
       "0        87.107763\n",
       "1        86.843261\n",
       "2        86.842308\n",
       "3        87.226430\n",
       "4        86.688794\n",
       "           ...    \n",
       "16855    89.574376\n",
       "16856    87.724007\n",
       "16857    88.890579\n",
       "16858    89.858126\n",
       "16859    89.514960\n",
       "Name: rougher.output.recovery, Length: 16860, dtype: float64"
      ]
     },
     "execution_count": 6,
     "metadata": {},
     "output_type": "execute_result"
    }
   ],
   "source": [
    "#Checking recovery value in train data\n",
    "train['rougher.output.recovery']"
   ]
  },
  {
   "cell_type": "code",
   "execution_count": 7,
   "metadata": {},
   "outputs": [
    {
     "name": "stdout",
     "output_type": "stream",
     "text": [
      "9.303415616264301e-15\n"
     ]
    }
   ],
   "source": [
    "#Calculate recovery value and MSE for calculated and data values\n",
    "train_recovery = train.dropna(subset=['rougher.output.concentrate_au',\\\n",
    "                            'rougher.input.feed_au', 'rougher.output.tail_au', 'rougher.output.recovery'])\n",
    "\n",
    "C = train_recovery['rougher.output.concentrate_au']\n",
    "F = train_recovery['rougher.input.feed_au']\n",
    "T = train_recovery['rougher.output.tail_au']\n",
    "\n",
    "recovery = (C * (F - T) / (F * (C - T))) * 100\n",
    "\n",
    "mae_recovery = mean_absolute_error(train_recovery['rougher.output.recovery'], recovery)\n",
    "\n",
    "print(mae_recovery)"
   ]
  },
  {
   "cell_type": "code",
   "execution_count": 8,
   "metadata": {},
   "outputs": [
    {
     "data": {
      "text/plain": [
       "final.output.concentrate_ag                           float64\n",
       "final.output.concentrate_au                           float64\n",
       "final.output.concentrate_pb                           float64\n",
       "final.output.concentrate_sol                          float64\n",
       "final.output.recovery                                 float64\n",
       "final.output.tail_ag                                  float64\n",
       "final.output.tail_au                                  float64\n",
       "final.output.tail_pb                                  float64\n",
       "final.output.tail_sol                                 float64\n",
       "primary_cleaner.output.concentrate_ag                 float64\n",
       "primary_cleaner.output.concentrate_au                 float64\n",
       "primary_cleaner.output.concentrate_pb                 float64\n",
       "primary_cleaner.output.concentrate_sol                float64\n",
       "primary_cleaner.output.tail_ag                        float64\n",
       "primary_cleaner.output.tail_au                        float64\n",
       "primary_cleaner.output.tail_pb                        float64\n",
       "primary_cleaner.output.tail_sol                       float64\n",
       "rougher.calculation.au_pb_ratio                       float64\n",
       "rougher.calculation.floatbank10_sulfate_to_au_feed    float64\n",
       "rougher.calculation.floatbank11_sulfate_to_au_feed    float64\n",
       "rougher.calculation.sulfate_to_au_concentrate         float64\n",
       "rougher.output.concentrate_ag                         float64\n",
       "rougher.output.concentrate_au                         float64\n",
       "rougher.output.concentrate_pb                         float64\n",
       "rougher.output.concentrate_sol                        float64\n",
       "rougher.output.recovery                               float64\n",
       "rougher.output.tail_ag                                float64\n",
       "rougher.output.tail_au                                float64\n",
       "rougher.output.tail_pb                                float64\n",
       "rougher.output.tail_sol                               float64\n",
       "secondary_cleaner.output.tail_ag                      float64\n",
       "secondary_cleaner.output.tail_au                      float64\n",
       "secondary_cleaner.output.tail_pb                      float64\n",
       "secondary_cleaner.output.tail_sol                     float64\n",
       "dtype: object"
      ]
     },
     "execution_count": 8,
     "metadata": {},
     "output_type": "execute_result"
    }
   ],
   "source": [
    "train[list(train.columns.difference(test.columns))].dtypes"
   ]
  },
  {
   "cell_type": "code",
   "execution_count": 9,
   "metadata": {},
   "outputs": [],
   "source": [
    "#Fill in missing values\n",
    "train = train.ffill().bfill()\n",
    "test = test.ffill().bfill()\n",
    "full = full.ffill().bfill()\n",
    "\n",
    "cols = [\"date\", \"rougher.output.recovery\", \"final.output.recovery\", \"rougher.output.concentrate_au\",\\\n",
    "        \"rougher.output.concentrate_ag\", \"rougher.output.concentrate_pb\", \"rougher.output.concentrate_sol\",\\\n",
    "        \"final.output.concentrate_au\", \"final.output.concentrate_ag\", \"final.output.concentrate_pb\",\\\n",
    "        \"final.output.concentrate_sol\"]\n",
    "\n",
    "train_and_test = train.columns.intersection(test.columns)\n",
    "\n",
    "test = test.merge(full[cols], on = 'date', how = 'left')\n",
    "\n",
    "train = train.drop('date', axis = 1)\n",
    "test = test.drop('date', axis = 1)"
   ]
  },
  {
   "cell_type": "markdown",
   "metadata": {},
   "source": [
    "### Conclusion\n",
    "\n",
    "- A lot of columns had missing values that we filled using forward and backwards fill.\n",
    "- Manually calculated recovery value and found out that the MAE was 9.30\n",
    "- Figured out which columns were not in the test set and initiated our train and test sets with that information"
   ]
  },
  {
   "cell_type": "markdown",
   "metadata": {},
   "source": [
    "## Analyze the Data\n",
    "Take note of how the concentrations of metals (Au, Ag, Pb) change depending on the purification stage.\n",
    "\n",
    "Compare the feed particle size distributions in the training set and in the test set. If the distributions vary significantly, the model evaluation will be incorrect.\n",
    "\n",
    "Consider the total concentrations of all substances at different stages: raw feed, rougher concentrate, and final concentrate. Do you notice any abnormal values in the total distribution? If you do, is it worth removing such values from both samples? Describe the findings and eliminate anomalies. "
   ]
  },
  {
   "cell_type": "code",
   "execution_count": 10,
   "metadata": {},
   "outputs": [],
   "source": [
    "au = ['rougher.input.feed_au', 'rougher.output.concentrate_au',\\\n",
    "       'primary_cleaner.output.concentrate_au', 'final.output.concentrate_au']\n",
    "ag = ['rougher.input.feed_ag', 'rougher.output.concentrate_ag',\\\n",
    "       'primary_cleaner.output.concentrate_ag', 'final.output.concentrate_ag']\n",
    "pb = ['rougher.input.feed_pb', 'rougher.output.concentrate_pb',\\\n",
    "       'primary_cleaner.output.concentrate_pb', 'final.output.concentrate_pb']"
   ]
  },
  {
   "cell_type": "code",
   "execution_count": 11,
   "metadata": {},
   "outputs": [],
   "source": [
    "def make_graph(metal):\n",
    "    plt.figure(figsize = (12, 6))\n",
    "    for i in metal:\n",
    "        plt.hist(full[i], bins = 50)\n",
    "        \n",
    "    plt.title(metal[0][len(metal[0]) - 2:])\n",
    "    plt.legend([\"rougher.input.feed\", \"rougher.output.concentrate\", \\\n",
    "        \"primary_cleaner.output.concentrate\", \"final.output.concentrate\",])\n",
    "    plt.xlabel('Concentration')\n",
    "    plt.ylabel('Frequency')\n",
    "    plt.show()"
   ]
  },
  {
   "cell_type": "code",
   "execution_count": 12,
   "metadata": {
    "scrolled": false
   },
   "outputs": [
    {
     "data": {
      "image/png": "[encoded data removed]",
      "text/plain": [
       "<Figure size 1200x600 with 1 Axes>"
      ]
     },
     "metadata": {},
     "output_type": "display_data"
    },
    {
     "data": {
      "image/png": "[encoded data removed]",
      "text/plain": [
       "<Figure size 1200x600 with 1 Axes>"
      ]
     },
     "metadata": {},
     "output_type": "display_data"
    },
    {
     "data": {
      "image/png": "[encoded data removed]",
      "text/plain": [
       "<Figure size 1200x600 with 1 Axes>"
      ]
     },
     "metadata": {},
     "output_type": "display_data"
    }
   ],
   "source": [
    "make_graph(au)\n",
    "make_graph(ag)\n",
    "make_graph(pb)"
   ]
  },
  {
   "cell_type": "markdown",
   "metadata": {},
   "source": [
    "- Concentrations of au went up after each cycle.\n",
    "- Concentrations of ag were initially up but afterward went down again in the last cycles.\n",
    "- Concentrations of pb only went up a bit, but then didn't go up after the last cycle."
   ]
  },
  {
   "cell_type": "code",
   "execution_count": 13,
   "metadata": {},
   "outputs": [
    {
     "data": {
      "image/png": "[encoded data removed]",
      "text/plain": [
       "<Figure size 1200x600 with 1 Axes>"
      ]
     },
     "metadata": {},
     "output_type": "display_data"
    }
   ],
   "source": [
    "#Compare feed particle size in train and test set\n",
    "plt.figure(figsize = (12, 6))\n",
    "plt.hist(train['rougher.input.feed_size'], bins = 50, density = True)\n",
    "plt.hist(test['rougher.input.feed_size'], bins = 50, density = True)\n",
    "\n",
    "plt.xlabel('Feed Size')\n",
    "plt.ylabel('Frequency')\n",
    "plt.title('Rougher Particle Feed Size')\n",
    "plt.legend(['Train Set', 'Test Set'])\n",
    "\n",
    "plt.show()"
   ]
  },
  {
   "cell_type": "code",
   "execution_count": 14,
   "metadata": {},
   "outputs": [
    {
     "data": {
      "image/png": "[encoded data removed]",
      "text/plain": [
       "<Figure size 1200x600 with 1 Axes>"
      ]
     },
     "metadata": {},
     "output_type": "display_data"
    }
   ],
   "source": [
    "plt.figure(figsize = (12, 6))\n",
    "plt.hist(train['primary_cleaner.input.feed_size'], bins = 50, density = True)\n",
    "plt.hist(test['primary_cleaner.input.feed_size'], bins = 50, density = True)\n",
    "\n",
    "plt.xlabel('Feed Size')\n",
    "plt.ylabel('Frequency')\n",
    "plt.title('Primary Cleaner Particle Feed Size')\n",
    "plt.legend(['Train Set', 'Test Set'])\n",
    "\n",
    "plt.show()"
   ]
  },
  {
   "cell_type": "markdown",
   "metadata": {},
   "source": [
    "It looks like both distributions are very similar so our model evaluation will be fine."
   ]
  },
  {
   "cell_type": "code",
   "execution_count": 15,
   "metadata": {},
   "outputs": [],
   "source": [
    "def raw_all(df):\n",
    "    return df[\"rougher.input.feed_au\"] + df[\"rougher.input.feed_ag\"]\\\n",
    "+ df[\"rougher.input.feed_pb\"] + df[\"rougher.input.feed_sol\"]\n",
    "\n",
    "def rougher_all(df):\n",
    "    return df[\"rougher.output.concentrate_au\"] + df[\"rougher.output.concentrate_ag\"]\\\n",
    "+ df[\"rougher.output.concentrate_pb\"] + df[\"rougher.output.concentrate_sol\"]\n",
    "\n",
    "def final_all(df):\n",
    "    return df[\"final.output.concentrate_au\"] + df[\"final.output.concentrate_ag\"]\\\n",
    "+ df[\"final.output.concentrate_pb\"] + df[\"final.output.concentrate_sol\"]"
   ]
  },
  {
   "cell_type": "code",
   "execution_count": 16,
   "metadata": {},
   "outputs": [],
   "source": [
    "raw = raw_all(full)\n",
    "\n",
    "rougher = rougher_all(full)\n",
    "\n",
    "final = final_all(full)"
   ]
  },
  {
   "cell_type": "code",
   "execution_count": 17,
   "metadata": {},
   "outputs": [
    {
     "data": {
      "image/png": "[encoded data removed]",
      "text/plain": [
       "<Figure size 1200x600 with 1 Axes>"
      ]
     },
     "metadata": {},
     "output_type": "display_data"
    }
   ],
   "source": [
    "plt.figure(figsize = (12, 6))\n",
    "\n",
    "plt.hist(raw, bins = 50)\n",
    "plt.hist(rougher, bins = 50)\n",
    "plt.hist(final, bins = 50)\n",
    "\n",
    "plt.legend(['Raw Feed', 'Rougher Concentrate', 'Final Concentrate'])\n",
    "plt.xlabel('Concentration')\n",
    "plt.ylabel('Frequency')\n",
    "plt.show()"
   ]
  },
  {
   "cell_type": "markdown",
   "metadata": {},
   "source": [
    "It seems that there is a lot of values near 0 so we will have to remove these values from our data."
   ]
  },
  {
   "cell_type": "code",
   "execution_count": 18,
   "metadata": {},
   "outputs": [],
   "source": [
    "#Remove outliers from data\n",
    "train['rougher.raw.all'] = raw_all(train)\n",
    "train['rougher.concentrate.all'] = rougher_all(train)\n",
    "train['final.concentrate.all'] = final_all(train)\n",
    "\n",
    "train = train[train['rougher.raw.all'] > 25 | (train['rougher.concentrate.all'] > 25) \\\n",
    "| (train['final.concentrate.all'] > 25)]\n",
    "\n",
    "train = train.drop(['rougher.raw.all', 'rougher.concentrate.all', 'final.concentrate.all'], axis = 1)\n",
    "\n",
    "test['rougher.raw.all'] = raw_all(test)\n",
    "test['rougher.concentrate.all'] = rougher_all(test)\n",
    "test['final.concentrate.all'] = final_all(test)\n",
    "\n",
    "test = test[test['rougher.raw.all'] > 25 | (test['rougher.concentrate.all'] > 25) \\\n",
    "| (test['final.concentrate.all'] > 25)]\n",
    "\n",
    "test = test.drop(['rougher.raw.all', 'rougher.concentrate.all', 'final.concentrate.all'], axis = 1)"
   ]
  },
  {
   "cell_type": "markdown",
   "metadata": {},
   "source": [
    "### Conclusion\n",
    "\n",
    "The different metals had varying results of concentrations after each of the cycles.\n",
    "- Concentrations of au went up after each cycle.\n",
    "- Concentrations of ag were initially up but afterward went down again in the last cycles.\n",
    "- Concentrations of pb only went up a bit, but then didn't go up after the last cycle.\n",
    "\n",
    "The distributions of the particle feed sizes were very similar so there is no issue for the model evaluation to be faulty.\n",
    "\n",
    "We noticed that there were outliers in the data at near 0. They should be removed as it would improve the model training. "
   ]
  },
  {
   "cell_type": "markdown",
   "metadata": {},
   "source": [
    "## Build the model\n",
    "\n",
    "Write a function to calculate the final sMAPE value.\n",
    "\n",
    "Train different models. Evaluate them using cross-validation. Pick the best model and test it using the test sample. Provide findings."
   ]
  },
  {
   "cell_type": "code",
   "execution_count": 19,
   "metadata": {},
   "outputs": [],
   "source": [
    "def calc_smape(target, prediction):\n",
    "    return 100 / len(target) * np.sum(2 * np.abs(target - prediction) / (np.abs(target) + np.abs(prediction)))\n",
    "    \n",
    "def final_smape(target, prediction):\n",
    "    prediction_rough, prediction_final = prediction[:, 1], prediction[:, 0]\n",
    "    target_rough, target_final = target.iloc[:, 1], target.iloc[:, 0]\n",
    "    ans = (.25 * (calc_smape(target_rough, prediction_rough))) + (.75 * (calc_smape(target_final, prediction_final)))\n",
    "    return ans\n",
    "\n",
    "smape_scorer = make_scorer(final_smape)"
   ]
  },
  {
   "cell_type": "code",
   "execution_count": 20,
   "metadata": {
    "scrolled": true
   },
   "outputs": [],
   "source": [
    "train_and_test = train_and_test.drop('date')\n",
    "\n",
    "features_train = train[train_and_test]\n",
    "target_train = train[['rougher.output.recovery', 'final.output.recovery']]\n",
    "\n",
    "features_test = test[train_and_test]\n",
    "target_test = test[['rougher.output.recovery', 'final.output.recovery']]\n",
    "\n",
    "scaler = StandardScaler()\n",
    "scaler.fit(features_train)\n",
    "features_train = scaler.transform(features_train)\n",
    "features_test = scaler.transform(features_test)"
   ]
  },
  {
   "cell_type": "code",
   "execution_count": 21,
   "metadata": {},
   "outputs": [],
   "source": [
    "state = np.random.RandomState(12345)"
   ]
  },
  {
   "cell_type": "markdown",
   "metadata": {},
   "source": [
    "### Linear Regression Model"
   ]
  },
  {
   "cell_type": "code",
   "execution_count": 22,
   "metadata": {
    "scrolled": false
   },
   "outputs": [
    {
     "name": "stdout",
     "output_type": "stream",
     "text": [
      "sMAPE= 14.715454817987728\n"
     ]
    }
   ],
   "source": [
    "model = LinearRegression()\n",
    "model.fit(features_train, target_train)\n",
    "scores = cross_val_score(model, features_train, target_train, cv = 5, scoring = smape_scorer)\n",
    "print(f'sMAPE= {scores.mean()}')"
   ]
  },
  {
   "cell_type": "markdown",
   "metadata": {},
   "source": [
    "### Decision Tree Model"
   ]
  },
  {
   "cell_type": "code",
   "execution_count": 23,
   "metadata": {
    "scrolled": true
   },
   "outputs": [
    {
     "name": "stdout",
     "output_type": "stream",
     "text": [
      "Depth= 1, sMAPE= 13.0562664497079\n",
      "Depth= 2, sMAPE= 13.140745829997812\n",
      "Depth= 3, sMAPE= 12.9663701429529\n",
      "Depth= 4, sMAPE= 13.377647267248303\n",
      "Depth= 5, sMAPE= 13.743197129047847\n",
      "Depth= 6, sMAPE= 14.313460567412093\n",
      "Depth= 7, sMAPE= 15.42152253322657\n",
      "Depth= 8, sMAPE= 15.962625910270821\n",
      "Depth= 9, sMAPE= 17.193103070784193\n",
      "Depth= 10, sMAPE= 17.792989883729568\n",
      "Depth= 11, sMAPE= 20.17913537019438\n",
      "Depth= 12, sMAPE= 20.919368619872717\n",
      "Depth= 13, sMAPE= 20.21822832036755\n",
      "Depth= 14, sMAPE= 20.691369810739026\n",
      "Depth= 15, sMAPE= 21.103473893927223\n"
     ]
    }
   ],
   "source": [
    "for depth in range(1, 16):\n",
    "    model = DecisionTreeRegressor(max_depth = depth, random_state = state)\n",
    "    model.fit(features_train, target_train)\n",
    "    scores = cross_val_score(model, features_train, target_train, cv = 5, scoring = smape_scorer)\n",
    "    print(f'Depth= {depth}, sMAPE= {scores.mean()}')"
   ]
  },
  {
   "cell_type": "markdown",
   "metadata": {},
   "source": [
    "### Random Forest Model"
   ]
  },
  {
   "cell_type": "code",
   "execution_count": 24,
   "metadata": {
    "scrolled": false
   },
   "outputs": [
    {
     "name": "stdout",
     "output_type": "stream",
     "text": [
      "sMAPE= 14.61361183406271\n"
     ]
    }
   ],
   "source": [
    "model = RandomForestRegressor(n_estimators = 10, random_state = state)\n",
    "model.fit(features_train, target_train)\n",
    "scores = cross_val_score(model, features_train, target_train, cv = 5, scoring = smape_scorer)\n",
    "print(f'sMAPE= {scores.mean()}')"
   ]
  },
  {
   "cell_type": "markdown",
   "metadata": {},
   "source": [
    "### Constant Model"
   ]
  },
  {
   "cell_type": "code",
   "execution_count": 25,
   "metadata": {},
   "outputs": [
    {
     "name": "stdout",
     "output_type": "stream",
     "text": [
      "sMAPE= 11.479894696647156\n"
     ]
    }
   ],
   "source": [
    "constant_model = target_train.mean()\n",
    "constant_model_test = pd.DataFrame(index=range(len(target_test)),columns=[\"rougher.output.recovery\", \"final.output.recovery\"])\n",
    "constant_model_test['rougher.output.recovery'] = constant_model[0]\n",
    "constant_model_test['final.output.recovery'] = constant_model[1]\n",
    "scores = final_smape(target_test, constant_model_test.to_numpy())\n",
    "print(f'sMAPE= {scores.mean()}')"
   ]
  },
  {
   "cell_type": "markdown",
   "metadata": {},
   "source": [
    "### Final Model"
   ]
  },
  {
   "cell_type": "code",
   "execution_count": 26,
   "metadata": {},
   "outputs": [
    {
     "name": "stdout",
     "output_type": "stream",
     "text": [
      "Final sMAPE= 10.522982396463414\n"
     ]
    }
   ],
   "source": [
    "final_model = DecisionTreeRegressor(max_depth = 3, random_state = state)\n",
    "final_model.fit(features_train, target_train)\n",
    "final_predictions = final_model.predict(features_test)\n",
    "print(f'Final sMAPE= {final_smape(target_test, final_predictions)}')"
   ]
  },
  {
   "cell_type": "markdown",
   "metadata": {},
   "source": [
    "### Conclusion\n",
    "\n",
    "- The best model was the decision tree regressor model, with the lowest sMAPE value at 12.9. \n",
    "- We tested our test set on this model and it aquired a final sMAPE score of 10.5.\n",
    "- A constant model was also made to compare our final model and it outperformed it by a small margin."
   ]
  },
  {
   "cell_type": "markdown",
   "metadata": {},
   "source": [
    "## Overall Conclusion\n",
    "\n",
    "In our data preparation:\n",
    "- A lot of columns had missing values that we filled using forward and backwards fill.\n",
    "- Manually calculated recovery value and found out that the MAE was 9.30\n",
    "- Figured out which columns were not in the test set and initiated our train and test sets with that information\n",
    "\n",
    "Then we analyzed the data and found:\n",
    "\n",
    "The different metals had varying results of concentrations after each of the cycles.\n",
    "- Concentrations of au went up after each cycle.\n",
    "- Concentrations of ag were initially up but afterward went down again in the last cycles.\n",
    "- Concentrations of pb only went up a bit, but then didn't go up after the last cycle.\n",
    "\n",
    "The distributions of the particle feed sizes were very similar so there is no issue for the model evaluation to be faulty.\n",
    "\n",
    "We noticed that there were outliers in the data at near 0. They should be removed as it would improve the model training. \n",
    "\n",
    "Finally, we trained the models:\n",
    "- The best model was the decision tree regressor model, with the lowest sMAPE value at 12.9. \n",
    "- We tested our test set on this model and it aquired a final sMAPE score of 10.5.\n",
    "- A constant model was also made to compare our final model and it outperformed it by a small margin."
   ]
  },
  {
   "cell_type": "code",
   "execution_count": null,
   "metadata": {},
   "outputs": [],
   "source": []
  }
 ],
 "metadata": {
  "ExecuteTimeLog": [
   {
    "duration": 348,
    "start_time": "2024-10-09T23:32:22.245Z"
   },
   {
    "duration": 1788,
    "start_time": "2024-10-09T23:45:58.931Z"
   },
   {
    "duration": 3,
    "start_time": "2024-10-09T23:46:38.811Z"
   },
   {
    "duration": 487,
    "start_time": "2024-10-09T23:46:58.041Z"
   },
   {
    "duration": 189,
    "start_time": "2024-10-09T23:49:46.793Z"
   },
   {
    "duration": 145,
    "start_time": "2024-10-09T23:49:48.624Z"
   },
   {
    "duration": 610,
    "start_time": "2024-10-09T23:50:27.310Z"
   },
   {
    "duration": 6,
    "start_time": "2024-10-10T03:30:04.451Z"
   },
   {
    "duration": 171,
    "start_time": "2024-10-10T03:30:04.857Z"
   },
   {
    "duration": 2268,
    "start_time": "2024-10-10T03:30:07.241Z"
   },
   {
    "duration": 2,
    "start_time": "2024-10-10T03:30:09.512Z"
   },
   {
    "duration": 479,
    "start_time": "2024-10-10T03:30:09.516Z"
   },
   {
    "duration": 3,
    "start_time": "2024-10-10T03:30:31.719Z"
   },
   {
    "duration": 460,
    "start_time": "2024-10-10T03:30:32.009Z"
   },
   {
    "duration": 2259,
    "start_time": "2024-10-10T16:42:46.397Z"
   },
   {
    "duration": 4,
    "start_time": "2024-10-10T16:42:48.659Z"
   },
   {
    "duration": 496,
    "start_time": "2024-10-10T16:42:48.664Z"
   },
   {
    "duration": 198,
    "start_time": "2024-10-10T16:42:49.162Z"
   },
   {
    "duration": 622,
    "start_time": "2024-10-10T16:42:49.363Z"
   },
   {
    "duration": 237,
    "start_time": "2024-10-10T16:42:49.986Z"
   },
   {
    "duration": 2,
    "start_time": "2024-10-10T16:43:08.844Z"
   },
   {
    "duration": 3,
    "start_time": "2024-10-10T16:43:19.704Z"
   },
   {
    "duration": 425,
    "start_time": "2024-10-10T16:43:22.314Z"
   },
   {
    "duration": 149,
    "start_time": "2024-10-10T16:43:23.071Z"
   },
   {
    "duration": 511,
    "start_time": "2024-10-10T16:43:23.438Z"
   },
   {
    "duration": 21,
    "start_time": "2024-10-10T16:43:25.875Z"
   },
   {
    "duration": 5,
    "start_time": "2024-10-10T16:46:49.706Z"
   },
   {
    "duration": 16,
    "start_time": "2024-10-11T00:15:10.379Z"
   },
   {
    "duration": 6,
    "start_time": "2024-10-11T01:35:04.058Z"
   },
   {
    "duration": 6,
    "start_time": "2024-10-11T01:35:05.797Z"
   },
   {
    "duration": 2723,
    "start_time": "2024-10-11T22:29:51.515Z"
   },
   {
    "duration": 2,
    "start_time": "2024-10-11T22:29:57.174Z"
   },
   {
    "duration": 4,
    "start_time": "2024-10-11T22:29:57.180Z"
   },
   {
    "duration": 489,
    "start_time": "2024-10-11T22:29:57.186Z"
   },
   {
    "duration": 184,
    "start_time": "2024-10-11T22:29:57.678Z"
   },
   {
    "duration": 572,
    "start_time": "2024-10-11T22:29:57.864Z"
   },
   {
    "duration": 6,
    "start_time": "2024-10-11T22:29:58.438Z"
   },
   {
    "duration": 5,
    "start_time": "2024-10-11T22:29:58.447Z"
   },
   {
    "duration": 381,
    "start_time": "2024-10-11T22:52:14.317Z"
   },
   {
    "duration": 4,
    "start_time": "2024-10-11T23:11:24.919Z"
   },
   {
    "duration": 69,
    "start_time": "2024-10-11T23:11:39.547Z"
   },
   {
    "duration": 9,
    "start_time": "2024-10-11T23:20:47.970Z"
   },
   {
    "duration": 19,
    "start_time": "2024-10-11T23:21:10.534Z"
   },
   {
    "duration": 9,
    "start_time": "2024-10-11T23:21:13.303Z"
   },
   {
    "duration": 4,
    "start_time": "2024-10-12T06:11:00.502Z"
   },
   {
    "duration": 2703,
    "start_time": "2024-10-14T19:25:30.564Z"
   },
   {
    "duration": 5,
    "start_time": "2024-10-14T19:25:33.269Z"
   },
   {
    "duration": 463,
    "start_time": "2024-10-14T19:25:33.275Z"
   },
   {
    "duration": 171,
    "start_time": "2024-10-14T19:25:33.740Z"
   },
   {
    "duration": 574,
    "start_time": "2024-10-14T19:25:33.913Z"
   },
   {
    "duration": 5,
    "start_time": "2024-10-14T19:25:34.489Z"
   },
   {
    "duration": 9,
    "start_time": "2024-10-14T19:25:34.496Z"
   },
   {
    "duration": 239,
    "start_time": "2024-10-14T19:25:34.507Z"
   },
   {
    "duration": 16,
    "start_time": "2024-10-14T19:25:58.823Z"
   },
   {
    "duration": 14,
    "start_time": "2024-10-14T19:26:28.154Z"
   },
   {
    "duration": 7,
    "start_time": "2024-10-14T19:26:29.553Z"
   },
   {
    "duration": 31,
    "start_time": "2024-10-15T00:53:55.391Z"
   },
   {
    "duration": 31,
    "start_time": "2024-10-15T00:54:03.643Z"
   },
   {
    "duration": 832,
    "start_time": "2024-10-15T01:02:29.432Z"
   },
   {
    "duration": 31,
    "start_time": "2024-10-15T01:02:44.493Z"
   },
   {
    "duration": 2541,
    "start_time": "2024-10-16T19:02:12.024Z"
   },
   {
    "duration": 2,
    "start_time": "2024-10-16T19:02:14.568Z"
   },
   {
    "duration": 473,
    "start_time": "2024-10-16T19:02:14.572Z"
   },
   {
    "duration": 164,
    "start_time": "2024-10-16T19:02:15.047Z"
   },
   {
    "duration": 556,
    "start_time": "2024-10-16T19:02:15.215Z"
   },
   {
    "duration": 5,
    "start_time": "2024-10-16T19:02:15.773Z"
   },
   {
    "duration": 9,
    "start_time": "2024-10-16T19:02:15.780Z"
   },
   {
    "duration": 6,
    "start_time": "2024-10-16T19:02:15.791Z"
   },
   {
    "duration": 30,
    "start_time": "2024-10-16T19:02:15.798Z"
   },
   {
    "duration": 5,
    "start_time": "2024-10-16T19:02:15.829Z"
   },
   {
    "duration": 278,
    "start_time": "2024-10-16T19:02:43.405Z"
   },
   {
    "duration": 14,
    "start_time": "2024-10-16T19:02:45.678Z"
   },
   {
    "duration": 7,
    "start_time": "2024-10-16T19:03:08.299Z"
   },
   {
    "duration": 4,
    "start_time": "2024-10-16T19:03:20.489Z"
   },
   {
    "duration": 3,
    "start_time": "2024-10-17T02:02:56.927Z"
   },
   {
    "duration": 6,
    "start_time": "2024-10-17T03:43:29.079Z"
   },
   {
    "duration": 4,
    "start_time": "2024-10-17T03:43:34.342Z"
   },
   {
    "duration": 348,
    "start_time": "2024-10-17T03:46:44.175Z"
   },
   {
    "duration": 50,
    "start_time": "2024-10-17T03:46:50.284Z"
   },
   {
    "duration": 3,
    "start_time": "2024-10-17T03:47:04.842Z"
   },
   {
    "duration": 37,
    "start_time": "2024-10-17T03:47:06.497Z"
   },
   {
    "duration": 5,
    "start_time": "2024-10-17T03:47:18.584Z"
   },
   {
    "duration": 33,
    "start_time": "2024-10-17T03:47:19.095Z"
   },
   {
    "duration": 37,
    "start_time": "2024-10-17T03:48:02.033Z"
   },
   {
    "duration": 2,
    "start_time": "2024-10-17T03:48:44.474Z"
   },
   {
    "duration": 170,
    "start_time": "2024-10-17T03:48:45.003Z"
   },
   {
    "duration": 325,
    "start_time": "2024-10-17T03:52:36.708Z"
   },
   {
    "duration": 350,
    "start_time": "2024-10-17T03:52:57.415Z"
   },
   {
    "duration": 309,
    "start_time": "2024-10-17T03:53:04.826Z"
   },
   {
    "duration": 581,
    "start_time": "2024-10-17T03:53:10.256Z"
   },
   {
    "duration": 333,
    "start_time": "2024-10-17T03:53:34.813Z"
   },
   {
    "duration": 143,
    "start_time": "2024-10-17T03:53:53.282Z"
   },
   {
    "duration": 18,
    "start_time": "2024-10-17T03:54:01.624Z"
   },
   {
    "duration": 21,
    "start_time": "2024-10-17T03:54:21.395Z"
   },
   {
    "duration": 5,
    "start_time": "2024-10-17T03:54:22.223Z"
   },
   {
    "duration": 112,
    "start_time": "2024-10-17T03:54:22.491Z"
   },
   {
    "duration": 143,
    "start_time": "2024-10-17T03:54:49.984Z"
   },
   {
    "duration": 148,
    "start_time": "2024-10-17T03:55:26.194Z"
   },
   {
    "duration": 213,
    "start_time": "2024-10-17T03:55:30.662Z"
   },
   {
    "duration": 196,
    "start_time": "2024-10-17T03:55:54.443Z"
   },
   {
    "duration": 417,
    "start_time": "2024-10-17T03:55:57.990Z"
   },
   {
    "duration": 350,
    "start_time": "2024-10-17T03:56:02.284Z"
   },
   {
    "duration": 2,
    "start_time": "2024-10-17T03:57:12.418Z"
   },
   {
    "duration": 355,
    "start_time": "2024-10-17T03:57:12.674Z"
   },
   {
    "duration": 470,
    "start_time": "2024-10-17T03:57:22.260Z"
   },
   {
    "duration": 280,
    "start_time": "2024-10-17T03:57:35.841Z"
   },
   {
    "duration": 540,
    "start_time": "2024-10-17T03:57:40.007Z"
   },
   {
    "duration": 1053,
    "start_time": "2024-10-17T03:58:17.551Z"
   },
   {
    "duration": 170,
    "start_time": "2024-10-17T17:32:57.601Z"
   },
   {
    "duration": 2937,
    "start_time": "2024-10-17T17:33:00.641Z"
   },
   {
    "duration": 4,
    "start_time": "2024-10-17T17:33:03.581Z"
   },
   {
    "duration": 470,
    "start_time": "2024-10-17T17:33:03.587Z"
   },
   {
    "duration": 177,
    "start_time": "2024-10-17T17:33:04.058Z"
   },
   {
    "duration": 582,
    "start_time": "2024-10-17T17:33:04.238Z"
   },
   {
    "duration": 5,
    "start_time": "2024-10-17T17:33:04.822Z"
   },
   {
    "duration": 9,
    "start_time": "2024-10-17T17:33:04.829Z"
   },
   {
    "duration": 7,
    "start_time": "2024-10-17T17:33:04.840Z"
   },
   {
    "duration": 56,
    "start_time": "2024-10-17T17:33:04.849Z"
   },
   {
    "duration": 4,
    "start_time": "2024-10-17T17:33:04.907Z"
   },
   {
    "duration": 1016,
    "start_time": "2024-10-17T17:33:04.913Z"
   },
   {
    "duration": 3,
    "start_time": "2024-10-17T17:49:13.828Z"
   },
   {
    "duration": 1047,
    "start_time": "2024-10-17T17:49:30.952Z"
   },
   {
    "duration": 4,
    "start_time": "2024-10-17T17:50:05.851Z"
   },
   {
    "duration": 1102,
    "start_time": "2024-10-17T17:50:07.112Z"
   },
   {
    "duration": 4,
    "start_time": "2024-10-17T17:51:40.788Z"
   },
   {
    "duration": 1087,
    "start_time": "2024-10-17T17:51:41.665Z"
   },
   {
    "duration": 118,
    "start_time": "2024-10-17T18:50:55.863Z"
   },
   {
    "duration": 194,
    "start_time": "2024-10-17T18:51:05.764Z"
   },
   {
    "duration": 177,
    "start_time": "2024-10-17T19:01:34.100Z"
   },
   {
    "duration": 330,
    "start_time": "2024-10-17T19:01:40.242Z"
   },
   {
    "duration": 206,
    "start_time": "2024-10-17T19:16:03.122Z"
   },
   {
    "duration": 209,
    "start_time": "2024-10-17T19:16:59.908Z"
   },
   {
    "duration": 231,
    "start_time": "2024-10-17T19:17:19.198Z"
   },
   {
    "duration": 245,
    "start_time": "2024-10-17T19:17:46.606Z"
   },
   {
    "duration": 160,
    "start_time": "2024-10-17T19:18:00.711Z"
   },
   {
    "duration": 316,
    "start_time": "2024-10-17T22:13:13.301Z"
   },
   {
    "duration": 239,
    "start_time": "2024-10-17T22:13:15.935Z"
   },
   {
    "duration": 263,
    "start_time": "2024-10-17T22:21:21.814Z"
   },
   {
    "duration": 5,
    "start_time": "2024-10-18T00:23:38.234Z"
   },
   {
    "duration": 4,
    "start_time": "2024-10-18T00:25:16.035Z"
   },
   {
    "duration": 244,
    "start_time": "2024-10-18T01:56:07.423Z"
   },
   {
    "duration": 266,
    "start_time": "2024-10-18T01:58:19.965Z"
   },
   {
    "duration": 377,
    "start_time": "2024-10-18T02:03:27.923Z"
   },
   {
    "duration": 4,
    "start_time": "2024-10-18T04:45:21.807Z"
   },
   {
    "duration": 1040,
    "start_time": "2024-10-18T04:45:22.815Z"
   },
   {
    "duration": 4,
    "start_time": "2024-10-18T04:45:41.414Z"
   },
   {
    "duration": 1089,
    "start_time": "2024-10-18T04:45:41.888Z"
   },
   {
    "duration": 167,
    "start_time": "2024-10-18T20:35:54.811Z"
   },
   {
    "duration": 2646,
    "start_time": "2024-10-18T20:36:04.594Z"
   },
   {
    "duration": 3,
    "start_time": "2024-10-18T20:36:07.243Z"
   },
   {
    "duration": 462,
    "start_time": "2024-10-18T20:36:07.248Z"
   },
   {
    "duration": 171,
    "start_time": "2024-10-18T20:36:07.713Z"
   },
   {
    "duration": 576,
    "start_time": "2024-10-18T20:36:07.887Z"
   },
   {
    "duration": 6,
    "start_time": "2024-10-18T20:36:08.465Z"
   },
   {
    "duration": 9,
    "start_time": "2024-10-18T20:36:08.473Z"
   },
   {
    "duration": 26,
    "start_time": "2024-10-18T20:36:08.484Z"
   },
   {
    "duration": 30,
    "start_time": "2024-10-18T20:36:08.512Z"
   },
   {
    "duration": 3,
    "start_time": "2024-10-18T20:36:08.544Z"
   },
   {
    "duration": 5,
    "start_time": "2024-10-18T20:36:08.548Z"
   },
   {
    "duration": 1309,
    "start_time": "2024-10-18T20:36:08.555Z"
   },
   {
    "duration": 281,
    "start_time": "2024-10-18T20:36:09.866Z"
   },
   {
    "duration": 281,
    "start_time": "2024-10-18T20:36:10.149Z"
   },
   {
    "duration": 6,
    "start_time": "2024-10-18T20:36:10.432Z"
   },
   {
    "duration": 189,
    "start_time": "2024-10-18T20:36:10.439Z"
   },
   {
    "duration": 5,
    "start_time": "2024-10-18T20:36:10.630Z"
   },
   {
    "duration": 172,
    "start_time": "2024-10-18T20:36:19.328Z"
   },
   {
    "duration": 179,
    "start_time": "2024-10-18T20:36:25.855Z"
   },
   {
    "duration": 364,
    "start_time": "2024-10-18T20:36:30.342Z"
   },
   {
    "duration": 4,
    "start_time": "2024-10-18T21:56:44.098Z"
   },
   {
    "duration": 3,
    "start_time": "2024-10-18T21:56:47.260Z"
   },
   {
    "duration": 79,
    "start_time": "2024-10-18T22:43:03.163Z"
   },
   {
    "duration": 4,
    "start_time": "2024-10-18T22:43:07.547Z"
   },
   {
    "duration": 3,
    "start_time": "2024-10-18T22:43:07.553Z"
   },
   {
    "duration": 422,
    "start_time": "2024-10-18T22:43:07.557Z"
   },
   {
    "duration": 153,
    "start_time": "2024-10-18T22:43:07.981Z"
   },
   {
    "duration": 502,
    "start_time": "2024-10-18T22:43:08.136Z"
   },
   {
    "duration": 5,
    "start_time": "2024-10-18T22:43:08.640Z"
   },
   {
    "duration": 9,
    "start_time": "2024-10-18T22:43:08.646Z"
   },
   {
    "duration": 6,
    "start_time": "2024-10-18T22:43:08.656Z"
   },
   {
    "duration": 50,
    "start_time": "2024-10-18T22:43:08.664Z"
   },
   {
    "duration": 3,
    "start_time": "2024-10-18T22:43:08.716Z"
   },
   {
    "duration": 3,
    "start_time": "2024-10-18T22:43:08.721Z"
   },
   {
    "duration": 1172,
    "start_time": "2024-10-18T22:43:08.726Z"
   },
   {
    "duration": 252,
    "start_time": "2024-10-18T22:43:09.900Z"
   },
   {
    "duration": 258,
    "start_time": "2024-10-18T22:43:10.153Z"
   },
   {
    "duration": 5,
    "start_time": "2024-10-18T22:43:10.413Z"
   },
   {
    "duration": 296,
    "start_time": "2024-10-18T22:43:10.419Z"
   },
   {
    "duration": 3,
    "start_time": "2024-10-18T22:43:10.717Z"
   },
   {
    "duration": 14,
    "start_time": "2024-10-18T22:43:10.722Z"
   },
   {
    "duration": 0,
    "start_time": "2024-10-18T22:43:10.738Z"
   },
   {
    "duration": 39,
    "start_time": "2024-10-18T22:43:39.047Z"
   },
   {
    "duration": 4,
    "start_time": "2024-10-18T22:43:41.117Z"
   },
   {
    "duration": 4,
    "start_time": "2024-10-18T22:43:41.123Z"
   },
   {
    "duration": 404,
    "start_time": "2024-10-18T22:43:41.128Z"
   },
   {
    "duration": 231,
    "start_time": "2024-10-18T22:43:41.534Z"
   },
   {
    "duration": 502,
    "start_time": "2024-10-18T22:43:41.768Z"
   },
   {
    "duration": 5,
    "start_time": "2024-10-18T22:43:42.272Z"
   },
   {
    "duration": 11,
    "start_time": "2024-10-18T22:43:42.279Z"
   },
   {
    "duration": 6,
    "start_time": "2024-10-18T22:43:42.308Z"
   },
   {
    "duration": 28,
    "start_time": "2024-10-18T22:43:42.316Z"
   },
   {
    "duration": 3,
    "start_time": "2024-10-18T22:43:42.346Z"
   },
   {
    "duration": 4,
    "start_time": "2024-10-18T22:43:42.350Z"
   },
   {
    "duration": 1078,
    "start_time": "2024-10-18T22:43:42.356Z"
   },
   {
    "duration": 328,
    "start_time": "2024-10-18T22:43:43.436Z"
   },
   {
    "duration": 260,
    "start_time": "2024-10-18T22:43:43.768Z"
   },
   {
    "duration": 6,
    "start_time": "2024-10-18T22:43:44.030Z"
   },
   {
    "duration": 308,
    "start_time": "2024-10-18T22:43:44.038Z"
   },
   {
    "duration": 3,
    "start_time": "2024-10-18T22:43:44.348Z"
   },
   {
    "duration": 3,
    "start_time": "2024-10-18T22:43:44.353Z"
   },
   {
    "duration": 3,
    "start_time": "2024-10-18T22:43:44.357Z"
   },
   {
    "duration": 3,
    "start_time": "2024-10-18T22:53:04.240Z"
   },
   {
    "duration": 2,
    "start_time": "2024-10-18T22:53:05.262Z"
   },
   {
    "duration": 452,
    "start_time": "2024-10-19T00:11:49.317Z"
   },
   {
    "duration": 913,
    "start_time": "2024-10-19T02:27:49.008Z"
   },
   {
    "duration": 4,
    "start_time": "2024-10-19T02:27:49.923Z"
   },
   {
    "duration": 496,
    "start_time": "2024-10-19T02:27:49.928Z"
   },
   {
    "duration": 146,
    "start_time": "2024-10-19T02:27:50.426Z"
   },
   {
    "duration": 525,
    "start_time": "2024-10-19T02:27:50.575Z"
   },
   {
    "duration": 11,
    "start_time": "2024-10-19T02:27:51.101Z"
   },
   {
    "duration": 9,
    "start_time": "2024-10-19T02:27:51.114Z"
   },
   {
    "duration": 5,
    "start_time": "2024-10-19T02:27:51.125Z"
   },
   {
    "duration": 29,
    "start_time": "2024-10-19T02:27:51.132Z"
   },
   {
    "duration": 3,
    "start_time": "2024-10-19T02:27:51.163Z"
   },
   {
    "duration": 5,
    "start_time": "2024-10-19T02:27:51.167Z"
   },
   {
    "duration": 1138,
    "start_time": "2024-10-19T02:27:51.173Z"
   },
   {
    "duration": 319,
    "start_time": "2024-10-19T02:27:52.313Z"
   },
   {
    "duration": 265,
    "start_time": "2024-10-19T02:27:52.636Z"
   },
   {
    "duration": 8,
    "start_time": "2024-10-19T02:27:52.903Z"
   },
   {
    "duration": 5,
    "start_time": "2024-10-19T02:27:52.913Z"
   },
   {
    "duration": 298,
    "start_time": "2024-10-19T02:27:52.920Z"
   },
   {
    "duration": 3,
    "start_time": "2024-10-19T02:27:53.221Z"
   },
   {
    "duration": 4,
    "start_time": "2024-10-19T02:27:53.226Z"
   },
   {
    "duration": 654,
    "start_time": "2024-10-19T02:27:53.231Z"
   },
   {
    "duration": 0,
    "start_time": "2024-10-19T02:27:53.886Z"
   },
   {
    "duration": 4,
    "start_time": "2024-10-19T02:33:58.548Z"
   },
   {
    "duration": 3,
    "start_time": "2024-10-19T02:33:58.729Z"
   },
   {
    "duration": 18,
    "start_time": "2024-10-19T02:33:58.883Z"
   },
   {
    "duration": 48,
    "start_time": "2024-10-19T02:34:48.556Z"
   },
   {
    "duration": 103,
    "start_time": "2024-10-19T02:34:57.634Z"
   },
   {
    "duration": 18,
    "start_time": "2024-10-19T02:35:11.058Z"
   },
   {
    "duration": 21,
    "start_time": "2024-10-19T02:35:18.764Z"
   },
   {
    "duration": 3,
    "start_time": "2024-10-19T02:36:11.618Z"
   },
   {
    "duration": 4,
    "start_time": "2024-10-19T02:36:11.824Z"
   },
   {
    "duration": 332,
    "start_time": "2024-10-19T02:36:11.953Z"
   },
   {
    "duration": 931,
    "start_time": "2024-10-19T02:36:17.474Z"
   },
   {
    "duration": 4,
    "start_time": "2024-10-19T02:36:18.407Z"
   },
   {
    "duration": 524,
    "start_time": "2024-10-19T02:36:18.413Z"
   },
   {
    "duration": 156,
    "start_time": "2024-10-19T02:36:18.940Z"
   },
   {
    "duration": 548,
    "start_time": "2024-10-19T02:36:19.100Z"
   },
   {
    "duration": 7,
    "start_time": "2024-10-19T02:36:19.650Z"
   },
   {
    "duration": 10,
    "start_time": "2024-10-19T02:36:19.660Z"
   },
   {
    "duration": 7,
    "start_time": "2024-10-19T02:36:19.671Z"
   },
   {
    "duration": 54,
    "start_time": "2024-10-19T02:36:19.679Z"
   },
   {
    "duration": 2,
    "start_time": "2024-10-19T02:36:19.735Z"
   },
   {
    "duration": 4,
    "start_time": "2024-10-19T02:36:19.739Z"
   },
   {
    "duration": 1135,
    "start_time": "2024-10-19T02:36:19.745Z"
   },
   {
    "duration": 329,
    "start_time": "2024-10-19T02:36:20.882Z"
   },
   {
    "duration": 265,
    "start_time": "2024-10-19T02:36:21.215Z"
   },
   {
    "duration": 3,
    "start_time": "2024-10-19T02:36:21.482Z"
   },
   {
    "duration": 5,
    "start_time": "2024-10-19T02:36:21.487Z"
   },
   {
    "duration": 302,
    "start_time": "2024-10-19T02:36:21.493Z"
   },
   {
    "duration": 4,
    "start_time": "2024-10-19T02:36:21.796Z"
   },
   {
    "duration": 3,
    "start_time": "2024-10-19T02:36:21.809Z"
   },
   {
    "duration": 21,
    "start_time": "2024-10-19T02:36:21.813Z"
   },
   {
    "duration": 233,
    "start_time": "2024-10-19T02:36:21.835Z"
   },
   {
    "duration": 18,
    "start_time": "2024-10-19T02:36:27.163Z"
   },
   {
    "duration": 5,
    "start_time": "2024-10-19T02:38:18.338Z"
   },
   {
    "duration": 356,
    "start_time": "2024-10-19T02:38:18.469Z"
   },
   {
    "duration": 3,
    "start_time": "2024-10-19T02:38:20.155Z"
   },
   {
    "duration": 3,
    "start_time": "2024-10-19T02:38:20.889Z"
   },
   {
    "duration": 14,
    "start_time": "2024-10-19T02:38:21.390Z"
   },
   {
    "duration": 5,
    "start_time": "2024-10-19T02:38:35.059Z"
   },
   {
    "duration": 970,
    "start_time": "2024-10-19T02:38:47.321Z"
   },
   {
    "duration": 3,
    "start_time": "2024-10-19T02:38:48.294Z"
   },
   {
    "duration": 461,
    "start_time": "2024-10-19T02:38:48.298Z"
   },
   {
    "duration": 159,
    "start_time": "2024-10-19T02:38:48.761Z"
   },
   {
    "duration": 511,
    "start_time": "2024-10-19T02:38:48.923Z"
   },
   {
    "duration": 7,
    "start_time": "2024-10-19T02:38:49.436Z"
   },
   {
    "duration": 10,
    "start_time": "2024-10-19T02:38:49.444Z"
   },
   {
    "duration": 6,
    "start_time": "2024-10-19T02:38:49.455Z"
   },
   {
    "duration": 54,
    "start_time": "2024-10-19T02:38:49.463Z"
   },
   {
    "duration": 3,
    "start_time": "2024-10-19T02:38:49.518Z"
   },
   {
    "duration": 4,
    "start_time": "2024-10-19T02:38:49.523Z"
   },
   {
    "duration": 1112,
    "start_time": "2024-10-19T02:38:49.529Z"
   },
   {
    "duration": 321,
    "start_time": "2024-10-19T02:38:50.642Z"
   },
   {
    "duration": 256,
    "start_time": "2024-10-19T02:38:50.967Z"
   },
   {
    "duration": 5,
    "start_time": "2024-10-19T02:38:51.224Z"
   },
   {
    "duration": 5,
    "start_time": "2024-10-19T02:38:51.230Z"
   },
   {
    "duration": 291,
    "start_time": "2024-10-19T02:38:51.237Z"
   },
   {
    "duration": 4,
    "start_time": "2024-10-19T02:38:51.529Z"
   },
   {
    "duration": 3,
    "start_time": "2024-10-19T02:38:51.534Z"
   },
   {
    "duration": 252,
    "start_time": "2024-10-19T02:38:51.539Z"
   },
   {
    "duration": 0,
    "start_time": "2024-10-19T02:38:51.793Z"
   },
   {
    "duration": 20,
    "start_time": "2024-10-19T02:39:15.269Z"
   },
   {
    "duration": 958,
    "start_time": "2024-10-19T02:40:39.929Z"
   },
   {
    "duration": 4,
    "start_time": "2024-10-19T02:40:40.889Z"
   },
   {
    "duration": 501,
    "start_time": "2024-10-19T02:40:40.897Z"
   },
   {
    "duration": 150,
    "start_time": "2024-10-19T02:40:41.408Z"
   },
   {
    "duration": 515,
    "start_time": "2024-10-19T02:40:41.561Z"
   },
   {
    "duration": 6,
    "start_time": "2024-10-19T02:40:42.078Z"
   },
   {
    "duration": 25,
    "start_time": "2024-10-19T02:40:42.086Z"
   },
   {
    "duration": 7,
    "start_time": "2024-10-19T02:40:42.112Z"
   },
   {
    "duration": 29,
    "start_time": "2024-10-19T02:40:42.120Z"
   },
   {
    "duration": 2,
    "start_time": "2024-10-19T02:40:42.153Z"
   },
   {
    "duration": 3,
    "start_time": "2024-10-19T02:40:42.157Z"
   },
   {
    "duration": 1086,
    "start_time": "2024-10-19T02:40:42.161Z"
   },
   {
    "duration": 324,
    "start_time": "2024-10-19T02:40:43.249Z"
   },
   {
    "duration": 251,
    "start_time": "2024-10-19T02:40:43.575Z"
   },
   {
    "duration": 3,
    "start_time": "2024-10-19T02:40:43.828Z"
   },
   {
    "duration": 4,
    "start_time": "2024-10-19T02:40:43.833Z"
   },
   {
    "duration": 299,
    "start_time": "2024-10-19T02:40:43.839Z"
   },
   {
    "duration": 3,
    "start_time": "2024-10-19T02:40:44.140Z"
   },
   {
    "duration": 3,
    "start_time": "2024-10-19T02:40:44.144Z"
   },
   {
    "duration": 691,
    "start_time": "2024-10-19T02:40:44.150Z"
   },
   {
    "duration": 0,
    "start_time": "2024-10-19T02:40:44.843Z"
   },
   {
    "duration": 45,
    "start_time": "2024-10-19T03:07:20.890Z"
   },
   {
    "duration": 35,
    "start_time": "2024-10-19T03:07:42.078Z"
   },
   {
    "duration": 922,
    "start_time": "2024-10-19T03:07:47.571Z"
   },
   {
    "duration": 3,
    "start_time": "2024-10-19T03:07:48.495Z"
   },
   {
    "duration": 480,
    "start_time": "2024-10-19T03:07:48.508Z"
   },
   {
    "duration": 152,
    "start_time": "2024-10-19T03:07:48.990Z"
   },
   {
    "duration": 499,
    "start_time": "2024-10-19T03:07:49.145Z"
   },
   {
    "duration": 6,
    "start_time": "2024-10-19T03:07:49.646Z"
   },
   {
    "duration": 10,
    "start_time": "2024-10-19T03:07:49.654Z"
   },
   {
    "duration": 6,
    "start_time": "2024-10-19T03:07:49.665Z"
   },
   {
    "duration": 60,
    "start_time": "2024-10-19T03:07:49.673Z"
   },
   {
    "duration": 3,
    "start_time": "2024-10-19T03:07:49.735Z"
   },
   {
    "duration": 5,
    "start_time": "2024-10-19T03:07:49.739Z"
   },
   {
    "duration": 1102,
    "start_time": "2024-10-19T03:07:49.745Z"
   },
   {
    "duration": 334,
    "start_time": "2024-10-19T03:07:50.849Z"
   },
   {
    "duration": 250,
    "start_time": "2024-10-19T03:07:51.187Z"
   },
   {
    "duration": 3,
    "start_time": "2024-10-19T03:07:51.438Z"
   },
   {
    "duration": 5,
    "start_time": "2024-10-19T03:07:51.443Z"
   },
   {
    "duration": 298,
    "start_time": "2024-10-19T03:07:51.450Z"
   },
   {
    "duration": 3,
    "start_time": "2024-10-19T03:07:51.750Z"
   },
   {
    "duration": 3,
    "start_time": "2024-10-19T03:07:51.755Z"
   },
   {
    "duration": 24,
    "start_time": "2024-10-19T03:07:51.760Z"
   },
   {
    "duration": 240,
    "start_time": "2024-10-19T03:07:51.785Z"
   },
   {
    "duration": 4,
    "start_time": "2024-10-19T05:30:20.555Z"
   },
   {
    "duration": 4,
    "start_time": "2024-10-19T05:30:28.874Z"
   },
   {
    "duration": 24,
    "start_time": "2024-10-19T05:31:58.043Z"
   },
   {
    "duration": 27,
    "start_time": "2024-10-19T05:57:51.462Z"
   },
   {
    "duration": 30,
    "start_time": "2024-10-19T06:04:44.839Z"
   },
   {
    "duration": 29,
    "start_time": "2024-10-19T06:14:54.783Z"
   },
   {
    "duration": 38,
    "start_time": "2024-10-19T06:16:08.526Z"
   },
   {
    "duration": 476,
    "start_time": "2024-10-19T06:16:15.371Z"
   },
   {
    "duration": 1146,
    "start_time": "2024-10-19T06:16:26.408Z"
   },
   {
    "duration": 4,
    "start_time": "2024-10-19T06:16:27.557Z"
   },
   {
    "duration": 511,
    "start_time": "2024-10-19T06:16:27.563Z"
   },
   {
    "duration": 162,
    "start_time": "2024-10-19T06:16:28.076Z"
   },
   {
    "duration": 537,
    "start_time": "2024-10-19T06:16:28.241Z"
   },
   {
    "duration": 6,
    "start_time": "2024-10-19T06:16:28.781Z"
   },
   {
    "duration": 30,
    "start_time": "2024-10-19T06:16:28.789Z"
   },
   {
    "duration": 8,
    "start_time": "2024-10-19T06:16:28.821Z"
   },
   {
    "duration": 47,
    "start_time": "2024-10-19T06:16:28.831Z"
   },
   {
    "duration": 5,
    "start_time": "2024-10-19T06:16:28.880Z"
   },
   {
    "duration": 4,
    "start_time": "2024-10-19T06:16:28.910Z"
   },
   {
    "duration": 1171,
    "start_time": "2024-10-19T06:16:28.916Z"
   },
   {
    "duration": 347,
    "start_time": "2024-10-19T06:16:30.089Z"
   },
   {
    "duration": 266,
    "start_time": "2024-10-19T06:16:30.439Z"
   },
   {
    "duration": 4,
    "start_time": "2024-10-19T06:16:30.709Z"
   },
   {
    "duration": 5,
    "start_time": "2024-10-19T06:16:30.715Z"
   },
   {
    "duration": 340,
    "start_time": "2024-10-19T06:16:30.722Z"
   },
   {
    "duration": 3,
    "start_time": "2024-10-19T06:16:31.065Z"
   },
   {
    "duration": 3,
    "start_time": "2024-10-19T06:16:31.070Z"
   },
   {
    "duration": 42,
    "start_time": "2024-10-19T06:16:31.075Z"
   },
   {
    "duration": 5,
    "start_time": "2024-10-19T06:16:31.119Z"
   },
   {
    "duration": 265,
    "start_time": "2024-10-19T06:16:31.126Z"
   },
   {
    "duration": 21,
    "start_time": "2024-10-19T06:16:38.073Z"
   },
   {
    "duration": 28,
    "start_time": "2024-10-19T06:17:33.131Z"
   },
   {
    "duration": 11,
    "start_time": "2024-10-19T06:18:30.852Z"
   },
   {
    "duration": 24,
    "start_time": "2024-10-19T06:27:09.790Z"
   },
   {
    "duration": 4,
    "start_time": "2024-10-19T06:34:06.983Z"
   },
   {
    "duration": 4,
    "start_time": "2024-10-19T06:37:43.887Z"
   },
   {
    "duration": 55,
    "start_time": "2024-10-19T06:44:27.556Z"
   },
   {
    "duration": 166,
    "start_time": "2024-10-19T07:03:58.770Z"
   },
   {
    "duration": 21,
    "start_time": "2024-10-19T07:04:46.488Z"
   },
   {
    "duration": 4,
    "start_time": "2024-10-19T07:05:11.951Z"
   },
   {
    "duration": 572,
    "start_time": "2024-10-19T07:05:45.457Z"
   },
   {
    "duration": 5,
    "start_time": "2024-10-19T07:06:15.415Z"
   },
   {
    "duration": 3,
    "start_time": "2024-10-19T07:06:18.527Z"
   },
   {
    "duration": 4,
    "start_time": "2024-10-19T07:06:18.533Z"
   },
   {
    "duration": 430,
    "start_time": "2024-10-19T07:06:18.539Z"
   },
   {
    "duration": 164,
    "start_time": "2024-10-19T07:06:18.971Z"
   },
   {
    "duration": 579,
    "start_time": "2024-10-19T07:06:19.138Z"
   },
   {
    "duration": 6,
    "start_time": "2024-10-19T07:06:19.720Z"
   },
   {
    "duration": 10,
    "start_time": "2024-10-19T07:06:19.728Z"
   },
   {
    "duration": 7,
    "start_time": "2024-10-19T07:06:19.740Z"
   },
   {
    "duration": 69,
    "start_time": "2024-10-19T07:06:19.749Z"
   },
   {
    "duration": 3,
    "start_time": "2024-10-19T07:06:19.820Z"
   },
   {
    "duration": 4,
    "start_time": "2024-10-19T07:06:19.825Z"
   },
   {
    "duration": 1201,
    "start_time": "2024-10-19T07:06:19.830Z"
   },
   {
    "duration": 278,
    "start_time": "2024-10-19T07:06:21.033Z"
   },
   {
    "duration": 297,
    "start_time": "2024-10-19T07:06:21.315Z"
   },
   {
    "duration": 3,
    "start_time": "2024-10-19T07:06:21.616Z"
   },
   {
    "duration": 4,
    "start_time": "2024-10-19T07:06:21.622Z"
   },
   {
    "duration": 340,
    "start_time": "2024-10-19T07:06:21.628Z"
   },
   {
    "duration": 5,
    "start_time": "2024-10-19T07:06:21.970Z"
   },
   {
    "duration": 40,
    "start_time": "2024-10-19T07:06:21.977Z"
   },
   {
    "duration": 20,
    "start_time": "2024-10-19T07:06:22.020Z"
   },
   {
    "duration": 3,
    "start_time": "2024-10-19T07:06:22.042Z"
   },
   {
    "duration": 578,
    "start_time": "2024-10-19T07:06:22.047Z"
   },
   {
    "duration": 6,
    "start_time": "2024-10-19T07:16:30.149Z"
   },
   {
    "duration": 4,
    "start_time": "2024-10-19T07:16:34.483Z"
   },
   {
    "duration": 686,
    "start_time": "2024-10-19T07:16:39.348Z"
   },
   {
    "duration": 5,
    "start_time": "2024-10-19T07:17:42.908Z"
   },
   {
    "duration": 854,
    "start_time": "2024-10-19T07:17:44.466Z"
   },
   {
    "duration": 5,
    "start_time": "2024-10-19T07:17:59.928Z"
   },
   {
    "duration": 672,
    "start_time": "2024-10-19T07:18:01.253Z"
   },
   {
    "duration": 11,
    "start_time": "2024-10-19T07:18:17.193Z"
   },
   {
    "duration": 795,
    "start_time": "2024-10-19T07:18:20.627Z"
   },
   {
    "duration": 1082,
    "start_time": "2024-10-19T07:18:53.871Z"
   },
   {
    "duration": 6,
    "start_time": "2024-10-19T07:18:54.956Z"
   },
   {
    "duration": 556,
    "start_time": "2024-10-19T07:18:54.964Z"
   },
   {
    "duration": 187,
    "start_time": "2024-10-19T07:18:55.522Z"
   },
   {
    "duration": 562,
    "start_time": "2024-10-19T07:18:55.713Z"
   },
   {
    "duration": 7,
    "start_time": "2024-10-19T07:18:56.278Z"
   },
   {
    "duration": 32,
    "start_time": "2024-10-19T07:18:56.288Z"
   },
   {
    "duration": 8,
    "start_time": "2024-10-19T07:18:56.323Z"
   },
   {
    "duration": 75,
    "start_time": "2024-10-19T07:18:56.334Z"
   },
   {
    "duration": 4,
    "start_time": "2024-10-19T07:18:56.411Z"
   },
   {
    "duration": 5,
    "start_time": "2024-10-19T07:18:56.416Z"
   },
   {
    "duration": 1310,
    "start_time": "2024-10-19T07:18:56.422Z"
   },
   {
    "duration": 459,
    "start_time": "2024-10-19T07:18:57.737Z"
   },
   {
    "duration": 325,
    "start_time": "2024-10-19T07:18:58.200Z"
   },
   {
    "duration": 5,
    "start_time": "2024-10-19T07:18:58.528Z"
   },
   {
    "duration": 7,
    "start_time": "2024-10-19T07:18:58.535Z"
   },
   {
    "duration": 364,
    "start_time": "2024-10-19T07:18:58.547Z"
   },
   {
    "duration": 6,
    "start_time": "2024-10-19T07:18:58.914Z"
   },
   {
    "duration": 4,
    "start_time": "2024-10-19T07:18:58.922Z"
   },
   {
    "duration": 22,
    "start_time": "2024-10-19T07:18:58.928Z"
   },
   {
    "duration": 24,
    "start_time": "2024-10-19T07:18:58.952Z"
   },
   {
    "duration": 4,
    "start_time": "2024-10-19T07:18:59.008Z"
   },
   {
    "duration": 722,
    "start_time": "2024-10-19T07:18:59.015Z"
   },
   {
    "duration": 4,
    "start_time": "2024-10-19T07:32:21.644Z"
   },
   {
    "duration": 24,
    "start_time": "2024-10-19T07:32:27.724Z"
   },
   {
    "duration": 17,
    "start_time": "2024-10-19T07:32:27.951Z"
   },
   {
    "duration": 3,
    "start_time": "2024-10-19T07:32:28.364Z"
   },
   {
    "duration": 541,
    "start_time": "2024-10-19T07:32:29.089Z"
   },
   {
    "duration": 6,
    "start_time": "2024-10-19T07:32:47.240Z"
   },
   {
    "duration": 731,
    "start_time": "2024-10-19T07:32:49.553Z"
   },
   {
    "duration": 4,
    "start_time": "2024-10-19T07:33:06.883Z"
   },
   {
    "duration": 192,
    "start_time": "2024-10-19T07:33:08.977Z"
   },
   {
    "duration": 5,
    "start_time": "2024-10-19T07:35:18.343Z"
   },
   {
    "duration": 567,
    "start_time": "2024-10-19T07:35:22.457Z"
   },
   {
    "duration": 478,
    "start_time": "2024-10-19T07:36:09.246Z"
   },
   {
    "duration": 587,
    "start_time": "2024-10-19T07:36:53.029Z"
   },
   {
    "duration": 18,
    "start_time": "2024-10-19T07:38:15.639Z"
   },
   {
    "duration": 4,
    "start_time": "2024-10-19T07:38:23.938Z"
   },
   {
    "duration": 4,
    "start_time": "2024-10-19T07:40:33.166Z"
   },
   {
    "duration": 21,
    "start_time": "2024-10-19T07:40:34.557Z"
   },
   {
    "duration": 25,
    "start_time": "2024-10-19T07:40:34.745Z"
   },
   {
    "duration": 3,
    "start_time": "2024-10-19T07:40:34.918Z"
   },
   {
    "duration": 435,
    "start_time": "2024-10-19T07:40:35.890Z"
   },
   {
    "duration": 3,
    "start_time": "2024-10-19T07:40:37.985Z"
   },
   {
    "duration": 7983,
    "start_time": "2024-10-19T07:43:08.693Z"
   },
   {
    "duration": 51391,
    "start_time": "2024-10-19T07:43:47.020Z"
   },
   {
    "duration": 1040,
    "start_time": "2024-10-19T07:44:50.493Z"
   },
   {
    "duration": 4,
    "start_time": "2024-10-19T07:44:51.535Z"
   },
   {
    "duration": 544,
    "start_time": "2024-10-19T07:44:51.541Z"
   },
   {
    "duration": 175,
    "start_time": "2024-10-19T07:44:52.088Z"
   },
   {
    "duration": 576,
    "start_time": "2024-10-19T07:44:52.266Z"
   },
   {
    "duration": 7,
    "start_time": "2024-10-19T07:44:52.844Z"
   },
   {
    "duration": 13,
    "start_time": "2024-10-19T07:44:52.854Z"
   },
   {
    "duration": 8,
    "start_time": "2024-10-19T07:44:52.869Z"
   },
   {
    "duration": 72,
    "start_time": "2024-10-19T07:44:52.879Z"
   },
   {
    "duration": 4,
    "start_time": "2024-10-19T07:44:52.954Z"
   },
   {
    "duration": 3,
    "start_time": "2024-10-19T07:44:52.960Z"
   },
   {
    "duration": 1230,
    "start_time": "2024-10-19T07:44:52.965Z"
   },
   {
    "duration": 378,
    "start_time": "2024-10-19T07:44:54.198Z"
   },
   {
    "duration": 288,
    "start_time": "2024-10-19T07:44:54.579Z"
   },
   {
    "duration": 5,
    "start_time": "2024-10-19T07:44:54.870Z"
   },
   {
    "duration": 6,
    "start_time": "2024-10-19T07:44:54.877Z"
   },
   {
    "duration": 352,
    "start_time": "2024-10-19T07:44:54.886Z"
   },
   {
    "duration": 4,
    "start_time": "2024-10-19T07:44:55.240Z"
   },
   {
    "duration": 27,
    "start_time": "2024-10-19T07:44:55.246Z"
   },
   {
    "duration": 50,
    "start_time": "2024-10-19T07:44:55.276Z"
   },
   {
    "duration": 3,
    "start_time": "2024-10-19T07:44:55.328Z"
   },
   {
    "duration": 676,
    "start_time": "2024-10-19T07:44:55.334Z"
   },
   {
    "duration": 8034,
    "start_time": "2024-10-19T07:44:56.012Z"
   },
   {
    "duration": 347382,
    "start_time": "2024-10-19T07:45:04.048Z"
   },
   {
    "duration": 949,
    "start_time": "2024-10-19T07:51:00.912Z"
   },
   {
    "duration": 4,
    "start_time": "2024-10-19T07:51:01.864Z"
   },
   {
    "duration": 534,
    "start_time": "2024-10-19T07:51:01.870Z"
   },
   {
    "duration": 162,
    "start_time": "2024-10-19T07:51:02.409Z"
   },
   {
    "duration": 571,
    "start_time": "2024-10-19T07:51:02.574Z"
   },
   {
    "duration": 6,
    "start_time": "2024-10-19T07:51:03.147Z"
   },
   {
    "duration": 32,
    "start_time": "2024-10-19T07:51:03.154Z"
   },
   {
    "duration": 12,
    "start_time": "2024-10-19T07:51:03.188Z"
   },
   {
    "duration": 40,
    "start_time": "2024-10-19T07:51:03.202Z"
   },
   {
    "duration": 3,
    "start_time": "2024-10-19T07:51:03.244Z"
   },
   {
    "duration": 4,
    "start_time": "2024-10-19T07:51:03.248Z"
   },
   {
    "duration": 1198,
    "start_time": "2024-10-19T07:51:03.254Z"
   },
   {
    "duration": 448,
    "start_time": "2024-10-19T07:51:04.454Z"
   },
   {
    "duration": 279,
    "start_time": "2024-10-19T07:51:04.908Z"
   },
   {
    "duration": 4,
    "start_time": "2024-10-19T07:51:05.189Z"
   },
   {
    "duration": 14,
    "start_time": "2024-10-19T07:51:05.195Z"
   },
   {
    "duration": 308,
    "start_time": "2024-10-19T07:51:05.210Z"
   },
   {
    "duration": 5,
    "start_time": "2024-10-19T07:51:05.521Z"
   },
   {
    "duration": 23,
    "start_time": "2024-10-19T07:51:05.528Z"
   },
   {
    "duration": 20,
    "start_time": "2024-10-19T07:51:05.553Z"
   },
   {
    "duration": 6,
    "start_time": "2024-10-19T07:51:05.575Z"
   },
   {
    "duration": 617,
    "start_time": "2024-10-19T07:51:05.609Z"
   },
   {
    "duration": 8108,
    "start_time": "2024-10-19T07:51:06.229Z"
   },
   {
    "duration": 1052,
    "start_time": "2024-10-19T07:52:12.315Z"
   },
   {
    "duration": 3,
    "start_time": "2024-10-19T07:52:13.370Z"
   },
   {
    "duration": 523,
    "start_time": "2024-10-19T07:52:13.376Z"
   },
   {
    "duration": 174,
    "start_time": "2024-10-19T07:52:13.901Z"
   },
   {
    "duration": 552,
    "start_time": "2024-10-19T07:52:14.079Z"
   },
   {
    "duration": 6,
    "start_time": "2024-10-19T07:52:14.633Z"
   },
   {
    "duration": 11,
    "start_time": "2024-10-19T07:52:14.641Z"
   },
   {
    "duration": 7,
    "start_time": "2024-10-19T07:52:14.653Z"
   },
   {
    "duration": 67,
    "start_time": "2024-10-19T07:52:14.662Z"
   },
   {
    "duration": 3,
    "start_time": "2024-10-19T07:52:14.731Z"
   },
   {
    "duration": 4,
    "start_time": "2024-10-19T07:52:14.736Z"
   },
   {
    "duration": 1197,
    "start_time": "2024-10-19T07:52:14.743Z"
   },
   {
    "duration": 345,
    "start_time": "2024-10-19T07:52:15.942Z"
   },
   {
    "duration": 259,
    "start_time": "2024-10-19T07:52:16.291Z"
   },
   {
    "duration": 4,
    "start_time": "2024-10-19T07:52:16.552Z"
   },
   {
    "duration": 5,
    "start_time": "2024-10-19T07:52:16.558Z"
   },
   {
    "duration": 336,
    "start_time": "2024-10-19T07:52:16.565Z"
   },
   {
    "duration": 6,
    "start_time": "2024-10-19T07:52:16.903Z"
   },
   {
    "duration": 25,
    "start_time": "2024-10-19T07:52:16.911Z"
   },
   {
    "duration": 22,
    "start_time": "2024-10-19T07:52:16.938Z"
   },
   {
    "duration": 4,
    "start_time": "2024-10-19T07:52:16.962Z"
   },
   {
    "duration": 668,
    "start_time": "2024-10-19T07:52:16.968Z"
   },
   {
    "duration": 7976,
    "start_time": "2024-10-19T07:52:17.710Z"
   },
   {
    "duration": 36593,
    "start_time": "2024-10-19T07:52:25.688Z"
   },
   {
    "duration": 0,
    "start_time": "2024-10-19T07:53:22.150Z"
   },
   {
    "duration": 9736,
    "start_time": "2024-10-19T07:53:23.592Z"
   },
   {
    "duration": 3,
    "start_time": "2024-10-19T07:53:34.139Z"
   },
   {
    "duration": 15847,
    "start_time": "2024-10-19T07:54:28.987Z"
   },
   {
    "duration": 230517,
    "start_time": "2024-10-19T07:55:34.393Z"
   },
   {
    "duration": 0,
    "start_time": "2024-10-19T08:02:13.245Z"
   },
   {
    "duration": 46475,
    "start_time": "2024-10-19T08:02:14.912Z"
   },
   {
    "duration": 9571,
    "start_time": "2024-10-19T08:05:40.094Z"
   },
   {
    "duration": 2720,
    "start_time": "2024-10-19T19:52:12.251Z"
   },
   {
    "duration": 3,
    "start_time": "2024-10-19T19:52:14.973Z"
   },
   {
    "duration": 441,
    "start_time": "2024-10-19T19:52:14.979Z"
   },
   {
    "duration": 163,
    "start_time": "2024-10-19T19:52:15.422Z"
   },
   {
    "duration": 544,
    "start_time": "2024-10-19T19:52:15.588Z"
   },
   {
    "duration": 10,
    "start_time": "2024-10-19T19:52:16.134Z"
   },
   {
    "duration": 10,
    "start_time": "2024-10-19T19:52:16.145Z"
   },
   {
    "duration": 7,
    "start_time": "2024-10-19T19:52:16.157Z"
   },
   {
    "duration": 40,
    "start_time": "2024-10-19T19:52:16.165Z"
   },
   {
    "duration": 3,
    "start_time": "2024-10-19T19:52:16.208Z"
   },
   {
    "duration": 31,
    "start_time": "2024-10-19T19:52:16.213Z"
   },
   {
    "duration": 1142,
    "start_time": "2024-10-19T19:52:16.245Z"
   },
   {
    "duration": 255,
    "start_time": "2024-10-19T19:52:17.389Z"
   },
   {
    "duration": 351,
    "start_time": "2024-10-19T19:52:17.648Z"
   },
   {
    "duration": 4,
    "start_time": "2024-10-19T19:52:18.001Z"
   },
   {
    "duration": 5,
    "start_time": "2024-10-19T19:52:18.008Z"
   },
   {
    "duration": 295,
    "start_time": "2024-10-19T19:52:18.014Z"
   },
   {
    "duration": 19,
    "start_time": "2024-10-19T19:52:18.311Z"
   },
   {
    "duration": 12,
    "start_time": "2024-10-19T19:52:18.332Z"
   },
   {
    "duration": 24,
    "start_time": "2024-10-19T19:52:18.346Z"
   },
   {
    "duration": 3,
    "start_time": "2024-10-19T19:52:18.371Z"
   },
   {
    "duration": 883,
    "start_time": "2024-10-19T19:52:18.376Z"
   },
   {
    "duration": 20427,
    "start_time": "2024-10-19T19:52:19.261Z"
   },
   {
    "duration": 43417,
    "start_time": "2024-10-19T19:52:39.690Z"
   },
   {
    "duration": 8975,
    "start_time": "2024-10-19T19:53:23.109Z"
   },
   {
    "duration": 20139,
    "start_time": "2024-10-19T19:53:32.088Z"
   },
   {
    "duration": 24249,
    "start_time": "2024-10-19T19:54:11.989Z"
   },
   {
    "duration": 234613,
    "start_time": "2024-10-19T19:57:57.450Z"
   },
   {
    "duration": 43403,
    "start_time": "2024-10-19T20:02:08.585Z"
   },
   {
    "duration": 49773,
    "start_time": "2024-10-19T20:02:51.990Z"
   },
   {
    "duration": 5,
    "start_time": "2024-10-19T20:22:07.985Z"
   },
   {
    "duration": 25,
    "start_time": "2024-10-19T20:55:10.743Z"
   },
   {
    "duration": 21,
    "start_time": "2024-10-19T20:55:34.135Z"
   },
   {
    "duration": 6,
    "start_time": "2024-10-20T03:43:18.285Z"
   },
   {
    "duration": 11,
    "start_time": "2024-10-20T03:43:38.731Z"
   },
   {
    "duration": 11,
    "start_time": "2024-10-20T03:56:31.814Z"
   },
   {
    "duration": 442,
    "start_time": "2024-10-20T03:58:00.097Z"
   },
   {
    "duration": 127,
    "start_time": "2024-10-20T03:58:15.236Z"
   },
   {
    "duration": 41,
    "start_time": "2024-10-20T03:58:32.220Z"
   },
   {
    "duration": 43,
    "start_time": "2024-10-20T03:58:40.517Z"
   },
   {
    "duration": 11,
    "start_time": "2024-10-20T03:59:18.264Z"
   },
   {
    "duration": 12,
    "start_time": "2024-10-20T03:59:28.973Z"
   },
   {
    "duration": 10,
    "start_time": "2024-10-20T03:59:33.199Z"
   },
   {
    "duration": 41,
    "start_time": "2024-10-20T04:00:33.266Z"
   },
   {
    "duration": 4,
    "start_time": "2024-10-20T04:01:35.918Z"
   },
   {
    "duration": 3,
    "start_time": "2024-10-20T04:01:35.924Z"
   },
   {
    "duration": 421,
    "start_time": "2024-10-20T04:01:35.928Z"
   },
   {
    "duration": 147,
    "start_time": "2024-10-20T04:01:36.351Z"
   },
   {
    "duration": 630,
    "start_time": "2024-10-20T04:01:36.501Z"
   },
   {
    "duration": 11,
    "start_time": "2024-10-20T04:01:37.133Z"
   },
   {
    "duration": 10,
    "start_time": "2024-10-20T04:01:37.145Z"
   },
   {
    "duration": 6,
    "start_time": "2024-10-20T04:01:37.158Z"
   },
   {
    "duration": 34,
    "start_time": "2024-10-20T04:01:37.166Z"
   },
   {
    "duration": 3,
    "start_time": "2024-10-20T04:01:37.202Z"
   },
   {
    "duration": 35,
    "start_time": "2024-10-20T04:01:37.207Z"
   },
   {
    "duration": 1098,
    "start_time": "2024-10-20T04:01:37.244Z"
   },
   {
    "duration": 264,
    "start_time": "2024-10-20T04:01:38.345Z"
   },
   {
    "duration": 437,
    "start_time": "2024-10-20T04:01:38.613Z"
   },
   {
    "duration": 4,
    "start_time": "2024-10-20T04:01:39.052Z"
   },
   {
    "duration": 4,
    "start_time": "2024-10-20T04:01:39.060Z"
   },
   {
    "duration": 337,
    "start_time": "2024-10-20T04:01:39.066Z"
   },
   {
    "duration": 23,
    "start_time": "2024-10-20T04:01:39.405Z"
   },
   {
    "duration": 13,
    "start_time": "2024-10-20T04:01:39.430Z"
   },
   {
    "duration": 20,
    "start_time": "2024-10-20T04:01:39.445Z"
   },
   {
    "duration": 2,
    "start_time": "2024-10-20T04:01:39.467Z"
   },
   {
    "duration": 983,
    "start_time": "2024-10-20T04:01:39.471Z"
   },
   {
    "duration": 47866,
    "start_time": "2024-10-20T04:01:40.464Z"
   },
   {
    "duration": 29537,
    "start_time": "2024-10-20T04:02:28.332Z"
   },
   {
    "duration": 40,
    "start_time": "2024-10-20T04:02:57.871Z"
   },
   {
    "duration": 0,
    "start_time": "2024-10-20T04:02:57.913Z"
   },
   {
    "duration": 12,
    "start_time": "2024-10-20T04:12:23.542Z"
   },
   {
    "duration": 12,
    "start_time": "2024-10-20T04:12:41.869Z"
   },
   {
    "duration": 4,
    "start_time": "2024-10-20T04:13:46.601Z"
   },
   {
    "duration": 10,
    "start_time": "2024-10-20T04:13:53.822Z"
   },
   {
    "duration": 11,
    "start_time": "2024-10-20T04:14:15.934Z"
   },
   {
    "duration": 910,
    "start_time": "2024-10-20T04:15:28.094Z"
   },
   {
    "duration": 3,
    "start_time": "2024-10-20T04:15:29.006Z"
   },
   {
    "duration": 480,
    "start_time": "2024-10-20T04:15:29.011Z"
   },
   {
    "duration": 145,
    "start_time": "2024-10-20T04:15:29.493Z"
   },
   {
    "duration": 516,
    "start_time": "2024-10-20T04:15:29.644Z"
   },
   {
    "duration": 6,
    "start_time": "2024-10-20T04:15:30.162Z"
   },
   {
    "duration": 9,
    "start_time": "2024-10-20T04:15:30.170Z"
   },
   {
    "duration": 6,
    "start_time": "2024-10-20T04:15:30.181Z"
   },
   {
    "duration": 57,
    "start_time": "2024-10-20T04:15:30.188Z"
   },
   {
    "duration": 3,
    "start_time": "2024-10-20T04:15:30.246Z"
   },
   {
    "duration": 4,
    "start_time": "2024-10-20T04:15:30.251Z"
   },
   {
    "duration": 1152,
    "start_time": "2024-10-20T04:15:30.256Z"
   },
   {
    "duration": 333,
    "start_time": "2024-10-20T04:15:31.410Z"
   },
   {
    "duration": 258,
    "start_time": "2024-10-20T04:15:31.747Z"
   },
   {
    "duration": 3,
    "start_time": "2024-10-20T04:15:32.008Z"
   },
   {
    "duration": 5,
    "start_time": "2024-10-20T04:15:32.012Z"
   },
   {
    "duration": 301,
    "start_time": "2024-10-20T04:15:32.019Z"
   },
   {
    "duration": 29,
    "start_time": "2024-10-20T04:15:32.322Z"
   },
   {
    "duration": 6,
    "start_time": "2024-10-20T04:15:32.352Z"
   },
   {
    "duration": 17,
    "start_time": "2024-10-20T04:15:32.360Z"
   },
   {
    "duration": 3,
    "start_time": "2024-10-20T04:15:32.379Z"
   },
   {
    "duration": 778,
    "start_time": "2024-10-20T04:15:32.383Z"
   },
   {
    "duration": 47684,
    "start_time": "2024-10-20T04:15:33.163Z"
   },
   {
    "duration": 29870,
    "start_time": "2024-10-20T04:16:20.848Z"
   },
   {
    "duration": 0,
    "start_time": "2024-10-20T04:16:50.719Z"
   },
   {
    "duration": 0,
    "start_time": "2024-10-20T04:16:50.721Z"
   },
   {
    "duration": 5,
    "start_time": "2024-10-20T04:21:39.546Z"
   },
   {
    "duration": 18,
    "start_time": "2024-10-20T04:21:39.855Z"
   },
   {
    "duration": 3,
    "start_time": "2024-10-20T04:21:40.038Z"
   },
   {
    "duration": 613,
    "start_time": "2024-10-20T04:21:41.147Z"
   },
   {
    "duration": 47347,
    "start_time": "2024-10-20T04:21:41.955Z"
   },
   {
    "duration": 29529,
    "start_time": "2024-10-20T04:22:29.305Z"
   },
   {
    "duration": 467,
    "start_time": "2024-10-20T04:22:58.836Z"
   },
   {
    "duration": 4,
    "start_time": "2024-10-20T04:24:44.913Z"
   },
   {
    "duration": 16,
    "start_time": "2024-10-20T04:26:56.253Z"
   },
   {
    "duration": 90,
    "start_time": "2024-10-20T04:28:16.497Z"
   },
   {
    "duration": 5,
    "start_time": "2024-10-20T04:28:21.047Z"
   },
   {
    "duration": 3,
    "start_time": "2024-10-20T04:28:32.253Z"
   },
   {
    "duration": 5,
    "start_time": "2024-10-20T04:28:40.921Z"
   },
   {
    "duration": 4,
    "start_time": "2024-10-20T04:28:47.540Z"
   },
   {
    "duration": 4,
    "start_time": "2024-10-20T04:29:00.019Z"
   },
   {
    "duration": 42,
    "start_time": "2024-10-20T04:29:45.354Z"
   },
   {
    "duration": 897,
    "start_time": "2024-10-20T04:30:05.292Z"
   },
   {
    "duration": 3,
    "start_time": "2024-10-20T04:30:06.192Z"
   },
   {
    "duration": 454,
    "start_time": "2024-10-20T04:30:06.196Z"
   },
   {
    "duration": 148,
    "start_time": "2024-10-20T04:30:06.652Z"
   },
   {
    "duration": 511,
    "start_time": "2024-10-20T04:30:06.804Z"
   },
   {
    "duration": 6,
    "start_time": "2024-10-20T04:30:07.317Z"
   },
   {
    "duration": 24,
    "start_time": "2024-10-20T04:30:07.325Z"
   },
   {
    "duration": 7,
    "start_time": "2024-10-20T04:30:07.350Z"
   },
   {
    "duration": 37,
    "start_time": "2024-10-20T04:30:07.358Z"
   },
   {
    "duration": 3,
    "start_time": "2024-10-20T04:30:07.396Z"
   },
   {
    "duration": 4,
    "start_time": "2024-10-20T04:30:07.400Z"
   },
   {
    "duration": 1117,
    "start_time": "2024-10-20T04:30:07.406Z"
   },
   {
    "duration": 349,
    "start_time": "2024-10-20T04:30:08.524Z"
   },
   {
    "duration": 274,
    "start_time": "2024-10-20T04:30:08.877Z"
   },
   {
    "duration": 4,
    "start_time": "2024-10-20T04:30:09.152Z"
   },
   {
    "duration": 4,
    "start_time": "2024-10-20T04:30:09.158Z"
   },
   {
    "duration": 309,
    "start_time": "2024-10-20T04:30:09.164Z"
   },
   {
    "duration": 18,
    "start_time": "2024-10-20T04:30:09.475Z"
   },
   {
    "duration": 5,
    "start_time": "2024-10-20T04:30:09.495Z"
   },
   {
    "duration": 17,
    "start_time": "2024-10-20T04:30:09.502Z"
   },
   {
    "duration": 23,
    "start_time": "2024-10-20T04:30:09.521Z"
   },
   {
    "duration": 720,
    "start_time": "2024-10-20T04:30:09.547Z"
   },
   {
    "duration": 47601,
    "start_time": "2024-10-20T04:30:10.269Z"
   },
   {
    "duration": 29638,
    "start_time": "2024-10-20T04:30:57.872Z"
   },
   {
    "duration": 651,
    "start_time": "2024-10-20T04:31:27.512Z"
   },
   {
    "duration": 0,
    "start_time": "2024-10-20T04:31:28.164Z"
   },
   {
    "duration": 6,
    "start_time": "2024-10-20T04:32:30.050Z"
   },
   {
    "duration": 11,
    "start_time": "2024-10-20T04:32:39.939Z"
   },
   {
    "duration": 25,
    "start_time": "2024-10-20T04:32:50.486Z"
   },
   {
    "duration": 41,
    "start_time": "2024-10-20T04:33:56.512Z"
   },
   {
    "duration": 18,
    "start_time": "2024-10-20T04:34:09.819Z"
   },
   {
    "duration": 932,
    "start_time": "2024-10-20T04:34:39.289Z"
   },
   {
    "duration": 4,
    "start_time": "2024-10-20T04:34:40.223Z"
   },
   {
    "duration": 479,
    "start_time": "2024-10-20T04:34:40.228Z"
   },
   {
    "duration": 162,
    "start_time": "2024-10-20T04:34:40.710Z"
   },
   {
    "duration": 516,
    "start_time": "2024-10-20T04:34:40.874Z"
   },
   {
    "duration": 6,
    "start_time": "2024-10-20T04:34:41.391Z"
   },
   {
    "duration": 8,
    "start_time": "2024-10-20T04:34:41.399Z"
   },
   {
    "duration": 7,
    "start_time": "2024-10-20T04:34:41.409Z"
   },
   {
    "duration": 36,
    "start_time": "2024-10-20T04:34:41.442Z"
   },
   {
    "duration": 2,
    "start_time": "2024-10-20T04:34:41.480Z"
   },
   {
    "duration": 4,
    "start_time": "2024-10-20T04:34:41.484Z"
   },
   {
    "duration": 1088,
    "start_time": "2024-10-20T04:34:41.489Z"
   },
   {
    "duration": 326,
    "start_time": "2024-10-20T04:34:42.579Z"
   },
   {
    "duration": 261,
    "start_time": "2024-10-20T04:34:42.910Z"
   },
   {
    "duration": 3,
    "start_time": "2024-10-20T04:34:43.174Z"
   },
   {
    "duration": 5,
    "start_time": "2024-10-20T04:34:43.179Z"
   },
   {
    "duration": 305,
    "start_time": "2024-10-20T04:34:43.185Z"
   },
   {
    "duration": 20,
    "start_time": "2024-10-20T04:34:43.492Z"
   },
   {
    "duration": 4,
    "start_time": "2024-10-20T04:34:43.514Z"
   },
   {
    "duration": 33,
    "start_time": "2024-10-20T04:34:43.520Z"
   },
   {
    "duration": 2,
    "start_time": "2024-10-20T04:34:43.555Z"
   },
   {
    "duration": 508,
    "start_time": "2024-10-20T04:34:43.559Z"
   },
   {
    "duration": 47490,
    "start_time": "2024-10-20T04:34:44.144Z"
   },
   {
    "duration": 29567,
    "start_time": "2024-10-20T04:35:31.635Z"
   },
   {
    "duration": 314,
    "start_time": "2024-10-20T04:36:01.204Z"
   },
   {
    "duration": 0,
    "start_time": "2024-10-20T04:36:01.520Z"
   },
   {
    "duration": 6083,
    "start_time": "2024-10-20T04:39:04.164Z"
   },
   {
    "duration": 896,
    "start_time": "2024-10-20T04:39:24.836Z"
   },
   {
    "duration": 4,
    "start_time": "2024-10-20T04:39:25.734Z"
   },
   {
    "duration": 479,
    "start_time": "2024-10-20T04:39:25.739Z"
   },
   {
    "duration": 149,
    "start_time": "2024-10-20T04:39:26.219Z"
   },
   {
    "duration": 500,
    "start_time": "2024-10-20T04:39:26.371Z"
   },
   {
    "duration": 5,
    "start_time": "2024-10-20T04:39:26.873Z"
   },
   {
    "duration": 9,
    "start_time": "2024-10-20T04:39:26.880Z"
   },
   {
    "duration": 6,
    "start_time": "2024-10-20T04:39:26.891Z"
   },
   {
    "duration": 60,
    "start_time": "2024-10-20T04:39:26.898Z"
   },
   {
    "duration": 2,
    "start_time": "2024-10-20T04:39:26.960Z"
   },
   {
    "duration": 4,
    "start_time": "2024-10-20T04:39:26.964Z"
   },
   {
    "duration": 1098,
    "start_time": "2024-10-20T04:39:26.969Z"
   },
   {
    "duration": 338,
    "start_time": "2024-10-20T04:39:28.068Z"
   },
   {
    "duration": 251,
    "start_time": "2024-10-20T04:39:28.409Z"
   },
   {
    "duration": 3,
    "start_time": "2024-10-20T04:39:28.662Z"
   },
   {
    "duration": 5,
    "start_time": "2024-10-20T04:39:28.667Z"
   },
   {
    "duration": 302,
    "start_time": "2024-10-20T04:39:28.673Z"
   },
   {
    "duration": 21,
    "start_time": "2024-10-20T04:39:28.976Z"
   },
   {
    "duration": 3,
    "start_time": "2024-10-20T04:39:28.999Z"
   },
   {
    "duration": 17,
    "start_time": "2024-10-20T04:39:29.004Z"
   },
   {
    "duration": 3,
    "start_time": "2024-10-20T04:39:29.042Z"
   },
   {
    "duration": 713,
    "start_time": "2024-10-20T04:39:29.047Z"
   },
   {
    "duration": 4755,
    "start_time": "2024-10-20T04:39:29.761Z"
   },
   {
    "duration": 0,
    "start_time": "2024-10-20T04:39:34.518Z"
   },
   {
    "duration": 0,
    "start_time": "2024-10-20T04:39:34.519Z"
   },
   {
    "duration": 0,
    "start_time": "2024-10-20T04:39:34.520Z"
   },
   {
    "duration": 6054,
    "start_time": "2024-10-20T04:39:43.576Z"
   },
   {
    "duration": 6102,
    "start_time": "2024-10-20T04:39:53.789Z"
   },
   {
    "duration": 6098,
    "start_time": "2024-10-20T04:40:10.392Z"
   },
   {
    "duration": 6117,
    "start_time": "2024-10-20T04:40:28.347Z"
   },
   {
    "duration": 24,
    "start_time": "2024-10-20T04:41:03.501Z"
   },
   {
    "duration": 6084,
    "start_time": "2024-10-20T04:41:27.019Z"
   },
   {
    "duration": 6,
    "start_time": "2024-10-20T04:41:47.124Z"
   },
   {
    "duration": 18,
    "start_time": "2024-10-20T04:44:12.633Z"
   },
   {
    "duration": 6,
    "start_time": "2024-10-20T04:44:32.151Z"
   },
   {
    "duration": 12,
    "start_time": "2024-10-20T04:45:11.697Z"
   },
   {
    "duration": 422,
    "start_time": "2024-10-20T04:45:16.629Z"
   },
   {
    "duration": 8,
    "start_time": "2024-10-20T04:45:54.937Z"
   },
   {
    "duration": 6094,
    "start_time": "2024-10-20T04:46:07.289Z"
   },
   {
    "duration": 902,
    "start_time": "2024-10-20T04:46:20.720Z"
   },
   {
    "duration": 3,
    "start_time": "2024-10-20T04:46:21.624Z"
   },
   {
    "duration": 462,
    "start_time": "2024-10-20T04:46:21.629Z"
   },
   {
    "duration": 150,
    "start_time": "2024-10-20T04:46:22.094Z"
   },
   {
    "duration": 512,
    "start_time": "2024-10-20T04:46:22.246Z"
   },
   {
    "duration": 5,
    "start_time": "2024-10-20T04:46:22.760Z"
   },
   {
    "duration": 9,
    "start_time": "2024-10-20T04:46:22.768Z"
   },
   {
    "duration": 7,
    "start_time": "2024-10-20T04:46:22.779Z"
   },
   {
    "duration": 64,
    "start_time": "2024-10-20T04:46:22.787Z"
   },
   {
    "duration": 3,
    "start_time": "2024-10-20T04:46:22.854Z"
   },
   {
    "duration": 3,
    "start_time": "2024-10-20T04:46:22.858Z"
   },
   {
    "duration": 1122,
    "start_time": "2024-10-20T04:46:22.863Z"
   },
   {
    "duration": 343,
    "start_time": "2024-10-20T04:46:23.986Z"
   },
   {
    "duration": 257,
    "start_time": "2024-10-20T04:46:24.331Z"
   },
   {
    "duration": 3,
    "start_time": "2024-10-20T04:46:24.590Z"
   },
   {
    "duration": 5,
    "start_time": "2024-10-20T04:46:24.595Z"
   },
   {
    "duration": 300,
    "start_time": "2024-10-20T04:46:24.601Z"
   },
   {
    "duration": 18,
    "start_time": "2024-10-20T04:46:24.903Z"
   },
   {
    "duration": 4,
    "start_time": "2024-10-20T04:46:24.922Z"
   },
   {
    "duration": 30,
    "start_time": "2024-10-20T04:46:24.928Z"
   },
   {
    "duration": 4,
    "start_time": "2024-10-20T04:46:24.959Z"
   },
   {
    "duration": 697,
    "start_time": "2024-10-20T04:46:24.964Z"
   },
   {
    "duration": 47650,
    "start_time": "2024-10-20T04:46:25.665Z"
   },
   {
    "duration": 29668,
    "start_time": "2024-10-20T04:47:13.316Z"
   },
   {
    "duration": 9,
    "start_time": "2024-10-20T04:47:42.986Z"
   },
   {
    "duration": 6108,
    "start_time": "2024-10-20T04:47:42.996Z"
   },
   {
    "duration": 1010,
    "start_time": "2024-10-20T04:49:35.495Z"
   },
   {
    "duration": 8,
    "start_time": "2024-10-20T04:50:42.407Z"
   },
   {
    "duration": 158,
    "start_time": "2024-10-20T19:15:02.276Z"
   },
   {
    "duration": 2592,
    "start_time": "2024-10-20T19:15:05.092Z"
   },
   {
    "duration": 3,
    "start_time": "2024-10-20T19:15:07.686Z"
   },
   {
    "duration": 463,
    "start_time": "2024-10-20T19:15:07.691Z"
   },
   {
    "duration": 223,
    "start_time": "2024-10-20T19:15:08.156Z"
   },
   {
    "duration": 531,
    "start_time": "2024-10-20T19:15:08.382Z"
   },
   {
    "duration": 16,
    "start_time": "2024-10-20T19:15:08.915Z"
   },
   {
    "duration": 10,
    "start_time": "2024-10-20T19:15:08.932Z"
   },
   {
    "duration": 7,
    "start_time": "2024-10-20T19:15:08.943Z"
   },
   {
    "duration": 35,
    "start_time": "2024-10-20T19:15:08.951Z"
   },
   {
    "duration": 110,
    "start_time": "2024-10-20T19:15:11.456Z"
   },
   {
    "duration": 48,
    "start_time": "2024-10-20T19:46:14.511Z"
   },
   {
    "duration": 47,
    "start_time": "2024-10-20T19:49:53.808Z"
   },
   {
    "duration": 44,
    "start_time": "2024-10-20T19:50:12.888Z"
   },
   {
    "duration": 36,
    "start_time": "2024-10-20T19:51:04.611Z"
   },
   {
    "duration": 37,
    "start_time": "2024-10-20T19:51:09.121Z"
   },
   {
    "duration": 918,
    "start_time": "2024-10-20T19:51:25.409Z"
   },
   {
    "duration": 3,
    "start_time": "2024-10-20T19:51:26.330Z"
   },
   {
    "duration": 464,
    "start_time": "2024-10-20T19:51:26.335Z"
   },
   {
    "duration": 150,
    "start_time": "2024-10-20T19:51:26.801Z"
   },
   {
    "duration": 507,
    "start_time": "2024-10-20T19:51:26.954Z"
   },
   {
    "duration": 5,
    "start_time": "2024-10-20T19:51:27.463Z"
   },
   {
    "duration": 8,
    "start_time": "2024-10-20T19:51:27.470Z"
   },
   {
    "duration": 6,
    "start_time": "2024-10-20T19:51:27.480Z"
   },
   {
    "duration": 56,
    "start_time": "2024-10-20T19:51:27.488Z"
   },
   {
    "duration": 5,
    "start_time": "2024-10-20T19:51:27.548Z"
   },
   {
    "duration": 3,
    "start_time": "2024-10-20T19:51:27.555Z"
   },
   {
    "duration": 1132,
    "start_time": "2024-10-20T19:51:27.561Z"
   },
   {
    "duration": 328,
    "start_time": "2024-10-20T19:51:28.695Z"
   },
   {
    "duration": 272,
    "start_time": "2024-10-20T19:51:29.026Z"
   },
   {
    "duration": 3,
    "start_time": "2024-10-20T19:51:29.300Z"
   },
   {
    "duration": 4,
    "start_time": "2024-10-20T19:51:29.305Z"
   },
   {
    "duration": 302,
    "start_time": "2024-10-20T19:51:29.311Z"
   },
   {
    "duration": 29,
    "start_time": "2024-10-20T19:51:29.614Z"
   },
   {
    "duration": 4,
    "start_time": "2024-10-20T19:51:29.645Z"
   },
   {
    "duration": 17,
    "start_time": "2024-10-20T19:51:29.650Z"
   },
   {
    "duration": 3,
    "start_time": "2024-10-20T19:51:29.668Z"
   },
   {
    "duration": 666,
    "start_time": "2024-10-20T19:51:29.673Z"
   },
   {
    "duration": 47155,
    "start_time": "2024-10-20T19:51:30.342Z"
   },
   {
    "duration": 29155,
    "start_time": "2024-10-20T19:52:17.499Z"
   },
   {
    "duration": 8,
    "start_time": "2024-10-20T19:52:46.656Z"
   },
   {
    "duration": 1001,
    "start_time": "2024-10-20T19:52:46.666Z"
   },
   {
    "duration": 901,
    "start_time": "2024-10-20T20:00:55.018Z"
   },
   {
    "duration": 3,
    "start_time": "2024-10-20T20:00:55.922Z"
   },
   {
    "duration": 481,
    "start_time": "2024-10-20T20:00:56.304Z"
   },
   {
    "duration": 149,
    "start_time": "2024-10-20T20:00:56.787Z"
   },
   {
    "duration": 512,
    "start_time": "2024-10-20T20:00:56.938Z"
   },
   {
    "duration": 5,
    "start_time": "2024-10-20T20:00:57.453Z"
   },
   {
    "duration": 9,
    "start_time": "2024-10-20T20:00:59.642Z"
   },
   {
    "duration": 6,
    "start_time": "2024-10-20T20:01:01.632Z"
   },
   {
    "duration": 28,
    "start_time": "2024-10-20T20:01:03.490Z"
   },
   {
    "duration": 246,
    "start_time": "2024-10-20T20:03:21.526Z"
   },
   {
    "duration": 26,
    "start_time": "2024-10-20T20:03:39.789Z"
   },
   {
    "duration": 32,
    "start_time": "2024-10-20T20:10:35.505Z"
   },
   {
    "duration": 13,
    "start_time": "2024-10-20T20:10:49.267Z"
   },
   {
    "duration": 3,
    "start_time": "2024-10-20T20:10:53.024Z"
   },
   {
    "duration": 2,
    "start_time": "2024-10-20T20:10:58.672Z"
   },
   {
    "duration": 3,
    "start_time": "2024-10-20T20:10:59.122Z"
   },
   {
    "duration": 1153,
    "start_time": "2024-10-20T20:10:59.496Z"
   },
   {
    "duration": 245,
    "start_time": "2024-10-20T20:11:00.711Z"
   },
   {
    "duration": 257,
    "start_time": "2024-10-20T20:11:01.070Z"
   },
   {
    "duration": 3,
    "start_time": "2024-10-20T20:11:02.515Z"
   },
   {
    "duration": 5,
    "start_time": "2024-10-20T20:11:02.859Z"
   },
   {
    "duration": 288,
    "start_time": "2024-10-20T20:11:03.824Z"
   },
   {
    "duration": 107,
    "start_time": "2024-10-20T20:11:45.919Z"
   },
   {
    "duration": 3,
    "start_time": "2024-10-20T20:11:48.717Z"
   },
   {
    "duration": 5,
    "start_time": "2024-10-20T20:12:02.033Z"
   },
   {
    "duration": 4,
    "start_time": "2024-10-20T20:14:54.389Z"
   },
   {
    "duration": 262,
    "start_time": "2024-10-20T20:16:38.804Z"
   },
   {
    "duration": 15,
    "start_time": "2024-10-20T20:20:55.603Z"
   },
   {
    "duration": 6,
    "start_time": "2024-10-20T20:21:01.594Z"
   },
   {
    "duration": 233,
    "start_time": "2024-10-20T20:21:07.803Z"
   },
   {
    "duration": 26,
    "start_time": "2024-10-20T20:21:17.903Z"
   },
   {
    "duration": 19,
    "start_time": "2024-10-20T20:21:21.649Z"
   },
   {
    "duration": 4,
    "start_time": "2024-10-20T20:21:32.124Z"
   },
   {
    "duration": 4,
    "start_time": "2024-10-20T20:21:39.977Z"
   },
   {
    "duration": 13,
    "start_time": "2024-10-20T20:21:47.796Z"
   },
   {
    "duration": 15,
    "start_time": "2024-10-20T20:24:10.093Z"
   },
   {
    "duration": 3,
    "start_time": "2024-10-20T20:24:11.033Z"
   },
   {
    "duration": 542,
    "start_time": "2024-10-20T20:24:11.703Z"
   },
   {
    "duration": 40961,
    "start_time": "2024-10-20T20:24:13.157Z"
   },
   {
    "duration": 37170,
    "start_time": "2024-10-20T20:24:54.122Z"
   },
   {
    "duration": 9,
    "start_time": "2024-10-20T20:25:31.294Z"
   },
   {
    "duration": 968,
    "start_time": "2024-10-20T20:25:31.306Z"
   },
   {
    "duration": 245,
    "start_time": "2024-10-20T20:29:46.843Z"
   },
   {
    "duration": 7,
    "start_time": "2024-10-20T20:49:30.459Z"
   },
   {
    "duration": 848,
    "start_time": "2024-10-20T20:50:59.003Z"
   },
   {
    "duration": 2,
    "start_time": "2024-10-20T20:50:59.854Z"
   },
   {
    "duration": 461,
    "start_time": "2024-10-20T20:50:59.858Z"
   },
   {
    "duration": 153,
    "start_time": "2024-10-20T20:51:00.321Z"
   },
   {
    "duration": 497,
    "start_time": "2024-10-20T20:51:00.477Z"
   },
   {
    "duration": 7,
    "start_time": "2024-10-20T20:51:00.976Z"
   },
   {
    "duration": 10,
    "start_time": "2024-10-20T20:51:00.984Z"
   },
   {
    "duration": 6,
    "start_time": "2024-10-20T20:51:00.996Z"
   },
   {
    "duration": 35,
    "start_time": "2024-10-20T20:51:01.032Z"
   },
   {
    "duration": 2,
    "start_time": "2024-10-20T20:51:01.069Z"
   },
   {
    "duration": 4,
    "start_time": "2024-10-20T20:51:01.073Z"
   },
   {
    "duration": 1131,
    "start_time": "2024-10-20T20:51:01.079Z"
   },
   {
    "duration": 323,
    "start_time": "2024-10-20T20:51:02.211Z"
   },
   {
    "duration": 247,
    "start_time": "2024-10-20T20:51:02.537Z"
   },
   {
    "duration": 4,
    "start_time": "2024-10-20T20:51:02.786Z"
   },
   {
    "duration": 5,
    "start_time": "2024-10-20T20:51:02.791Z"
   },
   {
    "duration": 308,
    "start_time": "2024-10-20T20:51:02.797Z"
   },
   {
    "duration": 22,
    "start_time": "2024-10-20T20:51:03.109Z"
   },
   {
    "duration": 3,
    "start_time": "2024-10-20T20:51:03.133Z"
   },
   {
    "duration": 570,
    "start_time": "2024-10-20T20:51:03.138Z"
   },
   {
    "duration": 0,
    "start_time": "2024-10-20T20:51:03.709Z"
   },
   {
    "duration": 0,
    "start_time": "2024-10-20T20:51:03.711Z"
   },
   {
    "duration": 0,
    "start_time": "2024-10-20T20:51:03.711Z"
   },
   {
    "duration": 0,
    "start_time": "2024-10-20T20:51:03.713Z"
   },
   {
    "duration": 0,
    "start_time": "2024-10-20T20:51:03.714Z"
   },
   {
    "duration": 0,
    "start_time": "2024-10-20T20:51:03.715Z"
   },
   {
    "duration": 943,
    "start_time": "2024-10-20T21:06:22.278Z"
   },
   {
    "duration": 9,
    "start_time": "2024-10-20T21:06:23.223Z"
   },
   {
    "duration": 470,
    "start_time": "2024-10-20T21:06:23.233Z"
   },
   {
    "duration": 158,
    "start_time": "2024-10-20T21:06:23.705Z"
   },
   {
    "duration": 516,
    "start_time": "2024-10-20T21:06:23.866Z"
   },
   {
    "duration": 6,
    "start_time": "2024-10-20T21:06:24.383Z"
   },
   {
    "duration": 10,
    "start_time": "2024-10-20T21:06:24.390Z"
   },
   {
    "duration": 7,
    "start_time": "2024-10-20T21:06:24.401Z"
   },
   {
    "duration": 39,
    "start_time": "2024-10-20T21:06:24.431Z"
   },
   {
    "duration": 3,
    "start_time": "2024-10-20T21:06:24.472Z"
   },
   {
    "duration": 4,
    "start_time": "2024-10-20T21:06:24.477Z"
   },
   {
    "duration": 1312,
    "start_time": "2024-10-20T21:06:24.483Z"
   },
   {
    "duration": 347,
    "start_time": "2024-10-20T21:06:25.799Z"
   },
   {
    "duration": 315,
    "start_time": "2024-10-20T21:06:26.149Z"
   },
   {
    "duration": 5,
    "start_time": "2024-10-20T21:06:26.465Z"
   },
   {
    "duration": 4,
    "start_time": "2024-10-20T21:06:26.472Z"
   },
   {
    "duration": 301,
    "start_time": "2024-10-20T21:06:26.477Z"
   },
   {
    "duration": 19,
    "start_time": "2024-10-20T21:06:26.780Z"
   },
   {
    "duration": 4,
    "start_time": "2024-10-20T21:06:26.800Z"
   },
   {
    "duration": 31,
    "start_time": "2024-10-20T21:06:26.806Z"
   },
   {
    "duration": 3,
    "start_time": "2024-10-20T21:06:26.839Z"
   },
   {
    "duration": 795,
    "start_time": "2024-10-20T21:06:26.844Z"
   },
   {
    "duration": 41096,
    "start_time": "2024-10-20T21:06:27.642Z"
   },
   {
    "duration": 37183,
    "start_time": "2024-10-20T21:07:08.740Z"
   },
   {
    "duration": 10,
    "start_time": "2024-10-20T21:07:45.926Z"
   },
   {
    "duration": 255,
    "start_time": "2024-10-20T21:07:45.938Z"
   },
   {
    "duration": 939,
    "start_time": "2024-10-20T22:03:16.863Z"
   },
   {
    "duration": 5,
    "start_time": "2024-10-20T22:03:17.804Z"
   },
   {
    "duration": 480,
    "start_time": "2024-10-20T22:03:17.810Z"
   },
   {
    "duration": 158,
    "start_time": "2024-10-20T22:03:18.292Z"
   },
   {
    "duration": 520,
    "start_time": "2024-10-20T22:03:18.454Z"
   },
   {
    "duration": 5,
    "start_time": "2024-10-20T22:03:18.977Z"
   },
   {
    "duration": 10,
    "start_time": "2024-10-20T22:03:18.983Z"
   },
   {
    "duration": 6,
    "start_time": "2024-10-20T22:03:18.994Z"
   },
   {
    "duration": 61,
    "start_time": "2024-10-20T22:03:19.002Z"
   },
   {
    "duration": 2,
    "start_time": "2024-10-20T22:03:19.065Z"
   },
   {
    "duration": 4,
    "start_time": "2024-10-20T22:03:19.069Z"
   },
   {
    "duration": 1121,
    "start_time": "2024-10-20T22:03:19.075Z"
   },
   {
    "duration": 326,
    "start_time": "2024-10-20T22:03:20.198Z"
   },
   {
    "duration": 253,
    "start_time": "2024-10-20T22:03:20.531Z"
   },
   {
    "duration": 3,
    "start_time": "2024-10-20T22:03:20.786Z"
   },
   {
    "duration": 4,
    "start_time": "2024-10-20T22:03:20.792Z"
   },
   {
    "duration": 306,
    "start_time": "2024-10-20T22:03:20.797Z"
   },
   {
    "duration": 29,
    "start_time": "2024-10-20T22:03:21.105Z"
   },
   {
    "duration": 3,
    "start_time": "2024-10-20T22:03:21.136Z"
   },
   {
    "duration": 18,
    "start_time": "2024-10-20T22:03:21.141Z"
   },
   {
    "duration": 2,
    "start_time": "2024-10-20T22:03:21.161Z"
   },
   {
    "duration": 574,
    "start_time": "2024-10-20T22:03:21.165Z"
   },
   {
    "duration": 41254,
    "start_time": "2024-10-20T22:03:21.741Z"
   },
   {
    "duration": 37587,
    "start_time": "2024-10-20T22:04:02.997Z"
   },
   {
    "duration": 10,
    "start_time": "2024-10-20T22:04:40.586Z"
   },
   {
    "duration": 262,
    "start_time": "2024-10-20T22:04:40.599Z"
   }
  ],
  "kernelspec": {
   "display_name": "Python 3 (ipykernel)",
   "language": "python",
   "name": "python3"
  },
  "language_info": {
   "codemirror_mode": {
    "name": "ipython",
    "version": 3
   },
   "file_extension": ".py",
   "mimetype": "text/x-python",
   "name": "python",
   "nbconvert_exporter": "python",
   "pygments_lexer": "ipython3",
   "version": "3.9.19"
  },
  "toc": {
   "base_numbering": 1,
   "nav_menu": {},
   "number_sections": true,
   "sideBar": true,
   "skip_h1_title": true,
   "title_cell": "Table of Contents",
   "title_sidebar": "Contents",
   "toc_cell": false,
   "toc_position": {},
   "toc_section_display": true,
   "toc_window_display": false
  }
 },
 "nbformat": 4,
 "nbformat_minor": 2
}
