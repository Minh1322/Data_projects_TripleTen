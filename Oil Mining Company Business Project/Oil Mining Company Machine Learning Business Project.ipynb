{
 "cells": [
  {
   "cell_type": "markdown",
   "metadata": {},
   "source": [
    "# Oil Mining Company Machine Learning Business Project"
   ]
  },
  {
   "cell_type": "markdown",
   "metadata": {},
   "source": [
    "## Introduction\n",
    "\n",
    "You work for the OilyGiant mining company. Your task is to find the best place for a new well.\n",
    "\n",
    "Steps to choose the location:\n",
    "\n",
    "Collect the oil well parameters in the selected region: oil quality and volume of reserves;\n",
    "Build a model for predicting the volume of reserves in the new wells;\n",
    "Pick the oil wells with the highest estimated values;\n",
    "Pick the region with the highest total profit for the selected oil wells.\n",
    "You have data on oil samples from three regions. Parameters of each oil well in the region are already known. Build a model that will help to pick the region with the highest profit margin. Analyze potential profit and risks using the Bootstrapping technique."
   ]
  },
  {
   "cell_type": "code",
   "execution_count": 51,
   "metadata": {},
   "outputs": [],
   "source": [
    "import numpy as np\n",
    "import pandas as pd\n",
    "import matplotlib.pyplot as plt\n",
    "from scipy import stats as st\n",
    "from sklearn.linear_model import LinearRegression\n",
    "from sklearn.model_selection import train_test_split\n",
    "from sklearn.metrics import mean_squared_error\n",
    "from sklearn.preprocessing import StandardScaler\n",
    "\n",
    "import warnings\n",
    "warnings.filterwarnings('ignore')"
   ]
  },
  {
   "cell_type": "markdown",
   "metadata": {},
   "source": [
    "## Preparing the Data"
   ]
  },
  {
   "cell_type": "code",
   "execution_count": 2,
   "metadata": {},
   "outputs": [
    {
     "data": {
      "text/html": [
       "<div>\n",
       "<style scoped>\n",
       "    .dataframe tbody tr th:only-of-type {\n",
       "        vertical-align: middle;\n",
       "    }\n",
       "\n",
       "    .dataframe tbody tr th {\n",
       "        vertical-align: top;\n",
       "    }\n",
       "\n",
       "    .dataframe thead th {\n",
       "        text-align: right;\n",
       "    }\n",
       "</style>\n",
       "<table border=\"1\" class=\"dataframe\">\n",
       "  <thead>\n",
       "    <tr style=\"text-align: right;\">\n",
       "      <th></th>\n",
       "      <th>id</th>\n",
       "      <th>f0</th>\n",
       "      <th>f1</th>\n",
       "      <th>f2</th>\n",
       "      <th>product</th>\n",
       "    </tr>\n",
       "  </thead>\n",
       "  <tbody>\n",
       "    <tr>\n",
       "      <th>0</th>\n",
       "      <td>txEyH</td>\n",
       "      <td>0.705745</td>\n",
       "      <td>-0.497823</td>\n",
       "      <td>1.221170</td>\n",
       "      <td>105.280062</td>\n",
       "    </tr>\n",
       "    <tr>\n",
       "      <th>1</th>\n",
       "      <td>2acmU</td>\n",
       "      <td>1.334711</td>\n",
       "      <td>-0.340164</td>\n",
       "      <td>4.365080</td>\n",
       "      <td>73.037750</td>\n",
       "    </tr>\n",
       "    <tr>\n",
       "      <th>2</th>\n",
       "      <td>409Wp</td>\n",
       "      <td>1.022732</td>\n",
       "      <td>0.151990</td>\n",
       "      <td>1.419926</td>\n",
       "      <td>85.265647</td>\n",
       "    </tr>\n",
       "    <tr>\n",
       "      <th>3</th>\n",
       "      <td>iJLyR</td>\n",
       "      <td>-0.032172</td>\n",
       "      <td>0.139033</td>\n",
       "      <td>2.978566</td>\n",
       "      <td>168.620776</td>\n",
       "    </tr>\n",
       "    <tr>\n",
       "      <th>4</th>\n",
       "      <td>Xdl7t</td>\n",
       "      <td>1.988431</td>\n",
       "      <td>0.155413</td>\n",
       "      <td>4.751769</td>\n",
       "      <td>154.036647</td>\n",
       "    </tr>\n",
       "    <tr>\n",
       "      <th>...</th>\n",
       "      <td>...</td>\n",
       "      <td>...</td>\n",
       "      <td>...</td>\n",
       "      <td>...</td>\n",
       "      <td>...</td>\n",
       "    </tr>\n",
       "    <tr>\n",
       "      <th>99995</th>\n",
       "      <td>DLsed</td>\n",
       "      <td>0.971957</td>\n",
       "      <td>0.370953</td>\n",
       "      <td>6.075346</td>\n",
       "      <td>110.744026</td>\n",
       "    </tr>\n",
       "    <tr>\n",
       "      <th>99996</th>\n",
       "      <td>QKivN</td>\n",
       "      <td>1.392429</td>\n",
       "      <td>-0.382606</td>\n",
       "      <td>1.273912</td>\n",
       "      <td>122.346843</td>\n",
       "    </tr>\n",
       "    <tr>\n",
       "      <th>99997</th>\n",
       "      <td>3rnvd</td>\n",
       "      <td>1.029585</td>\n",
       "      <td>0.018787</td>\n",
       "      <td>-1.348308</td>\n",
       "      <td>64.375443</td>\n",
       "    </tr>\n",
       "    <tr>\n",
       "      <th>99998</th>\n",
       "      <td>7kl59</td>\n",
       "      <td>0.998163</td>\n",
       "      <td>-0.528582</td>\n",
       "      <td>1.583869</td>\n",
       "      <td>74.040764</td>\n",
       "    </tr>\n",
       "    <tr>\n",
       "      <th>99999</th>\n",
       "      <td>1CWhH</td>\n",
       "      <td>1.764754</td>\n",
       "      <td>-0.266417</td>\n",
       "      <td>5.722849</td>\n",
       "      <td>149.633246</td>\n",
       "    </tr>\n",
       "  </tbody>\n",
       "</table>\n",
       "<p>100000 rows × 5 columns</p>\n",
       "</div>"
      ],
      "text/plain": [
       "          id        f0        f1        f2     product\n",
       "0      txEyH  0.705745 -0.497823  1.221170  105.280062\n",
       "1      2acmU  1.334711 -0.340164  4.365080   73.037750\n",
       "2      409Wp  1.022732  0.151990  1.419926   85.265647\n",
       "3      iJLyR -0.032172  0.139033  2.978566  168.620776\n",
       "4      Xdl7t  1.988431  0.155413  4.751769  154.036647\n",
       "...      ...       ...       ...       ...         ...\n",
       "99995  DLsed  0.971957  0.370953  6.075346  110.744026\n",
       "99996  QKivN  1.392429 -0.382606  1.273912  122.346843\n",
       "99997  3rnvd  1.029585  0.018787 -1.348308   64.375443\n",
       "99998  7kl59  0.998163 -0.528582  1.583869   74.040764\n",
       "99999  1CWhH  1.764754 -0.266417  5.722849  149.633246\n",
       "\n",
       "[100000 rows x 5 columns]"
      ]
     },
     "execution_count": 2,
     "metadata": {},
     "output_type": "execute_result"
    }
   ],
   "source": [
    "data1 = pd.read_csv('/datasets/geo_data_0.csv')\n",
    "data1"
   ]
  },
  {
   "cell_type": "code",
   "execution_count": 3,
   "metadata": {},
   "outputs": [
    {
     "name": "stdout",
     "output_type": "stream",
     "text": [
      "<class 'pandas.core.frame.DataFrame'>\n",
      "RangeIndex: 100000 entries, 0 to 99999\n",
      "Data columns (total 5 columns):\n",
      " #   Column   Non-Null Count   Dtype  \n",
      "---  ------   --------------   -----  \n",
      " 0   id       100000 non-null  object \n",
      " 1   f0       100000 non-null  float64\n",
      " 2   f1       100000 non-null  float64\n",
      " 3   f2       100000 non-null  float64\n",
      " 4   product  100000 non-null  float64\n",
      "dtypes: float64(4), object(1)\n",
      "memory usage: 3.8+ MB\n"
     ]
    }
   ],
   "source": [
    "data1.info()"
   ]
  },
  {
   "cell_type": "code",
   "execution_count": 4,
   "metadata": {},
   "outputs": [
    {
     "data": {
      "text/html": [
       "<div>\n",
       "<style scoped>\n",
       "    .dataframe tbody tr th:only-of-type {\n",
       "        vertical-align: middle;\n",
       "    }\n",
       "\n",
       "    .dataframe tbody tr th {\n",
       "        vertical-align: top;\n",
       "    }\n",
       "\n",
       "    .dataframe thead th {\n",
       "        text-align: right;\n",
       "    }\n",
       "</style>\n",
       "<table border=\"1\" class=\"dataframe\">\n",
       "  <thead>\n",
       "    <tr style=\"text-align: right;\">\n",
       "      <th></th>\n",
       "      <th>f0</th>\n",
       "      <th>f1</th>\n",
       "      <th>f2</th>\n",
       "      <th>product</th>\n",
       "    </tr>\n",
       "  </thead>\n",
       "  <tbody>\n",
       "    <tr>\n",
       "      <th>count</th>\n",
       "      <td>100000.000000</td>\n",
       "      <td>100000.000000</td>\n",
       "      <td>100000.000000</td>\n",
       "      <td>100000.000000</td>\n",
       "    </tr>\n",
       "    <tr>\n",
       "      <th>mean</th>\n",
       "      <td>0.500419</td>\n",
       "      <td>0.250143</td>\n",
       "      <td>2.502647</td>\n",
       "      <td>92.500000</td>\n",
       "    </tr>\n",
       "    <tr>\n",
       "      <th>std</th>\n",
       "      <td>0.871832</td>\n",
       "      <td>0.504433</td>\n",
       "      <td>3.248248</td>\n",
       "      <td>44.288691</td>\n",
       "    </tr>\n",
       "    <tr>\n",
       "      <th>min</th>\n",
       "      <td>-1.408605</td>\n",
       "      <td>-0.848218</td>\n",
       "      <td>-12.088328</td>\n",
       "      <td>0.000000</td>\n",
       "    </tr>\n",
       "    <tr>\n",
       "      <th>25%</th>\n",
       "      <td>-0.072580</td>\n",
       "      <td>-0.200881</td>\n",
       "      <td>0.287748</td>\n",
       "      <td>56.497507</td>\n",
       "    </tr>\n",
       "    <tr>\n",
       "      <th>50%</th>\n",
       "      <td>0.502360</td>\n",
       "      <td>0.250252</td>\n",
       "      <td>2.515969</td>\n",
       "      <td>91.849972</td>\n",
       "    </tr>\n",
       "    <tr>\n",
       "      <th>75%</th>\n",
       "      <td>1.073581</td>\n",
       "      <td>0.700646</td>\n",
       "      <td>4.715088</td>\n",
       "      <td>128.564089</td>\n",
       "    </tr>\n",
       "    <tr>\n",
       "      <th>max</th>\n",
       "      <td>2.362331</td>\n",
       "      <td>1.343769</td>\n",
       "      <td>16.003790</td>\n",
       "      <td>185.364347</td>\n",
       "    </tr>\n",
       "  </tbody>\n",
       "</table>\n",
       "</div>"
      ],
      "text/plain": [
       "                  f0             f1             f2        product\n",
       "count  100000.000000  100000.000000  100000.000000  100000.000000\n",
       "mean        0.500419       0.250143       2.502647      92.500000\n",
       "std         0.871832       0.504433       3.248248      44.288691\n",
       "min        -1.408605      -0.848218     -12.088328       0.000000\n",
       "25%        -0.072580      -0.200881       0.287748      56.497507\n",
       "50%         0.502360       0.250252       2.515969      91.849972\n",
       "75%         1.073581       0.700646       4.715088     128.564089\n",
       "max         2.362331       1.343769      16.003790     185.364347"
      ]
     },
     "execution_count": 4,
     "metadata": {},
     "output_type": "execute_result"
    }
   ],
   "source": [
    "data1.describe()"
   ]
  },
  {
   "cell_type": "code",
   "execution_count": 5,
   "metadata": {},
   "outputs": [
    {
     "data": {
      "text/plain": [
       "id         0\n",
       "f0         0\n",
       "f1         0\n",
       "f2         0\n",
       "product    0\n",
       "dtype: int64"
      ]
     },
     "execution_count": 5,
     "metadata": {},
     "output_type": "execute_result"
    }
   ],
   "source": [
    "data1.isna().sum()"
   ]
  },
  {
   "cell_type": "code",
   "execution_count": 6,
   "metadata": {},
   "outputs": [
    {
     "data": {
      "text/plain": [
       "0"
      ]
     },
     "execution_count": 6,
     "metadata": {},
     "output_type": "execute_result"
    }
   ],
   "source": [
    "data1.duplicated().sum()"
   ]
  },
  {
   "cell_type": "code",
   "execution_count": 7,
   "metadata": {},
   "outputs": [],
   "source": [
    "data1['id'].duplicated().sum()"
   ]
  },
  {
   "cell_type": "code",
   "execution_count": null,
   "metadata": {},
   "outputs": [],
   "source": [
    "data1.drop_duplicates(subset = ['id'], inplace = True)"
   ]
  },
  {
   "cell_type": "code",
   "execution_count": 8,
   "metadata": {},
   "outputs": [
    {
     "data": {
      "text/plain": [
       "0"
      ]
     },
     "execution_count": 8,
     "metadata": {},
     "output_type": "execute_result"
    }
   ],
   "source": [
    "data1['id'].duplicated().sum()"
   ]
  },
  {
   "cell_type": "code",
   "execution_count": 32,
   "metadata": {},
   "outputs": [
    {
     "data": {
      "image/png": "[encoded data removed]",
      "text/plain": [
       "<Figure size 1000x600 with 1 Axes>"
      ]
     },
     "metadata": {},
     "output_type": "display_data"
    }
   ],
   "source": [
    "data1['product'].plot(kind = 'hist',\n",
    "                      ylabel = 'Frequency',\n",
    "                      title = 'Distribution of Reserve Volume for Oil Wells',\n",
    "                      figsize = (10, 6))\n",
    "\n",
    "plt.xlabel('Volume of Reserves')\n",
    "plt.show()"
   ]
  },
  {
   "cell_type": "code",
   "execution_count": 68,
   "metadata": {},
   "outputs": [],
   "source": [
    "# data1['product'].plot(kind = 'hist',\n",
    "#     ylabel = 'Frequency',\n",
    "#     title = 'Distribution of Reserve Volume for Oil Wells',\n",
    "#     figsize = (10, 6),\n",
    "#     xlabel = 'Volume of Reserves')\n",
    "\n",
    "# plt.show()"
   ]
  },
  {
   "cell_type": "code",
   "execution_count": 12,
   "metadata": {},
   "outputs": [
    {
     "data": {
      "text/html": [
       "<div>\n",
       "<style scoped>\n",
       "    .dataframe tbody tr th:only-of-type {\n",
       "        vertical-align: middle;\n",
       "    }\n",
       "\n",
       "    .dataframe tbody tr th {\n",
       "        vertical-align: top;\n",
       "    }\n",
       "\n",
       "    .dataframe thead th {\n",
       "        text-align: right;\n",
       "    }\n",
       "</style>\n",
       "<table border=\"1\" class=\"dataframe\">\n",
       "  <thead>\n",
       "    <tr style=\"text-align: right;\">\n",
       "      <th></th>\n",
       "      <th>id</th>\n",
       "      <th>f0</th>\n",
       "      <th>f1</th>\n",
       "      <th>f2</th>\n",
       "      <th>product</th>\n",
       "    </tr>\n",
       "  </thead>\n",
       "  <tbody>\n",
       "    <tr>\n",
       "      <th>0</th>\n",
       "      <td>kBEdx</td>\n",
       "      <td>-15.001348</td>\n",
       "      <td>-8.276000</td>\n",
       "      <td>-0.005876</td>\n",
       "      <td>3.179103</td>\n",
       "    </tr>\n",
       "    <tr>\n",
       "      <th>1</th>\n",
       "      <td>62mP7</td>\n",
       "      <td>14.272088</td>\n",
       "      <td>-3.475083</td>\n",
       "      <td>0.999183</td>\n",
       "      <td>26.953261</td>\n",
       "    </tr>\n",
       "    <tr>\n",
       "      <th>2</th>\n",
       "      <td>vyE1P</td>\n",
       "      <td>6.263187</td>\n",
       "      <td>-5.948386</td>\n",
       "      <td>5.001160</td>\n",
       "      <td>134.766305</td>\n",
       "    </tr>\n",
       "    <tr>\n",
       "      <th>3</th>\n",
       "      <td>KcrkZ</td>\n",
       "      <td>-13.081196</td>\n",
       "      <td>-11.506057</td>\n",
       "      <td>4.999415</td>\n",
       "      <td>137.945408</td>\n",
       "    </tr>\n",
       "    <tr>\n",
       "      <th>4</th>\n",
       "      <td>AHL4O</td>\n",
       "      <td>12.702195</td>\n",
       "      <td>-8.147433</td>\n",
       "      <td>5.004363</td>\n",
       "      <td>134.766305</td>\n",
       "    </tr>\n",
       "    <tr>\n",
       "      <th>...</th>\n",
       "      <td>...</td>\n",
       "      <td>...</td>\n",
       "      <td>...</td>\n",
       "      <td>...</td>\n",
       "      <td>...</td>\n",
       "    </tr>\n",
       "    <tr>\n",
       "      <th>99995</th>\n",
       "      <td>QywKC</td>\n",
       "      <td>9.535637</td>\n",
       "      <td>-6.878139</td>\n",
       "      <td>1.998296</td>\n",
       "      <td>53.906522</td>\n",
       "    </tr>\n",
       "    <tr>\n",
       "      <th>99996</th>\n",
       "      <td>ptvty</td>\n",
       "      <td>-10.160631</td>\n",
       "      <td>-12.558096</td>\n",
       "      <td>5.005581</td>\n",
       "      <td>137.945408</td>\n",
       "    </tr>\n",
       "    <tr>\n",
       "      <th>99997</th>\n",
       "      <td>09gWa</td>\n",
       "      <td>-7.378891</td>\n",
       "      <td>-3.084104</td>\n",
       "      <td>4.998651</td>\n",
       "      <td>137.945408</td>\n",
       "    </tr>\n",
       "    <tr>\n",
       "      <th>99998</th>\n",
       "      <td>rqwUm</td>\n",
       "      <td>0.665714</td>\n",
       "      <td>-6.152593</td>\n",
       "      <td>1.000146</td>\n",
       "      <td>30.132364</td>\n",
       "    </tr>\n",
       "    <tr>\n",
       "      <th>99999</th>\n",
       "      <td>relB0</td>\n",
       "      <td>-3.426139</td>\n",
       "      <td>-7.794274</td>\n",
       "      <td>-0.003299</td>\n",
       "      <td>3.179103</td>\n",
       "    </tr>\n",
       "  </tbody>\n",
       "</table>\n",
       "<p>100000 rows × 5 columns</p>\n",
       "</div>"
      ],
      "text/plain": [
       "          id         f0         f1        f2     product\n",
       "0      kBEdx -15.001348  -8.276000 -0.005876    3.179103\n",
       "1      62mP7  14.272088  -3.475083  0.999183   26.953261\n",
       "2      vyE1P   6.263187  -5.948386  5.001160  134.766305\n",
       "3      KcrkZ -13.081196 -11.506057  4.999415  137.945408\n",
       "4      AHL4O  12.702195  -8.147433  5.004363  134.766305\n",
       "...      ...        ...        ...       ...         ...\n",
       "99995  QywKC   9.535637  -6.878139  1.998296   53.906522\n",
       "99996  ptvty -10.160631 -12.558096  5.005581  137.945408\n",
       "99997  09gWa  -7.378891  -3.084104  4.998651  137.945408\n",
       "99998  rqwUm   0.665714  -6.152593  1.000146   30.132364\n",
       "99999  relB0  -3.426139  -7.794274 -0.003299    3.179103\n",
       "\n",
       "[100000 rows x 5 columns]"
      ]
     },
     "execution_count": 12,
     "metadata": {},
     "output_type": "execute_result"
    }
   ],
   "source": [
    "data2 = pd.read_csv('/datasets/geo_data_1.csv')\n",
    "data2"
   ]
  },
  {
   "cell_type": "code",
   "execution_count": 13,
   "metadata": {},
   "outputs": [
    {
     "name": "stdout",
     "output_type": "stream",
     "text": [
      "<class 'pandas.core.frame.DataFrame'>\n",
      "RangeIndex: 100000 entries, 0 to 99999\n",
      "Data columns (total 5 columns):\n",
      " #   Column   Non-Null Count   Dtype  \n",
      "---  ------   --------------   -----  \n",
      " 0   id       100000 non-null  object \n",
      " 1   f0       100000 non-null  float64\n",
      " 2   f1       100000 non-null  float64\n",
      " 3   f2       100000 non-null  float64\n",
      " 4   product  100000 non-null  float64\n",
      "dtypes: float64(4), object(1)\n",
      "memory usage: 3.8+ MB\n"
     ]
    }
   ],
   "source": [
    "data2.info()"
   ]
  },
  {
   "cell_type": "code",
   "execution_count": 14,
   "metadata": {},
   "outputs": [
    {
     "data": {
      "text/html": [
       "<div>\n",
       "<style scoped>\n",
       "    .dataframe tbody tr th:only-of-type {\n",
       "        vertical-align: middle;\n",
       "    }\n",
       "\n",
       "    .dataframe tbody tr th {\n",
       "        vertical-align: top;\n",
       "    }\n",
       "\n",
       "    .dataframe thead th {\n",
       "        text-align: right;\n",
       "    }\n",
       "</style>\n",
       "<table border=\"1\" class=\"dataframe\">\n",
       "  <thead>\n",
       "    <tr style=\"text-align: right;\">\n",
       "      <th></th>\n",
       "      <th>f0</th>\n",
       "      <th>f1</th>\n",
       "      <th>f2</th>\n",
       "      <th>product</th>\n",
       "    </tr>\n",
       "  </thead>\n",
       "  <tbody>\n",
       "    <tr>\n",
       "      <th>count</th>\n",
       "      <td>100000.000000</td>\n",
       "      <td>100000.000000</td>\n",
       "      <td>100000.000000</td>\n",
       "      <td>100000.000000</td>\n",
       "    </tr>\n",
       "    <tr>\n",
       "      <th>mean</th>\n",
       "      <td>1.141296</td>\n",
       "      <td>-4.796579</td>\n",
       "      <td>2.494541</td>\n",
       "      <td>68.825000</td>\n",
       "    </tr>\n",
       "    <tr>\n",
       "      <th>std</th>\n",
       "      <td>8.965932</td>\n",
       "      <td>5.119872</td>\n",
       "      <td>1.703572</td>\n",
       "      <td>45.944423</td>\n",
       "    </tr>\n",
       "    <tr>\n",
       "      <th>min</th>\n",
       "      <td>-31.609576</td>\n",
       "      <td>-26.358598</td>\n",
       "      <td>-0.018144</td>\n",
       "      <td>0.000000</td>\n",
       "    </tr>\n",
       "    <tr>\n",
       "      <th>25%</th>\n",
       "      <td>-6.298551</td>\n",
       "      <td>-8.267985</td>\n",
       "      <td>1.000021</td>\n",
       "      <td>26.953261</td>\n",
       "    </tr>\n",
       "    <tr>\n",
       "      <th>50%</th>\n",
       "      <td>1.153055</td>\n",
       "      <td>-4.813172</td>\n",
       "      <td>2.011479</td>\n",
       "      <td>57.085625</td>\n",
       "    </tr>\n",
       "    <tr>\n",
       "      <th>75%</th>\n",
       "      <td>8.621015</td>\n",
       "      <td>-1.332816</td>\n",
       "      <td>3.999904</td>\n",
       "      <td>107.813044</td>\n",
       "    </tr>\n",
       "    <tr>\n",
       "      <th>max</th>\n",
       "      <td>29.421755</td>\n",
       "      <td>18.734063</td>\n",
       "      <td>5.019721</td>\n",
       "      <td>137.945408</td>\n",
       "    </tr>\n",
       "  </tbody>\n",
       "</table>\n",
       "</div>"
      ],
      "text/plain": [
       "                  f0             f1             f2        product\n",
       "count  100000.000000  100000.000000  100000.000000  100000.000000\n",
       "mean        1.141296      -4.796579       2.494541      68.825000\n",
       "std         8.965932       5.119872       1.703572      45.944423\n",
       "min       -31.609576     -26.358598      -0.018144       0.000000\n",
       "25%        -6.298551      -8.267985       1.000021      26.953261\n",
       "50%         1.153055      -4.813172       2.011479      57.085625\n",
       "75%         8.621015      -1.332816       3.999904     107.813044\n",
       "max        29.421755      18.734063       5.019721     137.945408"
      ]
     },
     "execution_count": 14,
     "metadata": {},
     "output_type": "execute_result"
    }
   ],
   "source": [
    "data2.describe()"
   ]
  },
  {
   "cell_type": "code",
   "execution_count": 15,
   "metadata": {},
   "outputs": [
    {
     "data": {
      "text/plain": [
       "id         0\n",
       "f0         0\n",
       "f1         0\n",
       "f2         0\n",
       "product    0\n",
       "dtype: int64"
      ]
     },
     "execution_count": 15,
     "metadata": {},
     "output_type": "execute_result"
    }
   ],
   "source": [
    "data2.isna().sum()"
   ]
  },
  {
   "cell_type": "code",
   "execution_count": 16,
   "metadata": {},
   "outputs": [
    {
     "data": {
      "text/plain": [
       "0"
      ]
     },
     "execution_count": 16,
     "metadata": {},
     "output_type": "execute_result"
    }
   ],
   "source": [
    "data2.duplicated().sum()"
   ]
  },
  {
   "cell_type": "code",
   "execution_count": 17,
   "metadata": {},
   "outputs": [],
   "source": [
    "data2['id'].duplicated().sum()"
   ]
  },
  {
   "cell_type": "code",
   "execution_count": null,
   "metadata": {},
   "outputs": [],
   "source": [
    "data2.drop_duplicates(subset = ['id'], inplace = True)"
   ]
  },
  {
   "cell_type": "code",
   "execution_count": 18,
   "metadata": {},
   "outputs": [
    {
     "data": {
      "text/plain": [
       "0"
      ]
     },
     "execution_count": 18,
     "metadata": {},
     "output_type": "execute_result"
    }
   ],
   "source": [
    "data2['id'].duplicated().sum()"
   ]
  },
  {
   "cell_type": "code",
   "execution_count": 31,
   "metadata": {},
   "outputs": [
    {
     "data": {
      "image/png": "[encoded data removed]",
      "text/plain": [
       "<Figure size 1000x600 with 1 Axes>"
      ]
     },
     "metadata": {},
     "output_type": "display_data"
    }
   ],
   "source": [
    "data2['product'].plot(kind = 'hist',\n",
    "                      ylabel = 'Frequency',\n",
    "                      title = 'Distribution of Reserve Volume for Oil Wells',\n",
    "                      figsize = (10, 6))\n",
    "\n",
    "plt.xlabel('Volume of Reserves')\n",
    "plt.show()"
   ]
  },
  {
   "cell_type": "code",
   "execution_count": 24,
   "metadata": {},
   "outputs": [
    {
     "data": {
      "text/html": [
       "<div>\n",
       "<style scoped>\n",
       "    .dataframe tbody tr th:only-of-type {\n",
       "        vertical-align: middle;\n",
       "    }\n",
       "\n",
       "    .dataframe tbody tr th {\n",
       "        vertical-align: top;\n",
       "    }\n",
       "\n",
       "    .dataframe thead th {\n",
       "        text-align: right;\n",
       "    }\n",
       "</style>\n",
       "<table border=\"1\" class=\"dataframe\">\n",
       "  <thead>\n",
       "    <tr style=\"text-align: right;\">\n",
       "      <th></th>\n",
       "      <th>id</th>\n",
       "      <th>f0</th>\n",
       "      <th>f1</th>\n",
       "      <th>f2</th>\n",
       "      <th>product</th>\n",
       "    </tr>\n",
       "  </thead>\n",
       "  <tbody>\n",
       "    <tr>\n",
       "      <th>0</th>\n",
       "      <td>fwXo0</td>\n",
       "      <td>-1.146987</td>\n",
       "      <td>0.963328</td>\n",
       "      <td>-0.828965</td>\n",
       "      <td>27.758673</td>\n",
       "    </tr>\n",
       "    <tr>\n",
       "      <th>1</th>\n",
       "      <td>WJtFt</td>\n",
       "      <td>0.262778</td>\n",
       "      <td>0.269839</td>\n",
       "      <td>-2.530187</td>\n",
       "      <td>56.069697</td>\n",
       "    </tr>\n",
       "    <tr>\n",
       "      <th>2</th>\n",
       "      <td>ovLUW</td>\n",
       "      <td>0.194587</td>\n",
       "      <td>0.289035</td>\n",
       "      <td>-5.586433</td>\n",
       "      <td>62.871910</td>\n",
       "    </tr>\n",
       "    <tr>\n",
       "      <th>3</th>\n",
       "      <td>q6cA6</td>\n",
       "      <td>2.236060</td>\n",
       "      <td>-0.553760</td>\n",
       "      <td>0.930038</td>\n",
       "      <td>114.572842</td>\n",
       "    </tr>\n",
       "    <tr>\n",
       "      <th>4</th>\n",
       "      <td>WPMUX</td>\n",
       "      <td>-0.515993</td>\n",
       "      <td>1.716266</td>\n",
       "      <td>5.899011</td>\n",
       "      <td>149.600746</td>\n",
       "    </tr>\n",
       "    <tr>\n",
       "      <th>...</th>\n",
       "      <td>...</td>\n",
       "      <td>...</td>\n",
       "      <td>...</td>\n",
       "      <td>...</td>\n",
       "      <td>...</td>\n",
       "    </tr>\n",
       "    <tr>\n",
       "      <th>99995</th>\n",
       "      <td>4GxBu</td>\n",
       "      <td>-1.777037</td>\n",
       "      <td>1.125220</td>\n",
       "      <td>6.263374</td>\n",
       "      <td>172.327046</td>\n",
       "    </tr>\n",
       "    <tr>\n",
       "      <th>99996</th>\n",
       "      <td>YKFjq</td>\n",
       "      <td>-1.261523</td>\n",
       "      <td>-0.894828</td>\n",
       "      <td>2.524545</td>\n",
       "      <td>138.748846</td>\n",
       "    </tr>\n",
       "    <tr>\n",
       "      <th>99997</th>\n",
       "      <td>tKPY3</td>\n",
       "      <td>-1.199934</td>\n",
       "      <td>-2.957637</td>\n",
       "      <td>5.219411</td>\n",
       "      <td>157.080080</td>\n",
       "    </tr>\n",
       "    <tr>\n",
       "      <th>99998</th>\n",
       "      <td>nmxp2</td>\n",
       "      <td>-2.419896</td>\n",
       "      <td>2.417221</td>\n",
       "      <td>-5.548444</td>\n",
       "      <td>51.795253</td>\n",
       "    </tr>\n",
       "    <tr>\n",
       "      <th>99999</th>\n",
       "      <td>V9kWn</td>\n",
       "      <td>-2.551421</td>\n",
       "      <td>-2.025625</td>\n",
       "      <td>6.090891</td>\n",
       "      <td>102.775767</td>\n",
       "    </tr>\n",
       "  </tbody>\n",
       "</table>\n",
       "<p>100000 rows × 5 columns</p>\n",
       "</div>"
      ],
      "text/plain": [
       "          id        f0        f1        f2     product\n",
       "0      fwXo0 -1.146987  0.963328 -0.828965   27.758673\n",
       "1      WJtFt  0.262778  0.269839 -2.530187   56.069697\n",
       "2      ovLUW  0.194587  0.289035 -5.586433   62.871910\n",
       "3      q6cA6  2.236060 -0.553760  0.930038  114.572842\n",
       "4      WPMUX -0.515993  1.716266  5.899011  149.600746\n",
       "...      ...       ...       ...       ...         ...\n",
       "99995  4GxBu -1.777037  1.125220  6.263374  172.327046\n",
       "99996  YKFjq -1.261523 -0.894828  2.524545  138.748846\n",
       "99997  tKPY3 -1.199934 -2.957637  5.219411  157.080080\n",
       "99998  nmxp2 -2.419896  2.417221 -5.548444   51.795253\n",
       "99999  V9kWn -2.551421 -2.025625  6.090891  102.775767\n",
       "\n",
       "[100000 rows x 5 columns]"
      ]
     },
     "execution_count": 24,
     "metadata": {},
     "output_type": "execute_result"
    }
   ],
   "source": [
    "data3 = pd.read_csv('/datasets/geo_data_2.csv')\n",
    "data3"
   ]
  },
  {
   "cell_type": "code",
   "execution_count": 25,
   "metadata": {},
   "outputs": [
    {
     "name": "stdout",
     "output_type": "stream",
     "text": [
      "<class 'pandas.core.frame.DataFrame'>\n",
      "RangeIndex: 100000 entries, 0 to 99999\n",
      "Data columns (total 5 columns):\n",
      " #   Column   Non-Null Count   Dtype  \n",
      "---  ------   --------------   -----  \n",
      " 0   id       100000 non-null  object \n",
      " 1   f0       100000 non-null  float64\n",
      " 2   f1       100000 non-null  float64\n",
      " 3   f2       100000 non-null  float64\n",
      " 4   product  100000 non-null  float64\n",
      "dtypes: float64(4), object(1)\n",
      "memory usage: 3.8+ MB\n"
     ]
    }
   ],
   "source": [
    "data3.info()"
   ]
  },
  {
   "cell_type": "code",
   "execution_count": 26,
   "metadata": {},
   "outputs": [
    {
     "data": {
      "text/html": [
       "<div>\n",
       "<style scoped>\n",
       "    .dataframe tbody tr th:only-of-type {\n",
       "        vertical-align: middle;\n",
       "    }\n",
       "\n",
       "    .dataframe tbody tr th {\n",
       "        vertical-align: top;\n",
       "    }\n",
       "\n",
       "    .dataframe thead th {\n",
       "        text-align: right;\n",
       "    }\n",
       "</style>\n",
       "<table border=\"1\" class=\"dataframe\">\n",
       "  <thead>\n",
       "    <tr style=\"text-align: right;\">\n",
       "      <th></th>\n",
       "      <th>f0</th>\n",
       "      <th>f1</th>\n",
       "      <th>f2</th>\n",
       "      <th>product</th>\n",
       "    </tr>\n",
       "  </thead>\n",
       "  <tbody>\n",
       "    <tr>\n",
       "      <th>count</th>\n",
       "      <td>100000.000000</td>\n",
       "      <td>100000.000000</td>\n",
       "      <td>100000.000000</td>\n",
       "      <td>100000.000000</td>\n",
       "    </tr>\n",
       "    <tr>\n",
       "      <th>mean</th>\n",
       "      <td>0.002023</td>\n",
       "      <td>-0.002081</td>\n",
       "      <td>2.495128</td>\n",
       "      <td>95.000000</td>\n",
       "    </tr>\n",
       "    <tr>\n",
       "      <th>std</th>\n",
       "      <td>1.732045</td>\n",
       "      <td>1.730417</td>\n",
       "      <td>3.473445</td>\n",
       "      <td>44.749921</td>\n",
       "    </tr>\n",
       "    <tr>\n",
       "      <th>min</th>\n",
       "      <td>-8.760004</td>\n",
       "      <td>-7.084020</td>\n",
       "      <td>-11.970335</td>\n",
       "      <td>0.000000</td>\n",
       "    </tr>\n",
       "    <tr>\n",
       "      <th>25%</th>\n",
       "      <td>-1.162288</td>\n",
       "      <td>-1.174820</td>\n",
       "      <td>0.130359</td>\n",
       "      <td>59.450441</td>\n",
       "    </tr>\n",
       "    <tr>\n",
       "      <th>50%</th>\n",
       "      <td>0.009424</td>\n",
       "      <td>-0.009482</td>\n",
       "      <td>2.484236</td>\n",
       "      <td>94.925613</td>\n",
       "    </tr>\n",
       "    <tr>\n",
       "      <th>75%</th>\n",
       "      <td>1.158535</td>\n",
       "      <td>1.163678</td>\n",
       "      <td>4.858794</td>\n",
       "      <td>130.595027</td>\n",
       "    </tr>\n",
       "    <tr>\n",
       "      <th>max</th>\n",
       "      <td>7.238262</td>\n",
       "      <td>7.844801</td>\n",
       "      <td>16.739402</td>\n",
       "      <td>190.029838</td>\n",
       "    </tr>\n",
       "  </tbody>\n",
       "</table>\n",
       "</div>"
      ],
      "text/plain": [
       "                  f0             f1             f2        product\n",
       "count  100000.000000  100000.000000  100000.000000  100000.000000\n",
       "mean        0.002023      -0.002081       2.495128      95.000000\n",
       "std         1.732045       1.730417       3.473445      44.749921\n",
       "min        -8.760004      -7.084020     -11.970335       0.000000\n",
       "25%        -1.162288      -1.174820       0.130359      59.450441\n",
       "50%         0.009424      -0.009482       2.484236      94.925613\n",
       "75%         1.158535       1.163678       4.858794     130.595027\n",
       "max         7.238262       7.844801      16.739402     190.029838"
      ]
     },
     "execution_count": 26,
     "metadata": {},
     "output_type": "execute_result"
    }
   ],
   "source": [
    "data3.describe()"
   ]
  },
  {
   "cell_type": "code",
   "execution_count": 27,
   "metadata": {},
   "outputs": [
    {
     "data": {
      "text/plain": [
       "id         0\n",
       "f0         0\n",
       "f1         0\n",
       "f2         0\n",
       "product    0\n",
       "dtype: int64"
      ]
     },
     "execution_count": 27,
     "metadata": {},
     "output_type": "execute_result"
    }
   ],
   "source": [
    "data3.isna().sum()"
   ]
  },
  {
   "cell_type": "code",
   "execution_count": 28,
   "metadata": {},
   "outputs": [
    {
     "data": {
      "text/plain": [
       "0"
      ]
     },
     "execution_count": 28,
     "metadata": {},
     "output_type": "execute_result"
    }
   ],
   "source": [
    "data3.duplicated().sum()"
   ]
  },
  {
   "cell_type": "code",
   "execution_count": 29,
   "metadata": {},
   "outputs": [],
   "source": [
    "data3['id'].duplicated().sum()"
   ]
  },
  {
   "cell_type": "code",
   "execution_count": null,
   "metadata": {},
   "outputs": [],
   "source": [
    "data3.drop_duplicates(subset = ['id'], inplace = True)"
   ]
  },
  {
   "cell_type": "code",
   "execution_count": 30,
   "metadata": {},
   "outputs": [
    {
     "data": {
      "text/plain": [
       "0"
      ]
     },
     "execution_count": 30,
     "metadata": {},
     "output_type": "execute_result"
    }
   ],
   "source": [
    "data3['id'].duplicated().sum()"
   ]
  },
  {
   "cell_type": "code",
   "execution_count": 34,
   "metadata": {},
   "outputs": [
    {
     "data": {
      "image/png": "[encoded data removed]",
      "text/plain": [
       "<Figure size 1000x600 with 1 Axes>"
      ]
     },
     "metadata": {},
     "output_type": "display_data"
    }
   ],
   "source": [
    "data3['product'].plot(kind = 'hist',\n",
    "                      ylabel = 'Frequency',\n",
    "                      title = 'Distribution of Reserve Volume for Oil Wells',\n",
    "                      figsize = (10, 6))\n",
    "\n",
    "plt.xlabel('Volume of Reserves')\n",
    "plt.show()"
   ]
  },
  {
   "cell_type": "code",
   "execution_count": 35,
   "metadata": {},
   "outputs": [],
   "source": [
    "data1 = data1.drop(['id'], axis = 1)\n",
    "data2 = data2.drop(['id'], axis = 1)\n",
    "data3 = data3.drop(['id'], axis = 1)"
   ]
  },
  {
   "cell_type": "markdown",
   "metadata": {},
   "source": [
    "### Conclusion\n",
    "\n",
    "- Although there was no full row duplicates, there were duplicate ids that we had to remove.\n",
    "- The id column will be dropped, as we do not need this for the model training.\n",
    "- Region 1 and 3 had very similar distributions in their data, while Region 2 had low outliers and high outliers."
   ]
  },
  {
   "cell_type": "markdown",
   "metadata": {},
   "source": [
    "## Train and test the model for each region"
   ]
  },
  {
   "cell_type": "code",
   "execution_count": 36,
   "metadata": {},
   "outputs": [],
   "source": [
    "state = np.random.RandomState(12345)\n",
    "data = [data1, data2, data3]"
   ]
  },
  {
   "cell_type": "code",
   "execution_count": 46,
   "metadata": {},
   "outputs": [],
   "source": [
    "def linear_train(df):\n",
    "    features = df.drop(['product'], axis = 1)\n",
    "    target = df['product']\n",
    "    \n",
    "    features_train, features_valid, target_train, target_valid = \\\n",
    "    train_test_split(features, target, test_size = .25, random_state = state)\n",
    "    \n",
    "    numeric = ['f0', 'f1', 'f2']\n",
    "    scaler = StandardScaler()\n",
    "    scaler.fit(features_train[numeric])\n",
    "    features_train.loc[:, numeric] = scaler.transform(features_train[numeric])\n",
    "    features_valid.loc[:, numeric] = scaler.transform(features_valid[numeric])\n",
    "    \n",
    "    model = LinearRegression()\n",
    "    model.fit(features_train, target_train)\n",
    "    predictions_valid = model.predict(features_valid)\n",
    "    \n",
    "    print(f'RMSE: {mean_squared_error(target_valid, predictions_valid) ** 0.5}')\n",
    "    print(f'Average Volume: {predictions_valid.mean()}')\n",
    "    return target_valid, predictions_valid"
   ]
  },
  {
   "cell_type": "code",
   "execution_count": 52,
   "metadata": {
    "scrolled": false
   },
   "outputs": [
    {
     "name": "stdout",
     "output_type": "stream",
     "text": [
      "RMSE: 37.72612799032354\n",
      "Average Volume: 92.53756436518852\n"
     ]
    }
   ],
   "source": [
    "data1_target, data1_predictions = linear_train(data1)"
   ]
  },
  {
   "cell_type": "code",
   "execution_count": 53,
   "metadata": {},
   "outputs": [
    {
     "name": "stdout",
     "output_type": "stream",
     "text": [
      "RMSE: 0.8952623502062992\n",
      "Average Volume: 68.94354876689626\n"
     ]
    }
   ],
   "source": [
    "data2_target, data2_predictions = linear_train(data2)"
   ]
  },
  {
   "cell_type": "code",
   "execution_count": 54,
   "metadata": {
    "scrolled": false
   },
   "outputs": [
    {
     "name": "stdout",
     "output_type": "stream",
     "text": [
      "RMSE: 39.93697530982077\n",
      "Average Volume: 95.22055828105603\n"
     ]
    }
   ],
   "source": [
    "data3_target, data3_predictions = linear_train(data3)"
   ]
  },
  {
   "cell_type": "markdown",
   "metadata": {},
   "source": [
    "### Conclusion\n",
    "The results show that:\n",
    "- Region 1 has an RSME of about 37.82 and average volume of 92.39\n",
    "- Region 2 has an RSME of about 0.89 and average volume of 69.36\n",
    "- Region 3 has an RSME of about 39.96 and average volume of 95.09\n",
    "\n",
    "From these results we can say that:\n",
    "- Region 3 has the worst RSME and the average volume is higher than Region 1 and 2, which shows that the model inaccurately predicted volumes of the new wells compared to the other 2 regions\n",
    "- Region 1 and 3 have very similar results of RSME and average volume which shows that these models have very similar predictions\n",
    "- However Region 2 did show the best results and that gives us an idea of what model we should move forward with"
   ]
  },
  {
   "cell_type": "markdown",
   "metadata": {},
   "source": [
    "## Prepare for profit calculation"
   ]
  },
  {
   "cell_type": "code",
   "execution_count": 57,
   "metadata": {},
   "outputs": [
    {
     "name": "stdout",
     "output_type": "stream",
     "text": [
      "111.11111111111111\n"
     ]
    }
   ],
   "source": [
    "#Initiating constant variables\n",
    "NUM = 500\n",
    "NUM_BEST = 200\n",
    "NUM_WELLS = 200\n",
    "BUDGET = 100000000\n",
    "REV = 4500\n",
    "RISK = 0.025\n",
    "#Calculate the volume of reserves sufficient for developing a new well without losses\n",
    "print(BUDGET / NUM_BEST / REV)"
   ]
  },
  {
   "cell_type": "markdown",
   "metadata": {},
   "source": [
    "### Conclusion\n",
    "\n",
    "- All of our conditional constant variables are set.\n",
    "- An average volume of 111.11 is needed to garner profit from this project.\n",
    "- With the average volume of 111.11 to achieve profit, the average volume currently predicted with our model will not be enough to avoid losses."
   ]
  },
  {
   "cell_type": "markdown",
   "metadata": {},
   "source": [
    "## Write a function to calculate profit from a set of selected oil wells and model predictions"
   ]
  },
  {
   "cell_type": "code",
   "execution_count": 58,
   "metadata": {
    "scrolled": true
   },
   "outputs": [
    {
     "data": {
      "text/plain": [
       "22313    177.600836\n",
       "4159     175.512191\n",
       "23029    173.918721\n",
       "9742     173.221413\n",
       "7614     172.558494\n",
       "            ...    \n",
       "20588     17.567350\n",
       "15175     15.831452\n",
       "18355      9.996734\n",
       "1920       8.501788\n",
       "19110      2.618784\n",
       "Length: 24998, dtype: float64"
      ]
     },
     "execution_count": 58,
     "metadata": {},
     "output_type": "execute_result"
    }
   ],
   "source": [
    "pd.Series(data1_predictions).sort_values(ascending = False)"
   ]
  },
  {
   "cell_type": "code",
   "execution_count": 59,
   "metadata": {},
   "outputs": [
    {
     "data": {
      "text/plain": [
       "0        162.976526\n",
       "1         80.217274\n",
       "2        161.329503\n",
       "3         38.035923\n",
       "4         54.649423\n",
       "            ...    \n",
       "24993    125.074485\n",
       "24994    108.903992\n",
       "24995      8.698493\n",
       "24996     25.424972\n",
       "24997     73.465128\n",
       "Name: product, Length: 24998, dtype: float64"
      ]
     },
     "execution_count": 59,
     "metadata": {},
     "output_type": "execute_result"
    }
   ],
   "source": [
    "pd.Series(data1_target).reset_index(drop = True)"
   ]
  },
  {
   "cell_type": "code",
   "execution_count": 60,
   "metadata": {},
   "outputs": [],
   "source": [
    "def calc_profit(target, predictions):\n",
    "    target = pd.Series(target).reset_index(drop = True)\n",
    "    predictions = pd.Series(predictions)\n",
    "    predictions_sorted = predictions.sort_values(ascending = False)\n",
    "    best = target[predictions_sorted.index][:NUM_BEST]\n",
    "    return (best.sum() * (REV)) - BUDGET"
   ]
  },
  {
   "cell_type": "code",
   "execution_count": 61,
   "metadata": {},
   "outputs": [
    {
     "data": {
      "text/plain": [
       "33008103.657851756"
      ]
     },
     "execution_count": 61,
     "metadata": {},
     "output_type": "execute_result"
    }
   ],
   "source": [
    "calc_profit(data1_target, data1_predictions)"
   ]
  },
  {
   "cell_type": "code",
   "execution_count": 62,
   "metadata": {},
   "outputs": [
    {
     "data": {
      "text/plain": [
       "24150866.966815114"
      ]
     },
     "execution_count": 62,
     "metadata": {},
     "output_type": "execute_result"
    }
   ],
   "source": [
    "calc_profit(data2_target, data2_predictions)"
   ]
  },
  {
   "cell_type": "code",
   "execution_count": 63,
   "metadata": {},
   "outputs": [
    {
     "data": {
      "text/plain": [
       "23873866.413945645"
      ]
     },
     "execution_count": 63,
     "metadata": {},
     "output_type": "execute_result"
    }
   ],
   "source": [
    "calc_profit(data3_target, data3_predictions)"
   ]
  },
  {
   "cell_type": "markdown",
   "metadata": {},
   "source": [
    "### Conclusion\n",
    "Based on the calculations we have:\n",
    "- Region 1 has a profit of about \\$33,318,619.\n",
    "- Region 2 has a profit of about \\$24,150,866.\n",
    "- Region 3 has a profit of about \\$28,213,466.\n",
    "\n",
    "Region 1 shows promise of being the region of choice for our project."
   ]
  },
  {
   "cell_type": "markdown",
   "metadata": {},
   "source": [
    "## Calculate risks and profit for each region"
   ]
  },
  {
   "cell_type": "code",
   "execution_count": 64,
   "metadata": {},
   "outputs": [],
   "source": [
    "def bootstrap_profit(target, predictions):\n",
    "    profit = []\n",
    "    target = pd.Series(target).reset_index(drop = True)\n",
    "    for i in range(1000):\n",
    "        subsample = target.sample(n = NUM, replace = True, random_state = state)\n",
    "        pred_subsample = predictions[subsample.index]\n",
    "        profit.append(calc_profit(subsample, pred_subsample))\n",
    "    profit = pd.Series(profit)\n",
    "    print(f'Average Profit: {profit.mean()}')\n",
    "    confidence_interval = st.t.interval(.95, len(profit) - 1, profit.mean(), profit.sem())\n",
    "    print(f'95% Confidence Interval: {confidence_interval}')\n",
    "    print(f'Risk of losses: {round((len(profit[profit < 0]) / len(profit)) * 100, 2)}%')\n",
    "    profit.plot(kind = 'hist',\n",
    "               title = 'Distribution of Profit',\n",
    "               ylabel = 'Frequency')\n",
    "    \n",
    "    plt.xlabel('Profit Predicted')\n",
    "    plt.show()"
   ]
  },
  {
   "cell_type": "code",
   "execution_count": 65,
   "metadata": {},
   "outputs": [
    {
     "name": "stdout",
     "output_type": "stream",
     "text": [
      "Average Profit: 4359108.939918749\n",
      "95% Confidence Interval: (4202006.8335451465, 4516211.046292352)\n",
      "Risk of losses: 4.9%\n"
     ]
    },
    {
     "data": {
      "image/png": "[encoded data removed]",
      "text/plain": [
       "<Figure size 640x480 with 1 Axes>"
      ]
     },
     "metadata": {},
     "output_type": "display_data"
    }
   ],
   "source": [
    "bootstrap_profit(data1_target, data1_predictions)"
   ]
  },
  {
   "cell_type": "code",
   "execution_count": 66,
   "metadata": {},
   "outputs": [
    {
     "name": "stdout",
     "output_type": "stream",
     "text": [
      "Average Profit: 4842468.833357369\n",
      "95% Confidence Interval: (4712409.29758674, 4972528.369127997)\n",
      "Risk of losses: 0.8%\n"
     ]
    },
    {
     "data": {
      "image/png": "[encoded data removed]",
      "text/plain": [
       "<Figure size 640x480 with 1 Axes>"
      ]
     },
     "metadata": {},
     "output_type": "display_data"
    }
   ],
   "source": [
    "bootstrap_profit(data2_target, data2_predictions)"
   ]
  },
  {
   "cell_type": "code",
   "execution_count": 67,
   "metadata": {},
   "outputs": [
    {
     "name": "stdout",
     "output_type": "stream",
     "text": [
      "Average Profit: 3328226.6128179873\n",
      "95% Confidence Interval: (3162174.909061589, 3494278.316574386)\n",
      "Risk of losses: 11.0%\n"
     ]
    },
    {
     "data": {
      "image/png": "[encoded data removed]",
      "text/plain": [
       "<Figure size 640x480 with 1 Axes>"
      ]
     },
     "metadata": {},
     "output_type": "display_data"
    }
   ],
   "source": [
    "bootstrap_profit(data3_target, data3_predictions)"
   ]
  },
  {
   "cell_type": "markdown",
   "metadata": {},
   "source": [
    "### Conclusion\n",
    "\n",
    "The results of our bootstrapping technique show that:\n",
    "\n",
    "- Region 1 has the 2nd most average profit, as well as the 2nd highest risk of losses.\n",
    "- Region 2 has the best average profit, as well as the lowest risk of losses.\n",
    "- Region 3 has the least amount of profit, as well as the highest risk of losses.\n",
    "\n",
    "We can see that average profit and risk of losses are correlated as the more profit you have, the less likely the risk of losses are.\n",
    "\n",
    "The confidence interval of Region 2 also is the most narrow which shows results are much more consistent for this region.\n",
    "\n",
    "From these results, Region 2 will be the area where we would decide to do our project on."
   ]
  },
  {
   "cell_type": "markdown",
   "metadata": {},
   "source": [
    "## Conclusion\n",
    "\n",
    "<b> Preparing the Data </b>\n",
    "\n",
    "- Although there was no full row duplicates, there were duplicate ids that we had to remove.\n",
    "- The id column will be dropped, as we do not need this for the model training.\n",
    "- Region 1 and 3 had very similar distributions in their data, while Region 2 had low outliers and high outliers.\n",
    "\n",
    "<b> Model Training </b>\n",
    "\n",
    "The results show that:\n",
    "- Region 1 has an RSME of about 37.82 and average volume of 92.39\n",
    "- Region 2 has an RSME of about 0.89 and average volume of 69.36\n",
    "- Region 3 has an RSME of about 39.96 and average volume of 95.09\n",
    "\n",
    "From these results we can say that:\n",
    "- Region 3 has the worst RSME and the average volume is higher than Region 1 and 2, which shows that the model inaccurately predicted volumes of the new wells compared to the other 2 regions\n",
    "- Region 1 and 3 have very similar results of RSME and average volume which shows that these models have very similar predictions\n",
    "- However Region 2 did show the best results and that gives us an idea of what model we should move forward with\n",
    "\n",
    "<b> Profit Calculation Preparation </b>\n",
    "\n",
    "- All of our conditional constant variables are set.\n",
    "- An average volume of 111.11 is needed to garner profit from this project.\n",
    "\n",
    "<b> Profit Calculation </b>\n",
    "\n",
    "Based on the calculations we have:\n",
    "- Region 1 has a profit of about \\$33,318,619.\n",
    "- Region 2 has a profit of about \\$24,150,866.\n",
    "- Region 3 has a profit of about \\$28,213,466.\n",
    "\n",
    "Region 1 shows promise of being the region of choice for our project.\n",
    "\n",
    "<b> Bootstrapping Technique for Profit and Risk </b>\n",
    "\n",
    "The results of our bootstrapping technique show that:\n",
    "\n",
    "- Region 1 has the 2nd most average profit, as well as the 2nd highest risk of losses.\n",
    "- Region 2 has the best average profit, as well as the lowest risk of losses.\n",
    "- Region 3 has the least amount of profit, as well as the highest risk of losses.\n",
    "\n",
    "We can see that average profit and risk of losses are correlated as the more profit you have, the less likely the risk of losses are.\n",
    "\n",
    "The confidence interval of Region 2 also is the most narrow which shows results are much more consistent for this region.\n",
    "\n",
    "From these results, Region 2 will be the area where we would decide to do our project on.\n",
    "\n",
    "<b> Overall Conclusion </b>\n",
    "\n",
    "From the results that were garnered, I would have to say that Region 2 would be the ideal candidate for the project as they have, on average, the most profit as well as the least amount of risk involved and the most narrow confidence interval."
   ]
  },
  {
   "cell_type": "code",
   "execution_count": null,
   "metadata": {},
   "outputs": [],
   "source": []
  }
 ],
 "metadata": {
  "ExecuteTimeLog": [
   {
    "duration": 759,
    "start_time": "2024-09-25T18:27:53.587Z"
   },
   {
    "duration": 560,
    "start_time": "2024-09-26T00:11:25.003Z"
   },
   {
    "duration": 126,
    "start_time": "2024-09-26T00:11:39.121Z"
   },
   {
    "duration": 11,
    "start_time": "2024-09-26T00:15:02.618Z"
   },
   {
    "duration": 25,
    "start_time": "2024-09-26T00:15:09.564Z"
   },
   {
    "duration": 157,
    "start_time": "2024-09-26T18:55:07.214Z"
   },
   {
    "duration": 754,
    "start_time": "2024-09-26T18:55:09.354Z"
   },
   {
    "duration": 130,
    "start_time": "2024-09-26T18:55:10.111Z"
   },
   {
    "duration": 12,
    "start_time": "2024-09-26T18:55:10.243Z"
   },
   {
    "duration": 42,
    "start_time": "2024-09-26T18:55:10.257Z"
   },
   {
    "duration": 9,
    "start_time": "2024-09-26T18:55:10.301Z"
   },
   {
    "duration": 34,
    "start_time": "2024-09-26T18:55:10.312Z"
   },
   {
    "duration": 772,
    "start_time": "2024-09-28T05:17:27.186Z"
   },
   {
    "duration": 114,
    "start_time": "2024-09-28T05:17:27.960Z"
   },
   {
    "duration": 12,
    "start_time": "2024-09-28T05:17:28.076Z"
   },
   {
    "duration": 43,
    "start_time": "2024-09-28T05:17:28.089Z"
   },
   {
    "duration": 10,
    "start_time": "2024-09-28T05:17:28.135Z"
   },
   {
    "duration": 33,
    "start_time": "2024-09-28T05:17:28.147Z"
   },
   {
    "duration": 102,
    "start_time": "2024-09-28T05:17:28.182Z"
   },
   {
    "duration": 11,
    "start_time": "2024-09-28T05:17:28.286Z"
   },
   {
    "duration": 36,
    "start_time": "2024-09-28T05:17:28.299Z"
   },
   {
    "duration": 8,
    "start_time": "2024-09-28T05:17:28.338Z"
   },
   {
    "duration": 29,
    "start_time": "2024-09-28T05:17:28.348Z"
   },
   {
    "duration": 95,
    "start_time": "2024-09-28T05:17:28.379Z"
   },
   {
    "duration": 10,
    "start_time": "2024-09-28T05:17:28.476Z"
   },
   {
    "duration": 25,
    "start_time": "2024-09-28T05:17:28.489Z"
   },
   {
    "duration": 23,
    "start_time": "2024-09-28T05:17:28.515Z"
   },
   {
    "duration": 29,
    "start_time": "2024-09-28T05:17:28.539Z"
   },
   {
    "duration": 755,
    "start_time": "2024-09-28T21:42:24.872Z"
   },
   {
    "duration": 112,
    "start_time": "2024-09-28T21:42:25.629Z"
   },
   {
    "duration": 11,
    "start_time": "2024-09-28T21:42:25.742Z"
   },
   {
    "duration": 27,
    "start_time": "2024-09-28T21:42:25.755Z"
   },
   {
    "duration": 27,
    "start_time": "2024-09-28T21:42:25.784Z"
   },
   {
    "duration": 34,
    "start_time": "2024-09-28T21:42:25.813Z"
   },
   {
    "duration": 105,
    "start_time": "2024-09-28T21:42:25.849Z"
   },
   {
    "duration": 11,
    "start_time": "2024-09-28T21:42:25.957Z"
   },
   {
    "duration": 41,
    "start_time": "2024-09-28T21:42:25.971Z"
   },
   {
    "duration": 8,
    "start_time": "2024-09-28T21:42:26.014Z"
   },
   {
    "duration": 33,
    "start_time": "2024-09-28T21:42:26.023Z"
   },
   {
    "duration": 98,
    "start_time": "2024-09-28T21:42:26.058Z"
   },
   {
    "duration": 11,
    "start_time": "2024-09-28T21:42:26.158Z"
   },
   {
    "duration": 38,
    "start_time": "2024-09-28T21:42:26.172Z"
   },
   {
    "duration": 7,
    "start_time": "2024-09-28T21:42:26.212Z"
   },
   {
    "duration": 30,
    "start_time": "2024-09-28T21:42:26.220Z"
   },
   {
    "duration": 11,
    "start_time": "2024-09-28T21:42:26.252Z"
   },
   {
    "duration": 250,
    "start_time": "2024-09-28T23:01:46.286Z"
   },
   {
    "duration": 4,
    "start_time": "2024-09-28T23:01:57.862Z"
   },
   {
    "duration": 3,
    "start_time": "2024-09-28T23:02:03.435Z"
   },
   {
    "duration": 2,
    "start_time": "2024-09-28T23:02:26.841Z"
   },
   {
    "duration": 3,
    "start_time": "2024-09-28T23:04:59.800Z"
   },
   {
    "duration": 832,
    "start_time": "2024-09-30T23:44:46.536Z"
   },
   {
    "duration": 2,
    "start_time": "2024-10-01T03:00:56.365Z"
   },
   {
    "duration": 133,
    "start_time": "2024-10-01T03:00:56.370Z"
   },
   {
    "duration": 11,
    "start_time": "2024-10-01T03:00:56.504Z"
   },
   {
    "duration": 32,
    "start_time": "2024-10-01T03:00:56.517Z"
   },
   {
    "duration": 8,
    "start_time": "2024-10-01T03:00:56.551Z"
   },
   {
    "duration": 33,
    "start_time": "2024-10-01T03:00:56.561Z"
   },
   {
    "duration": 121,
    "start_time": "2024-10-01T03:00:56.595Z"
   },
   {
    "duration": 10,
    "start_time": "2024-10-01T03:00:56.718Z"
   },
   {
    "duration": 25,
    "start_time": "2024-10-01T03:00:56.730Z"
   },
   {
    "duration": 9,
    "start_time": "2024-10-01T03:00:56.757Z"
   },
   {
    "duration": 31,
    "start_time": "2024-10-01T03:00:56.768Z"
   },
   {
    "duration": 104,
    "start_time": "2024-10-01T03:00:56.800Z"
   },
   {
    "duration": 11,
    "start_time": "2024-10-01T03:00:56.906Z"
   },
   {
    "duration": 25,
    "start_time": "2024-10-01T03:00:56.931Z"
   },
   {
    "duration": 8,
    "start_time": "2024-10-01T03:00:56.959Z"
   },
   {
    "duration": 29,
    "start_time": "2024-10-01T03:00:56.969Z"
   },
   {
    "duration": 32,
    "start_time": "2024-10-01T03:00:57.000Z"
   },
   {
    "duration": 3,
    "start_time": "2024-10-01T03:00:57.035Z"
   },
   {
    "duration": 239,
    "start_time": "2024-10-01T03:00:57.040Z"
   },
   {
    "duration": 99,
    "start_time": "2024-10-01T03:01:38.881Z"
   },
   {
    "duration": 86,
    "start_time": "2024-10-01T03:01:49.281Z"
   },
   {
    "duration": 80,
    "start_time": "2024-10-01T03:03:14.545Z"
   },
   {
    "duration": 116,
    "start_time": "2024-10-01T03:03:24.127Z"
   },
   {
    "duration": 116,
    "start_time": "2024-10-01T03:03:26.109Z"
   },
   {
    "duration": 118,
    "start_time": "2024-10-01T03:03:36.503Z"
   },
   {
    "duration": 3,
    "start_time": "2024-10-01T03:03:58.843Z"
   },
   {
    "duration": 83,
    "start_time": "2024-10-01T03:03:58.848Z"
   },
   {
    "duration": 11,
    "start_time": "2024-10-01T03:03:58.933Z"
   },
   {
    "duration": 26,
    "start_time": "2024-10-01T03:03:58.945Z"
   },
   {
    "duration": 8,
    "start_time": "2024-10-01T03:03:58.973Z"
   },
   {
    "duration": 56,
    "start_time": "2024-10-01T03:03:58.983Z"
   },
   {
    "duration": 80,
    "start_time": "2024-10-01T03:03:59.041Z"
   },
   {
    "duration": 18,
    "start_time": "2024-10-01T03:03:59.122Z"
   },
   {
    "duration": 25,
    "start_time": "2024-10-01T03:03:59.142Z"
   },
   {
    "duration": 7,
    "start_time": "2024-10-01T03:03:59.169Z"
   },
   {
    "duration": 54,
    "start_time": "2024-10-01T03:03:59.179Z"
   },
   {
    "duration": 81,
    "start_time": "2024-10-01T03:03:59.235Z"
   },
   {
    "duration": 24,
    "start_time": "2024-10-01T03:03:59.317Z"
   },
   {
    "duration": 25,
    "start_time": "2024-10-01T03:03:59.344Z"
   },
   {
    "duration": 11,
    "start_time": "2024-10-01T03:03:59.371Z"
   },
   {
    "duration": 54,
    "start_time": "2024-10-01T03:03:59.384Z"
   },
   {
    "duration": 79,
    "start_time": "2024-10-01T03:04:09.314Z"
   },
   {
    "duration": 2,
    "start_time": "2024-10-01T03:04:15.326Z"
   },
   {
    "duration": 83,
    "start_time": "2024-10-01T03:04:15.330Z"
   },
   {
    "duration": 20,
    "start_time": "2024-10-01T03:04:15.414Z"
   },
   {
    "duration": 24,
    "start_time": "2024-10-01T03:04:15.436Z"
   },
   {
    "duration": 7,
    "start_time": "2024-10-01T03:04:15.463Z"
   },
   {
    "duration": 30,
    "start_time": "2024-10-01T03:04:15.472Z"
   },
   {
    "duration": 81,
    "start_time": "2024-10-01T03:04:15.532Z"
   },
   {
    "duration": 19,
    "start_time": "2024-10-01T03:04:15.615Z"
   },
   {
    "duration": 25,
    "start_time": "2024-10-01T03:04:15.635Z"
   },
   {
    "duration": 8,
    "start_time": "2024-10-01T03:04:15.661Z"
   },
   {
    "duration": 29,
    "start_time": "2024-10-01T03:04:15.671Z"
   },
   {
    "duration": 104,
    "start_time": "2024-10-01T03:04:15.701Z"
   },
   {
    "duration": 11,
    "start_time": "2024-10-01T03:04:15.808Z"
   },
   {
    "duration": 34,
    "start_time": "2024-10-01T03:04:15.820Z"
   },
   {
    "duration": 8,
    "start_time": "2024-10-01T03:04:15.857Z"
   },
   {
    "duration": 29,
    "start_time": "2024-10-01T03:04:15.866Z"
   },
   {
    "duration": 7,
    "start_time": "2024-10-01T03:04:15.897Z"
   },
   {
    "duration": 27,
    "start_time": "2024-10-01T03:04:15.906Z"
   },
   {
    "duration": 98,
    "start_time": "2024-10-01T03:04:15.935Z"
   },
   {
    "duration": 74,
    "start_time": "2024-10-01T03:04:27.583Z"
   },
   {
    "duration": 103,
    "start_time": "2024-10-01T03:04:47.553Z"
   },
   {
    "duration": 138,
    "start_time": "2024-10-01T03:04:56.695Z"
   },
   {
    "duration": 3,
    "start_time": "2024-10-01T08:15:06.228Z"
   },
   {
    "duration": 82,
    "start_time": "2024-10-01T08:15:06.233Z"
   },
   {
    "duration": 19,
    "start_time": "2024-10-01T08:15:06.317Z"
   },
   {
    "duration": 27,
    "start_time": "2024-10-01T08:15:06.337Z"
   },
   {
    "duration": 8,
    "start_time": "2024-10-01T08:15:06.367Z"
   },
   {
    "duration": 30,
    "start_time": "2024-10-01T08:15:06.377Z"
   },
   {
    "duration": 80,
    "start_time": "2024-10-01T08:15:06.431Z"
   },
   {
    "duration": 18,
    "start_time": "2024-10-01T08:15:06.513Z"
   },
   {
    "duration": 27,
    "start_time": "2024-10-01T08:15:06.533Z"
   },
   {
    "duration": 8,
    "start_time": "2024-10-01T08:15:06.561Z"
   },
   {
    "duration": 27,
    "start_time": "2024-10-01T08:15:06.571Z"
   },
   {
    "duration": 121,
    "start_time": "2024-10-01T08:15:06.600Z"
   },
   {
    "duration": 10,
    "start_time": "2024-10-01T08:15:06.723Z"
   },
   {
    "duration": 25,
    "start_time": "2024-10-01T08:15:06.736Z"
   },
   {
    "duration": 7,
    "start_time": "2024-10-01T08:15:06.763Z"
   },
   {
    "duration": 32,
    "start_time": "2024-10-01T08:15:06.772Z"
   },
   {
    "duration": 32,
    "start_time": "2024-10-01T08:15:06.806Z"
   },
   {
    "duration": 3,
    "start_time": "2024-10-01T08:15:06.840Z"
   },
   {
    "duration": 188,
    "start_time": "2024-10-01T08:15:06.845Z"
   },
   {
    "duration": 3,
    "start_time": "2024-10-01T08:17:17.588Z"
   },
   {
    "duration": 5,
    "start_time": "2024-10-01T18:46:30.904Z"
   },
   {
    "duration": 782,
    "start_time": "2024-10-01T21:47:55.877Z"
   },
   {
    "duration": 183,
    "start_time": "2024-10-01T21:47:56.662Z"
   },
   {
    "duration": 12,
    "start_time": "2024-10-01T21:47:56.847Z"
   },
   {
    "duration": 35,
    "start_time": "2024-10-01T21:47:56.860Z"
   },
   {
    "duration": 9,
    "start_time": "2024-10-01T21:47:56.898Z"
   },
   {
    "duration": 40,
    "start_time": "2024-10-01T21:47:56.909Z"
   },
   {
    "duration": 118,
    "start_time": "2024-10-01T21:47:56.952Z"
   },
   {
    "duration": 10,
    "start_time": "2024-10-01T21:47:57.072Z"
   },
   {
    "duration": 25,
    "start_time": "2024-10-01T21:47:57.086Z"
   },
   {
    "duration": 8,
    "start_time": "2024-10-01T21:47:57.113Z"
   },
   {
    "duration": 29,
    "start_time": "2024-10-01T21:47:57.122Z"
   },
   {
    "duration": 121,
    "start_time": "2024-10-01T21:47:57.152Z"
   },
   {
    "duration": 13,
    "start_time": "2024-10-01T21:47:57.274Z"
   },
   {
    "duration": 25,
    "start_time": "2024-10-01T21:47:57.290Z"
   },
   {
    "duration": 9,
    "start_time": "2024-10-01T21:47:57.318Z"
   },
   {
    "duration": 35,
    "start_time": "2024-10-01T21:47:57.330Z"
   },
   {
    "duration": 7,
    "start_time": "2024-10-01T21:47:57.388Z"
   },
   {
    "duration": 3,
    "start_time": "2024-10-01T21:47:57.397Z"
   },
   {
    "duration": 4,
    "start_time": "2024-10-01T21:47:57.402Z"
   },
   {
    "duration": 23,
    "start_time": "2024-10-01T21:47:57.408Z"
   },
   {
    "duration": 266,
    "start_time": "2024-10-01T21:47:57.432Z"
   },
   {
    "duration": 5,
    "start_time": "2024-10-01T21:47:57.700Z"
   },
   {
    "duration": 6,
    "start_time": "2024-10-01T21:47:57.786Z"
   },
   {
    "duration": 4,
    "start_time": "2024-10-01T21:48:10.510Z"
   },
   {
    "duration": 22,
    "start_time": "2024-10-01T21:48:10.926Z"
   },
   {
    "duration": 3,
    "start_time": "2024-10-01T21:48:15.363Z"
   },
   {
    "duration": 4,
    "start_time": "2024-10-01T21:48:15.741Z"
   },
   {
    "duration": 21,
    "start_time": "2024-10-01T21:48:17.693Z"
   },
   {
    "duration": 275,
    "start_time": "2024-10-01T21:48:34.833Z"
   },
   {
    "duration": 137,
    "start_time": "2024-10-01T21:49:09.768Z"
   },
   {
    "duration": 137,
    "start_time": "2024-10-01T21:49:13.075Z"
   },
   {
    "duration": 143,
    "start_time": "2024-10-01T21:49:14.045Z"
   },
   {
    "duration": 22,
    "start_time": "2024-10-01T21:49:56.046Z"
   },
   {
    "duration": 25,
    "start_time": "2024-10-01T21:49:56.239Z"
   },
   {
    "duration": 4,
    "start_time": "2024-10-02T00:56:09.373Z"
   },
   {
    "duration": 3,
    "start_time": "2024-10-02T00:56:54.704Z"
   },
   {
    "duration": 4,
    "start_time": "2024-10-02T00:56:56.550Z"
   },
   {
    "duration": 4,
    "start_time": "2024-10-02T00:56:59.958Z"
   },
   {
    "duration": 4,
    "start_time": "2024-10-02T01:01:05.906Z"
   },
   {
    "duration": 22,
    "start_time": "2024-10-02T01:01:06.192Z"
   },
   {
    "duration": 24,
    "start_time": "2024-10-02T01:01:06.641Z"
   },
   {
    "duration": 26,
    "start_time": "2024-10-02T01:01:07.003Z"
   },
   {
    "duration": 6,
    "start_time": "2024-10-02T01:01:30.333Z"
   },
   {
    "duration": 6,
    "start_time": "2024-10-02T01:01:58.348Z"
   },
   {
    "duration": 3,
    "start_time": "2024-10-02T01:03:18.893Z"
   },
   {
    "duration": 19,
    "start_time": "2024-10-02T01:03:38.137Z"
   },
   {
    "duration": 3,
    "start_time": "2024-10-02T01:03:56.319Z"
   },
   {
    "duration": 22,
    "start_time": "2024-10-02T01:03:56.661Z"
   },
   {
    "duration": 3,
    "start_time": "2024-10-02T01:04:20.231Z"
   },
   {
    "duration": 293,
    "start_time": "2024-10-02T01:04:20.735Z"
   },
   {
    "duration": 3,
    "start_time": "2024-10-02T01:04:30.768Z"
   },
   {
    "duration": 8,
    "start_time": "2024-10-02T01:04:31.741Z"
   },
   {
    "duration": 4,
    "start_time": "2024-10-02T01:05:23.670Z"
   },
   {
    "duration": 5,
    "start_time": "2024-10-02T01:05:33.047Z"
   },
   {
    "duration": 9,
    "start_time": "2024-10-02T01:05:50.308Z"
   },
   {
    "duration": 7,
    "start_time": "2024-10-02T01:06:06.230Z"
   },
   {
    "duration": 8,
    "start_time": "2024-10-02T01:06:10.859Z"
   },
   {
    "duration": 5,
    "start_time": "2024-10-02T01:06:21.471Z"
   },
   {
    "duration": 6,
    "start_time": "2024-10-02T01:06:30.321Z"
   },
   {
    "duration": 5,
    "start_time": "2024-10-02T01:06:48.788Z"
   },
   {
    "duration": 8,
    "start_time": "2024-10-02T01:17:19.470Z"
   },
   {
    "duration": 8,
    "start_time": "2024-10-02T01:17:19.765Z"
   },
   {
    "duration": 6,
    "start_time": "2024-10-02T23:56:10.105Z"
   },
   {
    "duration": 187,
    "start_time": "2024-10-02T23:56:10.370Z"
   },
   {
    "duration": 11,
    "start_time": "2024-10-02T23:56:10.604Z"
   },
   {
    "duration": 11,
    "start_time": "2024-10-02T23:56:10.831Z"
   },
   {
    "duration": 745,
    "start_time": "2024-10-02T23:56:14.405Z"
   },
   {
    "duration": 124,
    "start_time": "2024-10-02T23:56:15.152Z"
   },
   {
    "duration": 11,
    "start_time": "2024-10-02T23:56:15.278Z"
   },
   {
    "duration": 25,
    "start_time": "2024-10-02T23:56:15.291Z"
   },
   {
    "duration": 28,
    "start_time": "2024-10-02T23:56:15.319Z"
   },
   {
    "duration": 32,
    "start_time": "2024-10-02T23:56:15.349Z"
   },
   {
    "duration": 111,
    "start_time": "2024-10-02T23:56:15.383Z"
   },
   {
    "duration": 11,
    "start_time": "2024-10-02T23:56:15.496Z"
   },
   {
    "duration": 36,
    "start_time": "2024-10-02T23:56:15.508Z"
   },
   {
    "duration": 7,
    "start_time": "2024-10-02T23:56:15.546Z"
   },
   {
    "duration": 31,
    "start_time": "2024-10-02T23:56:15.555Z"
   },
   {
    "duration": 122,
    "start_time": "2024-10-02T23:56:15.587Z"
   },
   {
    "duration": 11,
    "start_time": "2024-10-02T23:56:15.710Z"
   },
   {
    "duration": 37,
    "start_time": "2024-10-02T23:56:15.725Z"
   },
   {
    "duration": 8,
    "start_time": "2024-10-02T23:56:15.763Z"
   },
   {
    "duration": 29,
    "start_time": "2024-10-02T23:56:15.773Z"
   },
   {
    "duration": 8,
    "start_time": "2024-10-02T23:56:15.803Z"
   },
   {
    "duration": 3,
    "start_time": "2024-10-02T23:56:15.813Z"
   },
   {
    "duration": 5,
    "start_time": "2024-10-02T23:56:15.842Z"
   },
   {
    "duration": 29,
    "start_time": "2024-10-02T23:56:15.849Z"
   },
   {
    "duration": 76,
    "start_time": "2024-10-02T23:56:15.882Z"
   },
   {
    "duration": 99,
    "start_time": "2024-10-02T23:56:15.961Z"
   },
   {
    "duration": 3,
    "start_time": "2024-10-02T23:56:16.062Z"
   },
   {
    "duration": 7,
    "start_time": "2024-10-02T23:56:16.143Z"
   },
   {
    "duration": 5,
    "start_time": "2024-10-02T23:56:16.155Z"
   },
   {
    "duration": 3,
    "start_time": "2024-10-02T23:56:16.162Z"
   },
   {
    "duration": 7,
    "start_time": "2024-10-02T23:56:16.167Z"
   },
   {
    "duration": 72,
    "start_time": "2024-10-02T23:56:16.176Z"
   },
   {
    "duration": 7,
    "start_time": "2024-10-02T23:56:16.249Z"
   },
   {
    "duration": 4,
    "start_time": "2024-10-02T23:56:16.257Z"
   },
   {
    "duration": 92,
    "start_time": "2024-10-02T23:56:16.262Z"
   },
   {
    "duration": 0,
    "start_time": "2024-10-02T23:56:16.356Z"
   },
   {
    "duration": 0,
    "start_time": "2024-10-02T23:56:16.357Z"
   },
   {
    "duration": 3,
    "start_time": "2024-10-02T23:56:48.530Z"
   },
   {
    "duration": 595,
    "start_time": "2024-10-02T23:56:49.120Z"
   },
   {
    "duration": 592,
    "start_time": "2024-10-02T23:56:50.037Z"
   },
   {
    "duration": 576,
    "start_time": "2024-10-02T23:56:54.268Z"
   },
   {
    "duration": 4,
    "start_time": "2024-10-02T23:57:40.336Z"
   },
   {
    "duration": 576,
    "start_time": "2024-10-02T23:57:41.019Z"
   },
   {
    "duration": 616,
    "start_time": "2024-10-02T23:57:41.607Z"
   },
   {
    "duration": 581,
    "start_time": "2024-10-02T23:57:42.225Z"
   },
   {
    "duration": 3,
    "start_time": "2024-10-02T23:58:51.537Z"
   },
   {
    "duration": 573,
    "start_time": "2024-10-02T23:58:51.722Z"
   },
   {
    "duration": 610,
    "start_time": "2024-10-02T23:58:52.298Z"
   },
   {
    "duration": 582,
    "start_time": "2024-10-02T23:58:54.111Z"
   },
   {
    "duration": 574,
    "start_time": "2024-10-02T23:59:51.969Z"
   },
   {
    "duration": 594,
    "start_time": "2024-10-03T00:00:12.609Z"
   },
   {
    "duration": 575,
    "start_time": "2024-10-03T00:00:13.205Z"
   },
   {
    "duration": 569,
    "start_time": "2024-10-03T00:00:13.781Z"
   },
   {
    "duration": 3,
    "start_time": "2024-10-03T00:03:54.761Z"
   },
   {
    "duration": 2584,
    "start_time": "2024-10-03T00:03:56.382Z"
   },
   {
    "duration": 720,
    "start_time": "2024-10-03T00:03:58.970Z"
   },
   {
    "duration": 686,
    "start_time": "2024-10-03T00:03:59.692Z"
   },
   {
    "duration": 3,
    "start_time": "2024-10-03T00:10:44.823Z"
   },
   {
    "duration": 633,
    "start_time": "2024-10-03T00:10:45.051Z"
   },
   {
    "duration": 0,
    "start_time": "2024-10-03T00:10:45.686Z"
   },
   {
    "duration": 587,
    "start_time": "2024-10-03T00:10:45.762Z"
   },
   {
    "duration": 2,
    "start_time": "2024-10-03T00:10:57.389Z"
   },
   {
    "duration": 84,
    "start_time": "2024-10-03T00:10:57.394Z"
   },
   {
    "duration": 10,
    "start_time": "2024-10-03T00:10:57.480Z"
   },
   {
    "duration": 24,
    "start_time": "2024-10-03T00:10:57.492Z"
   },
   {
    "duration": 7,
    "start_time": "2024-10-03T00:10:57.518Z"
   },
   {
    "duration": 44,
    "start_time": "2024-10-03T00:10:57.527Z"
   },
   {
    "duration": 90,
    "start_time": "2024-10-03T00:10:57.573Z"
   },
   {
    "duration": 10,
    "start_time": "2024-10-03T00:10:57.665Z"
   },
   {
    "duration": 24,
    "start_time": "2024-10-03T00:10:57.677Z"
   },
   {
    "duration": 8,
    "start_time": "2024-10-03T00:10:57.702Z"
   },
   {
    "duration": 55,
    "start_time": "2024-10-03T00:10:57.711Z"
   },
   {
    "duration": 83,
    "start_time": "2024-10-03T00:10:57.768Z"
   },
   {
    "duration": 13,
    "start_time": "2024-10-03T00:10:57.853Z"
   },
   {
    "duration": 23,
    "start_time": "2024-10-03T00:10:57.870Z"
   },
   {
    "duration": 7,
    "start_time": "2024-10-03T00:10:57.895Z"
   },
   {
    "duration": 50,
    "start_time": "2024-10-03T00:10:57.904Z"
   },
   {
    "duration": 8,
    "start_time": "2024-10-03T00:10:57.955Z"
   },
   {
    "duration": 3,
    "start_time": "2024-10-03T00:10:57.965Z"
   },
   {
    "duration": 5,
    "start_time": "2024-10-03T00:10:57.969Z"
   },
   {
    "duration": 71,
    "start_time": "2024-10-03T00:10:57.975Z"
   },
   {
    "duration": 97,
    "start_time": "2024-10-03T00:10:58.048Z"
   },
   {
    "duration": 97,
    "start_time": "2024-10-03T00:10:58.147Z"
   },
   {
    "duration": 5,
    "start_time": "2024-10-03T00:10:58.249Z"
   },
   {
    "duration": 86,
    "start_time": "2024-10-03T00:10:58.257Z"
   },
   {
    "duration": 5,
    "start_time": "2024-10-03T00:10:58.344Z"
   },
   {
    "duration": 4,
    "start_time": "2024-10-03T00:10:58.351Z"
   },
   {
    "duration": 7,
    "start_time": "2024-10-03T00:10:58.356Z"
   },
   {
    "duration": 6,
    "start_time": "2024-10-03T00:10:58.365Z"
   },
   {
    "duration": 6,
    "start_time": "2024-10-03T00:10:58.373Z"
   },
   {
    "duration": 3,
    "start_time": "2024-10-03T00:10:58.382Z"
   },
   {
    "duration": 713,
    "start_time": "2024-10-03T00:10:58.387Z"
   },
   {
    "duration": 716,
    "start_time": "2024-10-03T00:10:59.102Z"
   },
   {
    "duration": 715,
    "start_time": "2024-10-03T00:10:59.820Z"
   },
   {
    "duration": 4,
    "start_time": "2024-10-03T00:12:22.682Z"
   },
   {
    "duration": 687,
    "start_time": "2024-10-03T00:12:22.940Z"
   },
   {
    "duration": 708,
    "start_time": "2024-10-03T00:12:23.805Z"
   },
   {
    "duration": 710,
    "start_time": "2024-10-03T00:12:24.515Z"
   },
   {
    "duration": 4,
    "start_time": "2024-10-03T00:13:56.668Z"
   },
   {
    "duration": 684,
    "start_time": "2024-10-03T00:13:57.099Z"
   },
   {
    "duration": 789,
    "start_time": "2024-10-03T00:13:57.785Z"
   },
   {
    "duration": 743,
    "start_time": "2024-10-03T00:13:58.577Z"
   },
   {
    "duration": 4,
    "start_time": "2024-10-03T00:14:35.832Z"
   },
   {
    "duration": 690,
    "start_time": "2024-10-03T00:14:37.570Z"
   },
   {
    "duration": 702,
    "start_time": "2024-10-03T00:14:38.263Z"
   },
   {
    "duration": 702,
    "start_time": "2024-10-03T00:14:38.967Z"
   },
   {
    "duration": 4,
    "start_time": "2024-10-03T00:15:27.906Z"
   },
   {
    "duration": 687,
    "start_time": "2024-10-03T00:15:28.595Z"
   },
   {
    "duration": 726,
    "start_time": "2024-10-03T00:15:29.284Z"
   },
   {
    "duration": 709,
    "start_time": "2024-10-03T00:15:30.011Z"
   },
   {
    "duration": 3,
    "start_time": "2024-10-03T00:16:41.672Z"
   },
   {
    "duration": 681,
    "start_time": "2024-10-03T00:16:41.845Z"
   },
   {
    "duration": 687,
    "start_time": "2024-10-03T00:16:42.528Z"
   },
   {
    "duration": 698,
    "start_time": "2024-10-03T00:16:43.217Z"
   },
   {
    "duration": 4,
    "start_time": "2024-10-03T00:16:58.478Z"
   },
   {
    "duration": 708,
    "start_time": "2024-10-03T00:17:01.239Z"
   },
   {
    "duration": 688,
    "start_time": "2024-10-03T00:17:01.949Z"
   },
   {
    "duration": 687,
    "start_time": "2024-10-03T00:17:02.639Z"
   },
   {
    "duration": 4,
    "start_time": "2024-10-03T00:17:29.186Z"
   },
   {
    "duration": 764,
    "start_time": "2024-10-03T00:17:29.687Z"
   },
   {
    "duration": 709,
    "start_time": "2024-10-03T00:17:30.454Z"
   },
   {
    "duration": 705,
    "start_time": "2024-10-03T00:17:31.166Z"
   },
   {
    "duration": 4,
    "start_time": "2024-10-03T00:17:38.853Z"
   },
   {
    "duration": 690,
    "start_time": "2024-10-03T00:17:38.990Z"
   },
   {
    "duration": 711,
    "start_time": "2024-10-03T00:17:39.682Z"
   },
   {
    "duration": 740,
    "start_time": "2024-10-03T00:17:40.394Z"
   },
   {
    "duration": 738,
    "start_time": "2024-10-03T00:38:44.292Z"
   },
   {
    "duration": 82,
    "start_time": "2024-10-03T00:38:45.032Z"
   },
   {
    "duration": 11,
    "start_time": "2024-10-03T00:38:45.117Z"
   },
   {
    "duration": 38,
    "start_time": "2024-10-03T00:38:45.129Z"
   },
   {
    "duration": 10,
    "start_time": "2024-10-03T00:38:45.170Z"
   },
   {
    "duration": 34,
    "start_time": "2024-10-03T00:38:45.181Z"
   },
   {
    "duration": 94,
    "start_time": "2024-10-03T00:38:45.217Z"
   },
   {
    "duration": 11,
    "start_time": "2024-10-03T00:38:45.313Z"
   },
   {
    "duration": 38,
    "start_time": "2024-10-03T00:38:45.326Z"
   },
   {
    "duration": 7,
    "start_time": "2024-10-03T00:38:45.367Z"
   },
   {
    "duration": 29,
    "start_time": "2024-10-03T00:38:45.376Z"
   },
   {
    "duration": 102,
    "start_time": "2024-10-03T00:38:45.407Z"
   },
   {
    "duration": 10,
    "start_time": "2024-10-03T00:38:45.511Z"
   },
   {
    "duration": 38,
    "start_time": "2024-10-03T00:38:45.524Z"
   },
   {
    "duration": 8,
    "start_time": "2024-10-03T00:38:45.563Z"
   },
   {
    "duration": 31,
    "start_time": "2024-10-03T00:38:45.573Z"
   },
   {
    "duration": 7,
    "start_time": "2024-10-03T00:38:45.605Z"
   },
   {
    "duration": 3,
    "start_time": "2024-10-03T00:38:45.614Z"
   },
   {
    "duration": 26,
    "start_time": "2024-10-03T00:38:45.619Z"
   },
   {
    "duration": 26,
    "start_time": "2024-10-03T00:38:45.646Z"
   },
   {
    "duration": 78,
    "start_time": "2024-10-03T00:38:45.673Z"
   },
   {
    "duration": 95,
    "start_time": "2024-10-03T00:38:45.754Z"
   },
   {
    "duration": 3,
    "start_time": "2024-10-03T00:38:45.851Z"
   },
   {
    "duration": 8,
    "start_time": "2024-10-03T00:38:45.856Z"
   },
   {
    "duration": 78,
    "start_time": "2024-10-03T00:38:45.866Z"
   },
   {
    "duration": 3,
    "start_time": "2024-10-03T00:38:45.947Z"
   },
   {
    "duration": 6,
    "start_time": "2024-10-03T00:38:45.952Z"
   },
   {
    "duration": 6,
    "start_time": "2024-10-03T00:38:45.960Z"
   },
   {
    "duration": 7,
    "start_time": "2024-10-03T00:38:45.967Z"
   },
   {
    "duration": 4,
    "start_time": "2024-10-03T00:38:45.975Z"
   },
   {
    "duration": 873,
    "start_time": "2024-10-03T00:38:45.980Z"
   },
   {
    "duration": 737,
    "start_time": "2024-10-03T00:38:46.855Z"
   },
   {
    "duration": 702,
    "start_time": "2024-10-03T00:38:47.593Z"
   },
   {
    "duration": 832,
    "start_time": "2024-10-03T17:44:09.135Z"
   },
   {
    "duration": 129,
    "start_time": "2024-10-03T17:44:09.971Z"
   },
   {
    "duration": 12,
    "start_time": "2024-10-03T17:44:10.102Z"
   },
   {
    "duration": 38,
    "start_time": "2024-10-03T17:44:10.116Z"
   },
   {
    "duration": 8,
    "start_time": "2024-10-03T17:44:10.157Z"
   },
   {
    "duration": 31,
    "start_time": "2024-10-03T17:44:10.167Z"
   },
   {
    "duration": 129,
    "start_time": "2024-10-03T17:44:10.200Z"
   },
   {
    "duration": 10,
    "start_time": "2024-10-03T17:44:10.331Z"
   },
   {
    "duration": 24,
    "start_time": "2024-10-03T17:44:10.343Z"
   },
   {
    "duration": 9,
    "start_time": "2024-10-03T17:44:10.369Z"
   },
   {
    "duration": 38,
    "start_time": "2024-10-03T17:44:10.379Z"
   },
   {
    "duration": 169,
    "start_time": "2024-10-03T17:44:10.418Z"
   },
   {
    "duration": 13,
    "start_time": "2024-10-03T17:44:10.589Z"
   },
   {
    "duration": 36,
    "start_time": "2024-10-03T17:44:10.606Z"
   },
   {
    "duration": 13,
    "start_time": "2024-10-03T17:44:10.644Z"
   },
   {
    "duration": 41,
    "start_time": "2024-10-03T17:44:10.659Z"
   },
   {
    "duration": 9,
    "start_time": "2024-10-03T17:44:10.702Z"
   },
   {
    "duration": 6,
    "start_time": "2024-10-03T17:44:10.712Z"
   },
   {
    "duration": 25,
    "start_time": "2024-10-03T17:44:10.720Z"
   },
   {
    "duration": 23,
    "start_time": "2024-10-03T17:44:10.748Z"
   },
   {
    "duration": 21,
    "start_time": "2024-10-03T17:44:10.773Z"
   },
   {
    "duration": 71,
    "start_time": "2024-10-03T17:44:10.796Z"
   },
   {
    "duration": 10,
    "start_time": "2024-10-03T17:44:10.869Z"
   },
   {
    "duration": 63,
    "start_time": "2024-10-03T17:44:10.881Z"
   },
   {
    "duration": 7,
    "start_time": "2024-10-03T17:44:10.949Z"
   },
   {
    "duration": 3,
    "start_time": "2024-10-03T17:44:10.962Z"
   },
   {
    "duration": 8,
    "start_time": "2024-10-03T17:44:10.967Z"
   },
   {
    "duration": 6,
    "start_time": "2024-10-03T17:44:10.977Z"
   },
   {
    "duration": 6,
    "start_time": "2024-10-03T17:44:10.985Z"
   },
   {
    "duration": 4,
    "start_time": "2024-10-03T17:44:11.413Z"
   },
   {
    "duration": 102,
    "start_time": "2024-10-03T17:44:11.418Z"
   },
   {
    "duration": 22,
    "start_time": "2024-10-03T17:44:11.521Z"
   },
   {
    "duration": 25,
    "start_time": "2024-10-03T17:44:11.546Z"
   },
   {
    "duration": 8,
    "start_time": "2024-10-03T17:44:11.573Z"
   },
   {
    "duration": 30,
    "start_time": "2024-10-03T17:44:11.583Z"
   },
   {
    "duration": 102,
    "start_time": "2024-10-03T17:44:11.615Z"
   },
   {
    "duration": 14,
    "start_time": "2024-10-03T17:44:11.719Z"
   },
   {
    "duration": 37,
    "start_time": "2024-10-03T17:44:11.735Z"
   },
   {
    "duration": 8,
    "start_time": "2024-10-03T17:44:11.776Z"
   },
   {
    "duration": 27,
    "start_time": "2024-10-03T17:44:11.786Z"
   },
   {
    "duration": 122,
    "start_time": "2024-10-03T17:44:11.815Z"
   },
   {
    "duration": 13,
    "start_time": "2024-10-03T17:44:11.943Z"
   },
   {
    "duration": 34,
    "start_time": "2024-10-03T17:44:11.958Z"
   },
   {
    "duration": 10,
    "start_time": "2024-10-03T17:44:11.996Z"
   },
   {
    "duration": 50,
    "start_time": "2024-10-03T17:44:12.007Z"
   },
   {
    "duration": 8,
    "start_time": "2024-10-03T17:44:12.060Z"
   },
   {
    "duration": 3,
    "start_time": "2024-10-03T17:44:12.070Z"
   },
   {
    "duration": 4,
    "start_time": "2024-10-03T17:44:12.074Z"
   },
   {
    "duration": 26,
    "start_time": "2024-10-03T17:44:12.080Z"
   },
   {
    "duration": 110,
    "start_time": "2024-10-03T17:44:12.147Z"
   },
   {
    "duration": 99,
    "start_time": "2024-10-03T17:44:12.262Z"
   },
   {
    "duration": 7,
    "start_time": "2024-10-03T17:44:12.365Z"
   },
   {
    "duration": 77,
    "start_time": "2024-10-03T17:44:12.374Z"
   },
   {
    "duration": 10,
    "start_time": "2024-10-03T17:44:12.453Z"
   },
   {
    "duration": 3,
    "start_time": "2024-10-03T17:44:12.464Z"
   },
   {
    "duration": 7,
    "start_time": "2024-10-03T17:44:12.468Z"
   },
   {
    "duration": 8,
    "start_time": "2024-10-03T17:44:12.478Z"
   },
   {
    "duration": 59,
    "start_time": "2024-10-03T17:44:12.488Z"
   },
   {
    "duration": 5,
    "start_time": "2024-10-03T17:44:12.549Z"
   },
   {
    "duration": 2641,
    "start_time": "2024-10-03T17:44:12.556Z"
   },
   {
    "duration": 692,
    "start_time": "2024-10-03T17:44:15.199Z"
   },
   {
    "duration": 736,
    "start_time": "2024-10-03T17:44:15.893Z"
   },
   {
    "duration": 276,
    "start_time": "2024-10-03T18:02:25.157Z"
   },
   {
    "duration": 4,
    "start_time": "2024-10-03T19:10:20.620Z"
   },
   {
    "duration": 732,
    "start_time": "2024-10-03T19:10:21.311Z"
   },
   {
    "duration": 689,
    "start_time": "2024-10-03T19:10:22.568Z"
   },
   {
    "duration": 700,
    "start_time": "2024-10-03T19:10:23.671Z"
   },
   {
    "duration": 4,
    "start_time": "2024-10-03T19:18:15.406Z"
   },
   {
    "duration": 684,
    "start_time": "2024-10-03T19:18:16.081Z"
   },
   {
    "duration": 4,
    "start_time": "2024-10-03T19:18:37.321Z"
   },
   {
    "duration": 708,
    "start_time": "2024-10-03T19:18:37.845Z"
   },
   {
    "duration": 707,
    "start_time": "2024-10-03T19:18:38.555Z"
   },
   {
    "duration": 684,
    "start_time": "2024-10-03T19:18:39.264Z"
   },
   {
    "duration": 5,
    "start_time": "2024-10-03T19:20:05.017Z"
   },
   {
    "duration": 1472,
    "start_time": "2024-10-03T19:20:05.436Z"
   },
   {
    "duration": 4,
    "start_time": "2024-10-03T19:24:19.959Z"
   },
   {
    "duration": 681,
    "start_time": "2024-10-03T19:24:21.048Z"
   },
   {
    "duration": 692,
    "start_time": "2024-10-03T19:24:22.969Z"
   },
   {
    "duration": 713,
    "start_time": "2024-10-03T19:24:23.663Z"
   },
   {
    "duration": 3,
    "start_time": "2024-10-03T20:37:38.323Z"
   },
   {
    "duration": 84,
    "start_time": "2024-10-03T20:37:38.328Z"
   },
   {
    "duration": 11,
    "start_time": "2024-10-03T20:37:38.414Z"
   },
   {
    "duration": 38,
    "start_time": "2024-10-03T20:37:38.426Z"
   },
   {
    "duration": 9,
    "start_time": "2024-10-03T20:37:38.467Z"
   },
   {
    "duration": 32,
    "start_time": "2024-10-03T20:37:38.477Z"
   },
   {
    "duration": 282,
    "start_time": "2024-10-03T20:37:38.511Z"
   },
   {
    "duration": 84,
    "start_time": "2024-10-03T20:37:38.794Z"
   },
   {
    "duration": 12,
    "start_time": "2024-10-03T20:37:38.879Z"
   },
   {
    "duration": 23,
    "start_time": "2024-10-03T20:37:38.892Z"
   },
   {
    "duration": 7,
    "start_time": "2024-10-03T20:37:38.917Z"
   },
   {
    "duration": 45,
    "start_time": "2024-10-03T20:37:38.925Z"
   },
   {
    "duration": 92,
    "start_time": "2024-10-03T20:37:38.971Z"
   },
   {
    "duration": 11,
    "start_time": "2024-10-03T20:37:39.066Z"
   },
   {
    "duration": 24,
    "start_time": "2024-10-03T20:37:39.079Z"
   },
   {
    "duration": 8,
    "start_time": "2024-10-03T20:37:39.105Z"
   },
   {
    "duration": 50,
    "start_time": "2024-10-03T20:37:39.114Z"
   },
   {
    "duration": 8,
    "start_time": "2024-10-03T20:37:39.165Z"
   },
   {
    "duration": 3,
    "start_time": "2024-10-03T20:37:39.174Z"
   },
   {
    "duration": 5,
    "start_time": "2024-10-03T20:37:39.180Z"
   },
   {
    "duration": 61,
    "start_time": "2024-10-03T20:37:39.186Z"
   },
   {
    "duration": 97,
    "start_time": "2024-10-03T20:37:39.249Z"
   },
   {
    "duration": 96,
    "start_time": "2024-10-03T20:37:39.348Z"
   },
   {
    "duration": 4,
    "start_time": "2024-10-03T20:37:39.446Z"
   },
   {
    "duration": 10,
    "start_time": "2024-10-03T20:37:39.454Z"
   },
   {
    "duration": 6,
    "start_time": "2024-10-03T20:37:39.544Z"
   },
   {
    "duration": 3,
    "start_time": "2024-10-03T20:37:39.551Z"
   },
   {
    "duration": 6,
    "start_time": "2024-10-03T20:37:39.556Z"
   },
   {
    "duration": 6,
    "start_time": "2024-10-03T20:37:39.564Z"
   },
   {
    "duration": 6,
    "start_time": "2024-10-03T20:37:39.572Z"
   },
   {
    "duration": 4,
    "start_time": "2024-10-03T20:37:39.580Z"
   },
   {
    "duration": 720,
    "start_time": "2024-10-03T20:37:39.586Z"
   },
   {
    "duration": 746,
    "start_time": "2024-10-03T20:37:40.307Z"
   },
   {
    "duration": 727,
    "start_time": "2024-10-03T20:37:41.055Z"
   },
   {
    "duration": 792,
    "start_time": "2024-10-03T20:49:19.447Z"
   },
   {
    "duration": 88,
    "start_time": "2024-10-03T20:49:20.241Z"
   },
   {
    "duration": 17,
    "start_time": "2024-10-03T20:49:20.331Z"
   },
   {
    "duration": 25,
    "start_time": "2024-10-03T20:49:20.350Z"
   },
   {
    "duration": 7,
    "start_time": "2024-10-03T20:49:20.377Z"
   },
   {
    "duration": 32,
    "start_time": "2024-10-03T20:49:20.386Z"
   },
   {
    "duration": 471,
    "start_time": "2024-10-03T20:49:20.442Z"
   },
   {
    "duration": 92,
    "start_time": "2024-10-03T20:49:20.914Z"
   },
   {
    "duration": 11,
    "start_time": "2024-10-03T20:49:21.008Z"
   },
   {
    "duration": 39,
    "start_time": "2024-10-03T20:49:21.023Z"
   },
   {
    "duration": 8,
    "start_time": "2024-10-03T20:49:21.064Z"
   },
   {
    "duration": 28,
    "start_time": "2024-10-03T20:49:21.074Z"
   },
   {
    "duration": 103,
    "start_time": "2024-10-03T20:49:21.103Z"
   },
   {
    "duration": 12,
    "start_time": "2024-10-03T20:49:21.208Z"
   },
   {
    "duration": 38,
    "start_time": "2024-10-03T20:49:21.221Z"
   },
   {
    "duration": 8,
    "start_time": "2024-10-03T20:49:21.261Z"
   },
   {
    "duration": 29,
    "start_time": "2024-10-03T20:49:21.271Z"
   },
   {
    "duration": 7,
    "start_time": "2024-10-03T20:49:21.302Z"
   },
   {
    "duration": 3,
    "start_time": "2024-10-03T20:49:21.311Z"
   },
   {
    "duration": 4,
    "start_time": "2024-10-03T20:49:21.343Z"
   },
   {
    "duration": 21,
    "start_time": "2024-10-03T20:49:21.350Z"
   },
   {
    "duration": 76,
    "start_time": "2024-10-03T20:49:21.372Z"
   },
   {
    "duration": 103,
    "start_time": "2024-10-03T20:49:21.449Z"
   },
   {
    "duration": 6,
    "start_time": "2024-10-03T20:49:21.556Z"
   },
   {
    "duration": 85,
    "start_time": "2024-10-03T20:49:21.566Z"
   },
   {
    "duration": 5,
    "start_time": "2024-10-03T20:49:21.652Z"
   },
   {
    "duration": 3,
    "start_time": "2024-10-03T20:49:21.659Z"
   },
   {
    "duration": 7,
    "start_time": "2024-10-03T20:49:21.667Z"
   },
   {
    "duration": 6,
    "start_time": "2024-10-03T20:49:21.675Z"
   },
   {
    "duration": 7,
    "start_time": "2024-10-03T20:49:21.683Z"
   },
   {
    "duration": 52,
    "start_time": "2024-10-03T20:49:21.691Z"
   },
   {
    "duration": 701,
    "start_time": "2024-10-03T20:49:21.745Z"
   },
   {
    "duration": 699,
    "start_time": "2024-10-03T20:49:22.448Z"
   },
   {
    "duration": 700,
    "start_time": "2024-10-03T20:49:23.149Z"
   },
   {
    "duration": 4,
    "start_time": "2024-10-03T20:52:38.637Z"
   },
   {
    "duration": 704,
    "start_time": "2024-10-03T20:52:39.328Z"
   },
   {
    "duration": 4,
    "start_time": "2024-10-03T20:53:18.369Z"
   },
   {
    "duration": 694,
    "start_time": "2024-10-03T20:53:19.431Z"
   },
   {
    "duration": 617,
    "start_time": "2024-10-03T20:53:47.116Z"
   },
   {
    "duration": 41,
    "start_time": "2024-10-03T20:54:03.373Z"
   },
   {
    "duration": 752,
    "start_time": "2024-10-03T20:54:19.801Z"
   },
   {
    "duration": 88,
    "start_time": "2024-10-03T20:54:21.166Z"
   },
   {
    "duration": 12,
    "start_time": "2024-10-03T20:54:21.337Z"
   },
   {
    "duration": 27,
    "start_time": "2024-10-03T20:54:21.487Z"
   },
   {
    "duration": 8,
    "start_time": "2024-10-03T20:54:27.065Z"
   },
   {
    "duration": 33,
    "start_time": "2024-10-03T20:54:27.902Z"
   },
   {
    "duration": 14,
    "start_time": "2024-10-03T20:54:39.402Z"
   },
   {
    "duration": 478,
    "start_time": "2024-10-03T20:58:39.816Z"
   },
   {
    "duration": 84,
    "start_time": "2024-10-03T20:58:41.111Z"
   },
   {
    "duration": 13,
    "start_time": "2024-10-03T20:58:41.430Z"
   },
   {
    "duration": 27,
    "start_time": "2024-10-03T20:58:41.767Z"
   },
   {
    "duration": 9,
    "start_time": "2024-10-03T20:58:43.652Z"
   },
   {
    "duration": 30,
    "start_time": "2024-10-03T20:58:44.402Z"
   },
   {
    "duration": 13,
    "start_time": "2024-10-03T20:59:01.210Z"
   },
   {
    "duration": 79,
    "start_time": "2024-10-03T20:59:05.462Z"
   },
   {
    "duration": 11,
    "start_time": "2024-10-03T20:59:05.778Z"
   },
   {
    "duration": 25,
    "start_time": "2024-10-03T20:59:06.102Z"
   },
   {
    "duration": 8,
    "start_time": "2024-10-03T20:59:06.623Z"
   },
   {
    "duration": 30,
    "start_time": "2024-10-03T20:59:08.450Z"
   },
   {
    "duration": 133,
    "start_time": "2024-10-03T20:59:19.835Z"
   },
   {
    "duration": 13,
    "start_time": "2024-10-03T20:59:24.305Z"
   },
   {
    "duration": 16,
    "start_time": "2024-10-03T21:59:57.816Z"
   },
   {
    "duration": 11,
    "start_time": "2024-10-03T22:00:13.798Z"
   },
   {
    "duration": 22,
    "start_time": "2024-10-03T23:31:11.976Z"
   },
   {
    "duration": 11,
    "start_time": "2024-10-03T23:31:12.577Z"
   },
   {
    "duration": 30,
    "start_time": "2024-10-03T23:31:45.503Z"
   },
   {
    "duration": 13,
    "start_time": "2024-10-03T23:31:51.332Z"
   },
   {
    "duration": 24,
    "start_time": "2024-10-03T23:34:02.851Z"
   },
   {
    "duration": 10,
    "start_time": "2024-10-03T23:34:03.160Z"
   },
   {
    "duration": 7,
    "start_time": "2024-10-03T23:34:04.415Z"
   },
   {
    "duration": 3,
    "start_time": "2024-10-04T00:34:01.432Z"
   },
   {
    "duration": 85,
    "start_time": "2024-10-04T00:34:03.317Z"
   },
   {
    "duration": 11,
    "start_time": "2024-10-04T00:34:03.497Z"
   },
   {
    "duration": 24,
    "start_time": "2024-10-04T00:34:03.639Z"
   },
   {
    "duration": 7,
    "start_time": "2024-10-04T00:34:05.238Z"
   },
   {
    "duration": 34,
    "start_time": "2024-10-04T00:34:05.647Z"
   },
   {
    "duration": 25,
    "start_time": "2024-10-04T00:34:05.967Z"
   },
   {
    "duration": 9,
    "start_time": "2024-10-04T00:34:06.619Z"
   },
   {
    "duration": 410482,
    "start_time": "2024-10-04T00:34:44.056Z"
   },
   {
    "duration": 0,
    "start_time": "2024-10-04T00:41:34.546Z"
   },
   {
    "duration": 879,
    "start_time": "2024-10-04T00:43:23.730Z"
   },
   {
    "duration": 90,
    "start_time": "2024-10-04T00:43:24.611Z"
   },
   {
    "duration": 11,
    "start_time": "2024-10-04T00:43:24.704Z"
   },
   {
    "duration": 25,
    "start_time": "2024-10-04T00:43:25.336Z"
   },
   {
    "duration": 8,
    "start_time": "2024-10-04T00:43:25.780Z"
   },
   {
    "duration": 40,
    "start_time": "2024-10-04T00:43:26.438Z"
   },
   {
    "duration": 25,
    "start_time": "2024-10-04T00:43:27.202Z"
   },
   {
    "duration": 11,
    "start_time": "2024-10-04T00:43:27.986Z"
   },
   {
    "duration": 206,
    "start_time": "2024-10-04T00:43:29.114Z"
   },
   {
    "duration": 136,
    "start_time": "2024-10-04T00:43:33.491Z"
   },
   {
    "duration": 220,
    "start_time": "2024-10-04T00:44:21.600Z"
   },
   {
    "duration": 81,
    "start_time": "2024-10-04T00:44:25.239Z"
   },
   {
    "duration": 14,
    "start_time": "2024-10-04T00:44:25.649Z"
   },
   {
    "duration": 26,
    "start_time": "2024-10-04T00:44:26.149Z"
   },
   {
    "duration": 8,
    "start_time": "2024-10-04T00:44:26.431Z"
   },
   {
    "duration": 29,
    "start_time": "2024-10-04T00:44:26.778Z"
   },
   {
    "duration": 22,
    "start_time": "2024-10-04T00:44:27.073Z"
   },
   {
    "duration": 13,
    "start_time": "2024-10-04T00:44:27.491Z"
   },
   {
    "duration": 135,
    "start_time": "2024-10-04T00:44:27.923Z"
   },
   {
    "duration": 140,
    "start_time": "2024-10-04T00:44:49.763Z"
   },
   {
    "duration": 139,
    "start_time": "2024-10-04T00:44:57.616Z"
   },
   {
    "duration": 150,
    "start_time": "2024-10-04T00:45:01.580Z"
   },
   {
    "duration": 137,
    "start_time": "2024-10-04T00:45:07.135Z"
   },
   {
    "duration": 84,
    "start_time": "2024-10-04T00:45:13.712Z"
   },
   {
    "duration": 11,
    "start_time": "2024-10-04T00:45:13.973Z"
   },
   {
    "duration": 25,
    "start_time": "2024-10-04T00:45:14.164Z"
   },
   {
    "duration": 8,
    "start_time": "2024-10-04T00:45:14.338Z"
   },
   {
    "duration": 32,
    "start_time": "2024-10-04T00:45:14.470Z"
   },
   {
    "duration": 21,
    "start_time": "2024-10-04T00:45:14.924Z"
   },
   {
    "duration": 9,
    "start_time": "2024-10-04T00:45:15.324Z"
   },
   {
    "duration": 204,
    "start_time": "2024-10-04T00:50:42.310Z"
   },
   {
    "duration": 144,
    "start_time": "2024-10-04T00:51:39.424Z"
   },
   {
    "duration": 139,
    "start_time": "2024-10-04T00:52:09.940Z"
   },
   {
    "duration": 138,
    "start_time": "2024-10-04T00:53:30.078Z"
   },
   {
    "duration": 6,
    "start_time": "2024-10-04T00:53:30.909Z"
   },
   {
    "duration": 3,
    "start_time": "2024-10-04T00:53:32.663Z"
   },
   {
    "duration": 4,
    "start_time": "2024-10-04T00:53:33.374Z"
   },
   {
    "duration": 25,
    "start_time": "2024-10-04T00:53:36.546Z"
   },
   {
    "duration": 23,
    "start_time": "2024-10-04T00:53:36.805Z"
   },
   {
    "duration": 20,
    "start_time": "2024-10-04T00:53:37.003Z"
   },
   {
    "duration": 5,
    "start_time": "2024-10-04T01:05:13.762Z"
   },
   {
    "duration": 4,
    "start_time": "2024-10-04T01:05:23.234Z"
   },
   {
    "duration": 37,
    "start_time": "2024-10-04T01:05:25.436Z"
   },
   {
    "duration": 33,
    "start_time": "2024-10-04T01:05:25.656Z"
   },
   {
    "duration": 34,
    "start_time": "2024-10-04T01:05:26.124Z"
   },
   {
    "duration": 4,
    "start_time": "2024-10-04T01:05:47.236Z"
   },
   {
    "duration": 23,
    "start_time": "2024-10-04T01:05:48.376Z"
   },
   {
    "duration": 23,
    "start_time": "2024-10-04T01:05:48.788Z"
   },
   {
    "duration": 24,
    "start_time": "2024-10-04T01:05:49.140Z"
   },
   {
    "duration": 3,
    "start_time": "2024-10-04T01:22:43.893Z"
   },
   {
    "duration": 4,
    "start_time": "2024-10-04T01:28:19.075Z"
   },
   {
    "duration": 23,
    "start_time": "2024-10-04T01:28:25.924Z"
   },
   {
    "duration": 32,
    "start_time": "2024-10-04T01:28:26.549Z"
   },
   {
    "duration": 22,
    "start_time": "2024-10-04T01:28:26.799Z"
   },
   {
    "duration": 5,
    "start_time": "2024-10-04T02:01:28.808Z"
   },
   {
    "duration": 24,
    "start_time": "2024-10-04T02:01:29.441Z"
   },
   {
    "duration": 3,
    "start_time": "2024-10-04T02:01:34.997Z"
   },
   {
    "duration": 8,
    "start_time": "2024-10-04T02:01:36.129Z"
   },
   {
    "duration": 5,
    "start_time": "2024-10-04T02:01:38.057Z"
   },
   {
    "duration": 3,
    "start_time": "2024-10-04T02:01:38.551Z"
   },
   {
    "duration": 8,
    "start_time": "2024-10-04T02:01:39.650Z"
   },
   {
    "duration": 8,
    "start_time": "2024-10-04T02:01:40.104Z"
   },
   {
    "duration": 7,
    "start_time": "2024-10-04T02:01:40.412Z"
   },
   {
    "duration": 5,
    "start_time": "2024-10-04T02:01:43.545Z"
   },
   {
    "duration": 724,
    "start_time": "2024-10-04T02:01:44.414Z"
   },
   {
    "duration": 713,
    "start_time": "2024-10-04T02:01:45.799Z"
   },
   {
    "duration": 734,
    "start_time": "2024-10-04T02:01:48.936Z"
   },
   {
    "duration": 3,
    "start_time": "2024-10-04T05:49:43.724Z"
   }
  ],
  "kernelspec": {
   "display_name": "Python 3 (ipykernel)",
   "language": "python",
   "name": "python3"
  },
  "language_info": {
   "codemirror_mode": {
    "name": "ipython",
    "version": 3
   },
   "file_extension": ".py",
   "mimetype": "text/x-python",
   "name": "python",
   "nbconvert_exporter": "python",
   "pygments_lexer": "ipython3",
   "version": "3.9.19"
  },
  "toc": {
   "base_numbering": 1,
   "nav_menu": {},
   "number_sections": true,
   "sideBar": true,
   "skip_h1_title": true,
   "title_cell": "Table of Contents",
   "title_sidebar": "Contents",
   "toc_cell": false,
   "toc_position": {
    "height": "calc(100% - 180px)",
    "left": "10px",
    "top": "150px",
    "width": "338.797px"
   },
   "toc_section_display": true,
   "toc_window_display": false
  }
 },
 "nbformat": 4,
 "nbformat_minor": 2
}
